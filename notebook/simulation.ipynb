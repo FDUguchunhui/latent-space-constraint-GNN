{
 "cells": [
  {
   "cell_type": "code",
   "execution_count": 25,
   "id": "initial_id",
   "metadata": {
    "collapsed": true,
    "ExecuteTime": {
     "end_time": "2024-05-14T20:19:19.816106Z",
     "start_time": "2024-05-14T20:19:19.699040Z"
    }
   },
   "outputs": [
    {
     "data": {
      "text/plain": "<module 'src.cgvae.data_transform' from '/Users/cgu3/Documents/conditional-graph-variational-autoencoder/src/cgvae/data_transform.py'>"
     },
     "execution_count": 25,
     "metadata": {},
     "output_type": "execute_result"
    },
    {
     "data": {
      "text/plain": "<module 'src.cgvae.baseline' from '/Users/cgu3/Documents/conditional-graph-variational-autoencoder/src/cgvae/baseline.py'>"
     },
     "execution_count": 25,
     "metadata": {},
     "output_type": "execute_result"
    },
    {
     "data": {
      "text/plain": "<module 'src.cgvae' from '/Users/cgu3/Documents/conditional-graph-variational-autoencoder/src/cgvae/__init__.py'>"
     },
     "execution_count": 25,
     "metadata": {},
     "output_type": "execute_result"
    }
   ],
   "source": [
    "\n",
    "import torch_geometric as pyg\n",
    "import src.data_transform\n",
    "import importlib\n",
    "importlib.reload(src.cgvae.data_transform)\n",
    "from src.data_transform import get_data\n",
    "import src.model.baseline\n",
    "importlib.reload(src.cgvae.baseline)\n",
    "import  src.model\n",
    "importlib.reload(src.cgvae)\n",
    "\n",
    "from IPython.core.interactiveshell import InteractiveShell\n",
    "InteractiveShell.ast_node_interactivity = \"all\""
   ]
  },
  {
   "cell_type": "code",
   "outputs": [
    {
     "name": "stdout",
     "output_type": "stream",
     "text": [
      "/Users/cgu3/Documents/conditional-graph-variational-autoencoder\n"
     ]
    }
   ],
   "source": [
    "%cd /Users/cgu3/Documents/conditional-graph-variational-autoencoder"
   ],
   "metadata": {
    "collapsed": false,
    "ExecuteTime": {
     "end_time": "2024-05-14T20:19:21.640849Z",
     "start_time": "2024-05-14T20:19:21.628187Z"
    }
   },
   "id": "8a0ed67215e2172d",
   "execution_count": 26
  },
  {
   "cell_type": "code",
   "outputs": [],
   "source": [
    "# open ipython terminal\n",
    "%qtconsole"
   ],
   "metadata": {
    "collapsed": false,
    "ExecuteTime": {
     "end_time": "2024-05-14T20:19:22.153748Z",
     "start_time": "2024-05-14T20:19:22.085280Z"
    }
   },
   "id": "c3e82018f0c06981",
   "execution_count": 27
  },
  {
   "cell_type": "code",
   "outputs": [],
   "source": [
    "SPLIT_RATIO = 0.5\n",
    "dataloader, dataset_size = get_data('../data', 'KarateClub', mask_ratio=0.5, neg_edge_ratio=1.0)\n",
    "# dataloader, dataset_size = get_data('../data', 'Cora', ratio=SPLIT_RATIO,  random_seed=0)"
   ],
   "metadata": {
    "collapsed": false,
    "ExecuteTime": {
     "end_time": "2024-05-14T20:19:22.439824Z",
     "start_time": "2024-05-14T20:19:22.403061Z"
    }
   },
   "id": "6a1fac3f8cfdcba1",
   "execution_count": 28
  },
  {
   "cell_type": "code",
   "outputs": [],
   "source": [
    "data = next(iter(dataloader))"
   ],
   "metadata": {
    "collapsed": false,
    "ExecuteTime": {
     "end_time": "2024-05-14T20:19:22.935578Z",
     "start_time": "2024-05-14T20:19:22.875342Z"
    }
   },
   "id": "570ee53efaaa13a0",
   "execution_count": 29
  },
  {
   "cell_type": "code",
   "outputs": [],
   "source": [
    "dim = data['input'].x.shape[0]\n",
    "split = int(dim * SPLIT_RATIO)"
   ],
   "metadata": {
    "collapsed": false,
    "ExecuteTime": {
     "end_time": "2024-05-14T20:19:23.249002Z",
     "start_time": "2024-05-14T20:19:23.246752Z"
    }
   },
   "id": "e1c20f06f51ba0c7",
   "execution_count": 30
  },
  {
   "cell_type": "code",
   "outputs": [],
   "source": [
    "# create graph from edge_index\n",
    "import networkx as nx\n",
    "input_graph = pyg.utils.to_networkx(data['input'])\n",
    "output_graph = pyg.utils.to_networkx(data['output'])"
   ],
   "metadata": {
    "collapsed": false,
    "ExecuteTime": {
     "end_time": "2024-05-14T20:19:23.552825Z",
     "start_time": "2024-05-14T20:19:23.548413Z"
    }
   },
   "id": "a1ddfdceeecfe7e",
   "execution_count": 31
  },
  {
   "cell_type": "code",
   "outputs": [],
   "source": [
    "path = dict(nx.shortest_path_length(input_graph))"
   ],
   "metadata": {
    "collapsed": false,
    "ExecuteTime": {
     "end_time": "2024-05-08T22:06:00.246894Z",
     "start_time": "2024-05-08T22:06:00.244936Z"
    }
   },
   "id": "b96fc44254468922",
   "execution_count": 11
  },
  {
   "cell_type": "markdown",
   "source": [],
   "metadata": {
    "collapsed": false
   },
   "id": "b98ab77aa1700267"
  },
  {
   "cell_type": "code",
   "outputs": [],
   "source": [
    "# add edge between A and B if the distance between A and B is less than 3 with probability 0.5\n",
    "\n",
    "expanded_input_graph = input_graph\n",
    "\n",
    "for i in range(dim):\n",
    "    for j in range(dim):\n",
    "        # if  key-pair exists\n",
    "        if path.get(i) is not None and path[i].get(j) is not None:\n",
    "            if i != j and path[i][j]  == 2:\n",
    "                # if np.random.rand() < 0.1:\n",
    "                    expanded_input_graph.add_edge(i, j)\n",
    "            \n",
    "            if i != j and path[i][j] == 3:\n",
    "                # if np.random.rand() < 0.01:\n",
    "                    expanded_input_graph.add_edge(i, j)\n",
    "\n",
    "# make sure the graph is undirected\n",
    "expanded_input_graph = expanded_input_graph.to_undirected()"
   ],
   "metadata": {
    "collapsed": false,
    "ExecuteTime": {
     "end_time": "2024-05-14T20:19:32.298763Z",
     "start_time": "2024-05-14T20:19:32.284108Z"
    }
   },
   "id": "89720924fca28c71",
   "execution_count": 32
  },
  {
   "cell_type": "code",
   "outputs": [],
   "source": "# plot the graph adjacency matrix\n",
   "metadata": {
    "collapsed": false,
    "ExecuteTime": {
     "end_time": "2024-05-14T20:19:32.731314Z",
     "start_time": "2024-05-14T20:19:32.728151Z"
    }
   },
   "id": "862fd6f0745309c0",
   "execution_count": 33
  },
  {
   "cell_type": "code",
   "outputs": [
    {
     "data": {
      "text/plain": "<Figure size 1000x1000 with 0 Axes>"
     },
     "execution_count": 34,
     "metadata": {},
     "output_type": "execute_result"
    },
    {
     "data": {
      "text/plain": "<Axes: >"
     },
     "execution_count": 34,
     "metadata": {},
     "output_type": "execute_result"
    },
    {
     "data": {
      "text/plain": "Text(0.5, 1.0, 'Output Adjacency Matrix')"
     },
     "execution_count": 34,
     "metadata": {},
     "output_type": "execute_result"
    },
    {
     "data": {
      "text/plain": "<matplotlib.image.AxesImage at 0x2c3392800>"
     },
     "execution_count": 34,
     "metadata": {},
     "output_type": "execute_result"
    },
    {
     "data": {
      "text/plain": "<Axes: >"
     },
     "execution_count": 34,
     "metadata": {},
     "output_type": "execute_result"
    },
    {
     "data": {
      "text/plain": "Text(0.5, 1.0, 'Combined Adjacency Matrix')"
     },
     "execution_count": 34,
     "metadata": {},
     "output_type": "execute_result"
    },
    {
     "data": {
      "text/plain": "<matplotlib.image.AxesImage at 0x2c3377e50>"
     },
     "execution_count": 34,
     "metadata": {},
     "output_type": "execute_result"
    },
    {
     "data": {
      "text/plain": "<Axes: >"
     },
     "execution_count": 34,
     "metadata": {},
     "output_type": "execute_result"
    },
    {
     "data": {
      "text/plain": "Text(0.5, 1.0, 'Expanded Input Adjacency Matrix')"
     },
     "execution_count": 34,
     "metadata": {},
     "output_type": "execute_result"
    },
    {
     "data": {
      "text/plain": "<matplotlib.image.AxesImage at 0x2c33a19f0>"
     },
     "execution_count": 34,
     "metadata": {},
     "output_type": "execute_result"
    },
    {
     "data": {
      "text/plain": "<Figure size 1000x1000 with 3 Axes>",
      "image/png": "[encoded data removed]"
     },
     "metadata": {},
     "output_type": "display_data"
    }
   ],
   "source": [
    "import matplotlib.pyplot as plt\n",
    "import numpy as np\n",
    "\n",
    "# Convert the adjacency matrices to dense format\n",
    "expanded_input_adj_matrix_dense = np.array(nx.adjacency_matrix(expanded_input_graph).todense())\n",
    "output_adjacency_matrix_dense = np.array(nx.adjacency_matrix(output_graph).todense())\n",
    "\n",
    "# Create a combined adjacency matrix\n",
    "combined_adj_matrix = expanded_input_adj_matrix_dense + output_adjacency_matrix_dense\n",
    "\n",
    "# Reassign value 1 if the value is greater than 1\n",
    "combined_adj_matrix[combined_adj_matrix > 1] = 1\n",
    "\n",
    "# Create a new figure\n",
    "plt.figure(figsize=(10, 10))\n",
    "\n",
    "# Plot the output adjacency matrix\n",
    "plt.subplot(2, 2, 2)\n",
    "plt.title('Output Adjacency Matrix')\n",
    "plt.matshow(output_adjacency_matrix_dense[:split, :split], cmap='Greys', fignum=False)\n",
    "\n",
    "# Plot the combined adjacency matrix\n",
    "plt.subplot(2, 2, 1)\n",
    "plt.title('Combined Adjacency Matrix')\n",
    "plt.matshow(combined_adj_matrix[:split, :split], cmap='Greys', fignum=False)\n",
    "\n",
    "plt.subplot(2, 2, 3)\n",
    "plt.title('Expanded Input Adjacency Matrix')\n",
    "plt.matshow(expanded_input_adj_matrix_dense[:split, :split],  cmap='Greys', fignum=False)\n",
    "\n",
    "# Display the plots\n",
    "plt.show()"
   ],
   "metadata": {
    "collapsed": false,
    "ExecuteTime": {
     "end_time": "2024-05-14T20:19:33.438196Z",
     "start_time": "2024-05-14T20:19:33.026433Z"
    }
   },
   "id": "c9d288a20a39adfb",
   "execution_count": 34
  },
  {
   "cell_type": "code",
   "outputs": [
    {
     "data": {
      "text/plain": "70"
     },
     "execution_count": 35,
     "metadata": {},
     "output_type": "execute_result"
    },
    {
     "data": {
      "text/plain": "56"
     },
     "execution_count": 35,
     "metadata": {},
     "output_type": "execute_result"
    },
    {
     "data": {
      "text/plain": "0.2571428571428571"
     },
     "execution_count": 35,
     "metadata": {},
     "output_type": "execute_result"
    }
   ],
   "source": [
    "# calculate proportions of values in the output adjacency matrix that are 1\n",
    "np.sum(output_adjacency_matrix_dense[:split, :split] == 1)\n",
    "np.sum(expanded_input_adj_matrix_dense[:split, :split] == 1)\n",
    "\n",
    "output_adjacency_matrix_dense_split = output_adjacency_matrix_dense[:split, :split]\n",
    "expanded_input_adj_matrix_dense_split = expanded_input_adj_matrix_dense[:split, :split]\n",
    "# a significant portion of direct connetions are also in indirect connections within 3 hops\n",
    "np.mean(output_adjacency_matrix_dense_split[np.where(output_adjacency_matrix_dense_split == 1)] == expanded_input_adj_matrix_dense_split[np.where(output_adjacency_matrix_dense_split == 1)])"
   ],
   "metadata": {
    "collapsed": false,
    "ExecuteTime": {
     "end_time": "2024-05-14T20:19:33.444478Z",
     "start_time": "2024-05-14T20:19:33.439203Z"
    }
   },
   "id": "90753a177bd1980c",
   "execution_count": 35
  },
  {
   "cell_type": "code",
   "outputs": [],
   "source": [
    "# # remove standalone pixels\n",
    "# from scipy import ndimage\n",
    "# erosion = ndimage.binary_erosion(expanded_input_adj_matrix_dense[:split, :split], structure=np.eye(2)).astype(int)\n",
    "# plt.matshow(erosion, cmap='Greys')"
   ],
   "metadata": {
    "collapsed": false,
    "ExecuteTime": {
     "end_time": "2024-05-14T20:19:34.096039Z",
     "start_time": "2024-05-14T20:19:34.092334Z"
    }
   },
   "id": "e24ac3268836cf41",
   "execution_count": 36
  },
  {
   "cell_type": "code",
   "outputs": [],
   "source": [
    "# get length of the adjacency matrix\n",
    "combined_adj_matrix = combined_adj_matrix\n",
    "dim = combined_adj_matrix.shape[0]\n",
    "mask = np.ones((dim, dim), dtype=bool)\n",
    "mask[:  int(dim / 2) ,:int(dim  /2)] = 0\n",
    "combined_adj_matrix[mask] = 0"
   ],
   "metadata": {
    "collapsed": false,
    "ExecuteTime": {
     "end_time": "2024-05-14T20:19:34.541232Z",
     "start_time": "2024-05-14T20:19:34.538915Z"
    }
   },
   "id": "c91c87dc535999ea",
   "execution_count": 37
  },
  {
   "cell_type": "code",
   "outputs": [
    {
     "data": {
      "text/plain": "<matplotlib.image.AxesImage at 0x2c35a2950>"
     },
     "execution_count": 38,
     "metadata": {},
     "output_type": "execute_result"
    },
    {
     "data": {
      "text/plain": "<Figure size 480x480 with 1 Axes>",
      "image/png": "[encoded data removed]"
     },
     "metadata": {},
     "output_type": "display_data"
    }
   ],
   "source": [
    "plt.matshow(combined_adj_matrix, cmap='Greys')"
   ],
   "metadata": {
    "collapsed": false,
    "ExecuteTime": {
     "end_time": "2024-05-14T20:19:35.157145Z",
     "start_time": "2024-05-14T20:19:35.082324Z"
    }
   },
   "id": "fc08a3066a03015e",
   "execution_count": 38
  },
  {
   "cell_type": "code",
   "outputs": [],
   "source": [
    "# get the input adjacency matrix\n",
    "input_graph = pyg.utils.to_networkx(data['input'])\n",
    "input_adj_matrix = nx.adjacency_matrix(input_graph)"
   ],
   "metadata": {
    "collapsed": false,
    "ExecuteTime": {
     "end_time": "2024-05-14T20:19:35.671742Z",
     "start_time": "2024-05-14T20:19:35.669008Z"
    }
   },
   "id": "d3d3665d7bff1cc",
   "execution_count": 39
  },
  {
   "cell_type": "code",
   "outputs": [
    {
     "data": {
      "text/plain": "<matplotlib.image.AxesImage at 0x2c3617280>"
     },
     "execution_count": 40,
     "metadata": {},
     "output_type": "execute_result"
    },
    {
     "data": {
      "text/plain": "<Figure size 480x480 with 1 Axes>",
      "image/png": "[encoded data removed]"
     },
     "metadata": {},
     "output_type": "display_data"
    }
   ],
   "source": [
    "plt.matshow(input_adj_matrix.todense(), cmap='Greys')"
   ],
   "metadata": {
    "collapsed": false,
    "ExecuteTime": {
     "end_time": "2024-05-14T20:19:36.115943Z",
     "start_time": "2024-05-14T20:19:36.043168Z"
    }
   },
   "id": "68914074c16af7df",
   "execution_count": 40
  },
  {
   "cell_type": "code",
   "outputs": [
    {
     "data": {
      "text/plain": "<matplotlib.image.AxesImage at 0x2c368ed40>"
     },
     "execution_count": 41,
     "metadata": {},
     "output_type": "execute_result"
    },
    {
     "data": {
      "text/plain": "<Figure size 480x480 with 1 Axes>",
      "image/png": "[encoded data removed]"
     },
     "metadata": {},
     "output_type": "display_data"
    }
   ],
   "source": [
    "input_combined_adj_matrix = combined_adj_matrix + input_adj_matrix.todense()\n",
    "plt.matshow(input_combined_adj_matrix, cmap='Greys')"
   ],
   "metadata": {
    "collapsed": false,
    "ExecuteTime": {
     "end_time": "2024-05-14T20:19:36.497254Z",
     "start_time": "2024-05-14T20:19:36.427392Z"
    }
   },
   "id": "e083adb3b5bf1235",
   "execution_count": 41
  },
  {
   "cell_type": "code",
   "outputs": [],
   "source": [
    "# generate permutation matrix\n",
    "np.random.seed(0)\n",
    "perm = np.eye(dim, dtype=int)\n",
    "np.random.shuffle(perm)"
   ],
   "metadata": {
    "collapsed": false,
    "ExecuteTime": {
     "end_time": "2024-05-14T20:19:36.869243Z",
     "start_time": "2024-05-14T20:19:36.865438Z"
    }
   },
   "id": "c6f825fe3991b174",
   "execution_count": 42
  },
  {
   "cell_type": "code",
   "outputs": [
    {
     "data": {
      "text/plain": "<matplotlib.image.AxesImage at 0x2c370b550>"
     },
     "execution_count": 43,
     "metadata": {},
     "output_type": "execute_result"
    },
    {
     "data": {
      "text/plain": "<Figure size 480x480 with 1 Axes>",
      "image/png": "[encoded data removed]"
     },
     "metadata": {},
     "output_type": "display_data"
    }
   ],
   "source": [
    "# use permutation matrix to shuffle the adjacency matrix input_combined_adj_matrix\n",
    "shuffled_combined_adj_matrix = perm @ input_combined_adj_matrix @ perm.T\n",
    "plt.matshow(shuffled_combined_adj_matrix, cmap='Greys')"
   ],
   "metadata": {
    "collapsed": false,
    "ExecuteTime": {
     "end_time": "2024-05-14T20:19:37.600132Z",
     "start_time": "2024-05-14T20:19:37.527529Z"
    }
   },
   "id": "da2f6b3c8e03153c",
   "execution_count": 43
  },
  {
   "cell_type": "code",
   "outputs": [],
   "source": [
    "# todo: how to regularize the total number of edges in the adjacency matrix"
   ],
   "metadata": {
    "collapsed": false,
    "ExecuteTime": {
     "end_time": "2024-05-14T20:19:37.781802Z",
     "start_time": "2024-05-14T20:19:37.779662Z"
    }
   },
   "id": "b8863c2521f51738",
   "execution_count": 44
  },
  {
   "cell_type": "markdown",
   "source": [
    "random sample from multivariate norm and connect nodes based on similarity\n",
    "then random remove links in a subgraph, for removed links add random noise for nodes in two sides "
   ],
   "metadata": {
    "collapsed": false
   },
   "id": "906afd1988731810"
  },
  {
   "cell_type": "code",
   "outputs": [],
   "source": [],
   "metadata": {
    "collapsed": false
   },
   "id": "4033d626486a1b2b",
   "execution_count": null
  }
 ],
 "metadata": {
  "kernelspec": {
   "display_name": "Python 3",
   "language": "python",
   "name": "python3"
  },
  "language_info": {
   "codemirror_mode": {
    "name": "ipython",
    "version": 2
   },
   "file_extension": ".py",
   "mimetype": "text/x-python",
   "name": "python",
   "nbconvert_exporter": "python",
   "pygments_lexer": "ipython2",
   "version": "2.7.6"
  }
 },
 "nbformat": 4,
 "nbformat_minor": 5
}
