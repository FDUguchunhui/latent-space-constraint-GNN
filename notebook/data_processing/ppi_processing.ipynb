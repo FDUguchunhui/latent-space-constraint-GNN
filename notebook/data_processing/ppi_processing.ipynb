{
 "cells": [
  {
   "cell_type": "raw",
   "source": [
    " # let test the model in conditional protein-protein interaction before dive into the real data\n",
    "    # we will use the same model as the one in the paper"
   ],
   "metadata": {
    "collapsed": false
   },
   "id": "21fc571f706516e8"
  }
 ],
 "metadata": {
  "kernelspec": {
   "display_name": "Python 3",
   "language": "python",
   "name": "python3"
  },
  "language_info": {
   "codemirror_mode": {
    "name": "ipython",
    "version": 2
   },
   "file_extension": ".py",
   "mimetype": "text/x-python",
   "name": "python",
   "nbconvert_exporter": "python",
   "pygments_lexer": "ipython2",
   "version": "2.7.6"
  }
 },
 "nbformat": 4,
 "nbformat_minor": 5
}
