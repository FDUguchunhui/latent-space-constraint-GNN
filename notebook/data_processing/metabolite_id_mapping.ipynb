{
 "cells": [
  {
   "cell_type": "code",
   "execution_count": 5,
   "id": "initial_id",
   "metadata": {
    "collapsed": true,
    "ExecuteTime": {
     "end_time": "2024-04-30T19:41:00.623597Z",
     "start_time": "2024-04-30T19:41:00.618239Z"
    }
   },
   "outputs": [
    {
     "name": "stdout",
     "output_type": "stream",
     "text": [
      "/Users/cgu3/Documents/conditional-graph-variational-autoencoder\n"
     ]
    },
    {
     "data": {
      "text/plain": "'/Users/cgu3/Documents/conditional-graph-variational-autoencoder'"
     },
     "execution_count": 5,
     "metadata": {},
     "output_type": "execute_result"
    }
   ],
   "source": [
    "import torch\n",
    "import numpy as np\n",
    "import pandas as pd\n",
    "import matplotlib.pyplot as plt\n",
    "from IPython.core.interactiveshell import InteractiveShell\n",
    "InteractiveShell.ast_node_interactivity = \"all\"\n",
    "\n",
    "np.random.seed(123)\n",
    "\n",
    "%cd /Users/cgu3/Documents/conditional-graph-variational-autoencoder\n",
    "%pwd"
   ]
  },
  {
   "cell_type": "code",
   "outputs": [
    {
     "data": {
      "text/plain": "   chemical protein  experimental  prediction  database  textmining  \\\n0  91758680  Q9BZR9             0           0         0         154   \n1  91758408  Q6NTF9             0           0         0         225   \n2  91758408  Q12774             0           0         0         178   \n3  91758408  Q9Y3P4             0           0         0         225   \n4  91758408  O95140             0           0         0         162   \n\n   combined_score  \n0             154  \n1             225  \n2             178  \n3             225  \n4             162  ",
      "text/html": "<div>\n<style scoped>\n    .dataframe tbody tr th:only-of-type {\n        vertical-align: middle;\n    }\n\n    .dataframe tbody tr th {\n        vertical-align: top;\n    }\n\n    .dataframe thead th {\n        text-align: right;\n    }\n</style>\n<table border=\"1\" class=\"dataframe\">\n  <thead>\n    <tr style=\"text-align: right;\">\n      <th></th>\n      <th>chemical</th>\n      <th>protein</th>\n      <th>experimental</th>\n      <th>prediction</th>\n      <th>database</th>\n      <th>textmining</th>\n      <th>combined_score</th>\n    </tr>\n  </thead>\n  <tbody>\n    <tr>\n      <th>0</th>\n      <td>91758680</td>\n      <td>Q9BZR9</td>\n      <td>0</td>\n      <td>0</td>\n      <td>0</td>\n      <td>154</td>\n      <td>154</td>\n    </tr>\n    <tr>\n      <th>1</th>\n      <td>91758408</td>\n      <td>Q6NTF9</td>\n      <td>0</td>\n      <td>0</td>\n      <td>0</td>\n      <td>225</td>\n      <td>225</td>\n    </tr>\n    <tr>\n      <th>2</th>\n      <td>91758408</td>\n      <td>Q12774</td>\n      <td>0</td>\n      <td>0</td>\n      <td>0</td>\n      <td>178</td>\n      <td>178</td>\n    </tr>\n    <tr>\n      <th>3</th>\n      <td>91758408</td>\n      <td>Q9Y3P4</td>\n      <td>0</td>\n      <td>0</td>\n      <td>0</td>\n      <td>225</td>\n      <td>225</td>\n    </tr>\n    <tr>\n      <th>4</th>\n      <td>91758408</td>\n      <td>O95140</td>\n      <td>0</td>\n      <td>0</td>\n      <td>0</td>\n      <td>162</td>\n      <td>162</td>\n    </tr>\n  </tbody>\n</table>\n</div>"
     },
     "execution_count": 213,
     "metadata": {},
     "output_type": "execute_result"
    }
   ],
   "source": [
    "cpi = pd.read_csv('data/interactions/cpi_use_accession.csv')\n",
    "# remove row if  \"chemical\" contains \"CIDs\"\n",
    "cpi = cpi[~cpi['chemical'].str.contains('CIDs')]\n",
    "# remove \"CIDm\" part from chemical column\n",
    "cpi['chemical'] = cpi['chemical'].str.replace('CIDm', '')\n",
    "# remove leading zeros from \"chemical\" column\n",
    "cpi['chemical'] = cpi['chemical'].str.replace('^0+', '')\n",
    "# chemical column to int\n",
    "cpi['chemical'] = cpi['chemical'].astype(int)\n",
    "cpi.head()"
   ],
   "metadata": {
    "collapsed": false,
    "ExecuteTime": {
     "end_time": "2024-05-01T19:40:16.778950Z",
     "start_time": "2024-05-01T19:40:10.250270Z"
    }
   },
   "id": "7b2012b9ab03fdb1",
   "execution_count": 213
  },
  {
   "cell_type": "code",
   "outputs": [
    {
     "data": {
      "text/plain": "array([91758680, 91758408, 91758407, ...,        4,        3,        1])"
     },
     "execution_count": 214,
     "metadata": {},
     "output_type": "execute_result"
    }
   ],
   "source": [
    "# get unique chemicals\n",
    "cpi['chemical'].unique()"
   ],
   "metadata": {
    "collapsed": false,
    "ExecuteTime": {
     "end_time": "2024-05-01T19:40:16.808554Z",
     "start_time": "2024-05-01T19:40:16.780245Z"
    }
   },
   "id": "29faebff249cae67",
   "execution_count": 214
  },
  {
   "cell_type": "code",
   "outputs": [
    {
     "data": {
      "text/plain": "           HMDB_ID                                    NAME  \\\n0      HMDB0000001                       1-Methylhistidine   \n1      HMDB0000002                      1,3-Diaminopropane   \n2      HMDB0000005                      2-Ketobutyric acid   \n3      HMDB0000008                   2-Hydroxybutyric acid   \n4      HMDB0000010                        2-Methoxyestrone   \n...            ...                                     ...   \n20619  HMDB0341441                          Succinylserine   \n20620  HMDB0341442                      4-Hydroxylidocaine   \n20621  HMDB0341443                  Tryptophan N-glucoside   \n20622  HMDB0341444  6-Amino-5-formamido-1,3-dimethyluracil   \n20623  HMDB0341445             (1S,2S)-(+)-Pseudoephedrine   \n\n                                                  SMILES  \\\n0                            CN1C=NC(C[C@H](N)C(O)=O)=C1   \n1                                                  NCCCN   \n2                                          CCC(=O)C(O)=O   \n3      [H]OC(=O)[C@@]([H])(O[H])C([H])([H])C([H])([H]...   \n4      [H][C@@]12CCC(=O)[C@@]1(C)CC[C@]1([H])C3=C(CC[...   \n...                                                  ...   \n20619                     N[C@@H](COC(=O)CCC(O)=O)C(O)=O   \n20620                 CCN(CC)CC(=O)NC1=C(C)C=C(C)C(O)=C1   \n20621  NC(CC1=CN(C2OC(CO)C(O)C(O)C2O)C2=CC=CC=C12)C(O)=O   \n20622                       CN1C(N)=C(N=CO)C(=O)N(C)C1=O   \n20623                         C[NH2+]C(C)C(O)C1=CC=CC=C1   \n\n                          INCHIKEY CHEMICAL_FORMULA  AVERAGE_MASS   MONO_MASS  \n0      BRMWTNUJHUMWMS-LURJTMIESA-N        C7H11N3O2      169.1811  169.085127  \n1      XFNJVJPLKCPIBV-UHFFFAOYSA-N          C3H10N2       74.1249   74.084398  \n2      TYEYBOSBBBHJIV-UHFFFAOYSA-N           C4H6O3      102.0886  102.031694  \n3      AFENDNXGAFYKQO-VKHMYHEASA-N           C4H8O3      104.1050  104.047344  \n4      WHEUWNKSCXYKBU-QPWUGHHJSA-N         C19H24O3      300.3921  300.172545  \n...                            ...              ...           ...         ...  \n20619  ZAHSBRLHJRVFAU-BYPYZUCNSA-N         C7H11NO6      205.1660  205.058637  \n20620  ZCGIIZBUSSWEFR-UHFFFAOYSA-N       C14H22N2O2      250.3420  250.168128  \n20621  ZHBHZDMTVVJASV-UHFFFAOYSA-N       C17H22N2O7      366.3700  366.142701  \n20622  ZNDGAXCBZGSJGU-UHFFFAOYSA-N        C7H10N4O3      198.1820  198.075290  \n20623  KWGRBVOPPLSCSI-UHFFFAOYSA-O         C10H16NO      166.2430  166.122641  \n\n[20624 rows x 7 columns]",
      "text/html": "<div>\n<style scoped>\n    .dataframe tbody tr th:only-of-type {\n        vertical-align: middle;\n    }\n\n    .dataframe tbody tr th {\n        vertical-align: top;\n    }\n\n    .dataframe thead th {\n        text-align: right;\n    }\n</style>\n<table border=\"1\" class=\"dataframe\">\n  <thead>\n    <tr style=\"text-align: right;\">\n      <th></th>\n      <th>HMDB_ID</th>\n      <th>NAME</th>\n      <th>SMILES</th>\n      <th>INCHIKEY</th>\n      <th>CHEMICAL_FORMULA</th>\n      <th>AVERAGE_MASS</th>\n      <th>MONO_MASS</th>\n    </tr>\n  </thead>\n  <tbody>\n    <tr>\n      <th>0</th>\n      <td>HMDB0000001</td>\n      <td>1-Methylhistidine</td>\n      <td>CN1C=NC(C[C@H](N)C(O)=O)=C1</td>\n      <td>BRMWTNUJHUMWMS-LURJTMIESA-N</td>\n      <td>C7H11N3O2</td>\n      <td>169.1811</td>\n      <td>169.085127</td>\n    </tr>\n    <tr>\n      <th>1</th>\n      <td>HMDB0000002</td>\n      <td>1,3-Diaminopropane</td>\n      <td>NCCCN</td>\n      <td>XFNJVJPLKCPIBV-UHFFFAOYSA-N</td>\n      <td>C3H10N2</td>\n      <td>74.1249</td>\n      <td>74.084398</td>\n    </tr>\n    <tr>\n      <th>2</th>\n      <td>HMDB0000005</td>\n      <td>2-Ketobutyric acid</td>\n      <td>CCC(=O)C(O)=O</td>\n      <td>TYEYBOSBBBHJIV-UHFFFAOYSA-N</td>\n      <td>C4H6O3</td>\n      <td>102.0886</td>\n      <td>102.031694</td>\n    </tr>\n    <tr>\n      <th>3</th>\n      <td>HMDB0000008</td>\n      <td>2-Hydroxybutyric acid</td>\n      <td>[H]OC(=O)[C@@]([H])(O[H])C([H])([H])C([H])([H]...</td>\n      <td>AFENDNXGAFYKQO-VKHMYHEASA-N</td>\n      <td>C4H8O3</td>\n      <td>104.1050</td>\n      <td>104.047344</td>\n    </tr>\n    <tr>\n      <th>4</th>\n      <td>HMDB0000010</td>\n      <td>2-Methoxyestrone</td>\n      <td>[H][C@@]12CCC(=O)[C@@]1(C)CC[C@]1([H])C3=C(CC[...</td>\n      <td>WHEUWNKSCXYKBU-QPWUGHHJSA-N</td>\n      <td>C19H24O3</td>\n      <td>300.3921</td>\n      <td>300.172545</td>\n    </tr>\n    <tr>\n      <th>...</th>\n      <td>...</td>\n      <td>...</td>\n      <td>...</td>\n      <td>...</td>\n      <td>...</td>\n      <td>...</td>\n      <td>...</td>\n    </tr>\n    <tr>\n      <th>20619</th>\n      <td>HMDB0341441</td>\n      <td>Succinylserine</td>\n      <td>N[C@@H](COC(=O)CCC(O)=O)C(O)=O</td>\n      <td>ZAHSBRLHJRVFAU-BYPYZUCNSA-N</td>\n      <td>C7H11NO6</td>\n      <td>205.1660</td>\n      <td>205.058637</td>\n    </tr>\n    <tr>\n      <th>20620</th>\n      <td>HMDB0341442</td>\n      <td>4-Hydroxylidocaine</td>\n      <td>CCN(CC)CC(=O)NC1=C(C)C=C(C)C(O)=C1</td>\n      <td>ZCGIIZBUSSWEFR-UHFFFAOYSA-N</td>\n      <td>C14H22N2O2</td>\n      <td>250.3420</td>\n      <td>250.168128</td>\n    </tr>\n    <tr>\n      <th>20621</th>\n      <td>HMDB0341443</td>\n      <td>Tryptophan N-glucoside</td>\n      <td>NC(CC1=CN(C2OC(CO)C(O)C(O)C2O)C2=CC=CC=C12)C(O)=O</td>\n      <td>ZHBHZDMTVVJASV-UHFFFAOYSA-N</td>\n      <td>C17H22N2O7</td>\n      <td>366.3700</td>\n      <td>366.142701</td>\n    </tr>\n    <tr>\n      <th>20622</th>\n      <td>HMDB0341444</td>\n      <td>6-Amino-5-formamido-1,3-dimethyluracil</td>\n      <td>CN1C(N)=C(N=CO)C(=O)N(C)C1=O</td>\n      <td>ZNDGAXCBZGSJGU-UHFFFAOYSA-N</td>\n      <td>C7H10N4O3</td>\n      <td>198.1820</td>\n      <td>198.075290</td>\n    </tr>\n    <tr>\n      <th>20623</th>\n      <td>HMDB0341445</td>\n      <td>(1S,2S)-(+)-Pseudoephedrine</td>\n      <td>C[NH2+]C(C)C(O)C1=CC=CC=C1</td>\n      <td>KWGRBVOPPLSCSI-UHFFFAOYSA-O</td>\n      <td>C10H16NO</td>\n      <td>166.2430</td>\n      <td>166.122641</td>\n    </tr>\n  </tbody>\n</table>\n<p>20624 rows × 7 columns</p>\n</div>"
     },
     "execution_count": 215,
     "metadata": {},
     "output_type": "execute_result"
    }
   ],
   "source": [
    "HMDB = pd.read_csv('data/interactions/metabolites-detected.csv')\n",
    "HMDB"
   ],
   "metadata": {
    "collapsed": false,
    "ExecuteTime": {
     "end_time": "2024-05-01T19:40:16.848277Z",
     "start_time": "2024-05-01T19:40:16.809370Z"
    }
   },
   "id": "fac8d80c5ea4f2f8",
   "execution_count": 215
  },
  {
   "cell_type": "code",
   "outputs": [],
   "source": [
    "# HMDB['HMDB_ID'] to a text file with one HMDB_ID per line\n",
    "HMDB['HMDB_ID'].to_csv('data/interactions/HMDB_IDs.txt', index=False, header=False)"
   ],
   "metadata": {
    "collapsed": false,
    "ExecuteTime": {
     "end_time": "2024-05-01T19:40:16.858882Z",
     "start_time": "2024-05-01T19:40:16.849663Z"
    }
   },
   "id": "ad0069beaca31d9",
   "execution_count": 216
  },
  {
   "cell_type": "code",
   "outputs": [
    {
     "data": {
      "text/plain": "         Query                  Match         HMDB  PubChem  ChEBI    KEGG  \\\n0  HMDB0000001      1-Methylhistidine  HMDB0000001    92105  50599  C01152   \n1  HMDB0000002     1,3-Diaminopropane  HMDB0000002      428  15725  C00986   \n2  HMDB0000005     2-Ketobutyric acid  HMDB0000005       58  30831  C00109   \n3  HMDB0000008  2-Hydroxybutyric acid  HMDB0000008   440864  50613  C05984   \n4  HMDB0000010       2-Methoxyestrone  HMDB0000010   440624   1189  C05299   \n\n   METLIN                                             SMILES  Comment  \n0  3741.0                        CN1C=NC(C[C@H](N)C(O)=O)=C1        1  \n1  5081.0                                              NCCCN        1  \n2     NaN                                      CCC(=O)C(O)=O        1  \n3  3783.0                                   CC[C@H](O)C(O)=O        1  \n4  2578.0  [H][C@@]12CCC(=O)[C@@]1(C)CC[C@]1([H])C3=C(CC[...        1  ",
      "text/html": "<div>\n<style scoped>\n    .dataframe tbody tr th:only-of-type {\n        vertical-align: middle;\n    }\n\n    .dataframe tbody tr th {\n        vertical-align: top;\n    }\n\n    .dataframe thead th {\n        text-align: right;\n    }\n</style>\n<table border=\"1\" class=\"dataframe\">\n  <thead>\n    <tr style=\"text-align: right;\">\n      <th></th>\n      <th>Query</th>\n      <th>Match</th>\n      <th>HMDB</th>\n      <th>PubChem</th>\n      <th>ChEBI</th>\n      <th>KEGG</th>\n      <th>METLIN</th>\n      <th>SMILES</th>\n      <th>Comment</th>\n    </tr>\n  </thead>\n  <tbody>\n    <tr>\n      <th>0</th>\n      <td>HMDB0000001</td>\n      <td>1-Methylhistidine</td>\n      <td>HMDB0000001</td>\n      <td>92105</td>\n      <td>50599</td>\n      <td>C01152</td>\n      <td>3741.0</td>\n      <td>CN1C=NC(C[C@H](N)C(O)=O)=C1</td>\n      <td>1</td>\n    </tr>\n    <tr>\n      <th>1</th>\n      <td>HMDB0000002</td>\n      <td>1,3-Diaminopropane</td>\n      <td>HMDB0000002</td>\n      <td>428</td>\n      <td>15725</td>\n      <td>C00986</td>\n      <td>5081.0</td>\n      <td>NCCCN</td>\n      <td>1</td>\n    </tr>\n    <tr>\n      <th>2</th>\n      <td>HMDB0000005</td>\n      <td>2-Ketobutyric acid</td>\n      <td>HMDB0000005</td>\n      <td>58</td>\n      <td>30831</td>\n      <td>C00109</td>\n      <td>NaN</td>\n      <td>CCC(=O)C(O)=O</td>\n      <td>1</td>\n    </tr>\n    <tr>\n      <th>3</th>\n      <td>HMDB0000008</td>\n      <td>2-Hydroxybutyric acid</td>\n      <td>HMDB0000008</td>\n      <td>440864</td>\n      <td>50613</td>\n      <td>C05984</td>\n      <td>3783.0</td>\n      <td>CC[C@H](O)C(O)=O</td>\n      <td>1</td>\n    </tr>\n    <tr>\n      <th>4</th>\n      <td>HMDB0000010</td>\n      <td>2-Methoxyestrone</td>\n      <td>HMDB0000010</td>\n      <td>440624</td>\n      <td>1189</td>\n      <td>C05299</td>\n      <td>2578.0</td>\n      <td>[H][C@@]12CCC(=O)[C@@]1(C)CC[C@]1([H])C3=C(CC[...</td>\n      <td>1</td>\n    </tr>\n  </tbody>\n</table>\n</div>"
     },
     "execution_count": 217,
     "metadata": {},
     "output_type": "execute_result"
    }
   ],
   "source": [
    "# read the mapping file and pubChem column as int\n",
    "mapping = pd.read_csv('data/Metabolites/name_map_detected.csv')\n",
    "# remove row if pubChem is NaN\n",
    "mapping = mapping.dropna(subset=['PubChem'])\n",
    "# convert pubChem to int\n",
    "mapping['PubChem'] = mapping['PubChem'].astype(int)\n",
    "mapping.head()"
   ],
   "metadata": {
    "collapsed": false,
    "ExecuteTime": {
     "end_time": "2024-05-01T19:40:16.899662Z",
     "start_time": "2024-05-01T19:40:16.859840Z"
    }
   },
   "id": "34bd1262a2cea8e8",
   "execution_count": 217
  },
  {
   "cell_type": "code",
   "outputs": [
    {
     "data": {
      "text/plain": "             Query                              Match         HMDB   PubChem  \\\n241    HMDB0000379                2-Methylcitric acid  HMDB0000379       515   \n242    HMDB0000380  2-Hydroxyestradiol-3-methyl ether  HMDB0000380       515   \n595    HMDB0000949                 Tetrahydrocortisol  HMDB0000949    387316   \n597    HMDB0000951        Taurochenodesoxycholic acid  HMDB0000951    387316   \n1089   HMDB0002504            3-Sulfodeoxycholic acid  HMDB0002504  10255824   \n...            ...                                ...          ...       ...   \n10353  HMDB0244196                   1,4-Benzodioxane  HMDB0244196       952   \n14677  HMDB0250961                Deisopropylatrazine  HMDB0250961      8785   \n16052  HMDB0253154                            Hexenal  HMDB0253154   5281168   \n16572  HMDB0254039                     Leucyl-leucine  HMDB0254039     94244   \n17597  HMDB0255705                            Arbinex  HMDB0255705     19520   \n\n       ChEBI    KEGG  METLIN  \\\n241    30835  C02225  5368.0   \n242    30835     NaN  5368.0   \n595    16525  C05472  5897.0   \n597    16525  C05465  5897.0   \n1089   67045     NaN  6704.0   \n...      ...     ...     ...   \n10353    NaN     NaN     NaN   \n14677  27399  C06556     NaN   \n16052  19591  C08497     NaN   \n16572   6418  C11332     NaN   \n17597    NaN     NaN     NaN   \n\n                                                  SMILES  Comment  \n241                        CC(C(O)=O)C(O)(CC(O)=O)C(O)=O        1  \n242    [H][C@@]12CC[C@H](O)[C@@]1(C)CC[C@]1([H])C3=C(...        1  \n595    C[C@]12C[C@H](O)C3C(CCC4C[C@H](O)CC[C@]34C)C1C...        1  \n597    [H][C@@]1(CC[C@@]2([H])[C@]3([H])[C@H](O)C[C@]...        1  \n1089   [H][C@@]12CC[C@H]([C@H](C)CCC(O)=O)C1[C@@H](O)...        1  \n...                                                  ...      ...  \n10353                                  C1COC2=CC=CC=C2O1        1  \n14677                              CCNC1=NC(N)=NC(Cl)=N1        1  \n16052                                          CCCC=CC=O        1  \n16572                    CC(C)CC(N)C(O)=NC(CC(C)C)C(O)=O        1  \n17597  ClC1C(Cl)C2C(C1Cl)C1(Cl)C(Cl)=C(Cl)C2(Cl)C1(Cl)Cl        1  \n\n[74 rows x 9 columns]",
      "text/html": "<div>\n<style scoped>\n    .dataframe tbody tr th:only-of-type {\n        vertical-align: middle;\n    }\n\n    .dataframe tbody tr th {\n        vertical-align: top;\n    }\n\n    .dataframe thead th {\n        text-align: right;\n    }\n</style>\n<table border=\"1\" class=\"dataframe\">\n  <thead>\n    <tr style=\"text-align: right;\">\n      <th></th>\n      <th>Query</th>\n      <th>Match</th>\n      <th>HMDB</th>\n      <th>PubChem</th>\n      <th>ChEBI</th>\n      <th>KEGG</th>\n      <th>METLIN</th>\n      <th>SMILES</th>\n      <th>Comment</th>\n    </tr>\n  </thead>\n  <tbody>\n    <tr>\n      <th>241</th>\n      <td>HMDB0000379</td>\n      <td>2-Methylcitric acid</td>\n      <td>HMDB0000379</td>\n      <td>515</td>\n      <td>30835</td>\n      <td>C02225</td>\n      <td>5368.0</td>\n      <td>CC(C(O)=O)C(O)(CC(O)=O)C(O)=O</td>\n      <td>1</td>\n    </tr>\n    <tr>\n      <th>242</th>\n      <td>HMDB0000380</td>\n      <td>2-Hydroxyestradiol-3-methyl ether</td>\n      <td>HMDB0000380</td>\n      <td>515</td>\n      <td>30835</td>\n      <td>NaN</td>\n      <td>5368.0</td>\n      <td>[H][C@@]12CC[C@H](O)[C@@]1(C)CC[C@]1([H])C3=C(...</td>\n      <td>1</td>\n    </tr>\n    <tr>\n      <th>595</th>\n      <td>HMDB0000949</td>\n      <td>Tetrahydrocortisol</td>\n      <td>HMDB0000949</td>\n      <td>387316</td>\n      <td>16525</td>\n      <td>C05472</td>\n      <td>5897.0</td>\n      <td>C[C@]12C[C@H](O)C3C(CCC4C[C@H](O)CC[C@]34C)C1C...</td>\n      <td>1</td>\n    </tr>\n    <tr>\n      <th>597</th>\n      <td>HMDB0000951</td>\n      <td>Taurochenodesoxycholic acid</td>\n      <td>HMDB0000951</td>\n      <td>387316</td>\n      <td>16525</td>\n      <td>C05465</td>\n      <td>5897.0</td>\n      <td>[H][C@@]1(CC[C@@]2([H])[C@]3([H])[C@H](O)C[C@]...</td>\n      <td>1</td>\n    </tr>\n    <tr>\n      <th>1089</th>\n      <td>HMDB0002504</td>\n      <td>3-Sulfodeoxycholic acid</td>\n      <td>HMDB0002504</td>\n      <td>10255824</td>\n      <td>67045</td>\n      <td>NaN</td>\n      <td>6704.0</td>\n      <td>[H][C@@]12CC[C@H]([C@H](C)CCC(O)=O)C1[C@@H](O)...</td>\n      <td>1</td>\n    </tr>\n    <tr>\n      <th>...</th>\n      <td>...</td>\n      <td>...</td>\n      <td>...</td>\n      <td>...</td>\n      <td>...</td>\n      <td>...</td>\n      <td>...</td>\n      <td>...</td>\n      <td>...</td>\n    </tr>\n    <tr>\n      <th>10353</th>\n      <td>HMDB0244196</td>\n      <td>1,4-Benzodioxane</td>\n      <td>HMDB0244196</td>\n      <td>952</td>\n      <td>NaN</td>\n      <td>NaN</td>\n      <td>NaN</td>\n      <td>C1COC2=CC=CC=C2O1</td>\n      <td>1</td>\n    </tr>\n    <tr>\n      <th>14677</th>\n      <td>HMDB0250961</td>\n      <td>Deisopropylatrazine</td>\n      <td>HMDB0250961</td>\n      <td>8785</td>\n      <td>27399</td>\n      <td>C06556</td>\n      <td>NaN</td>\n      <td>CCNC1=NC(N)=NC(Cl)=N1</td>\n      <td>1</td>\n    </tr>\n    <tr>\n      <th>16052</th>\n      <td>HMDB0253154</td>\n      <td>Hexenal</td>\n      <td>HMDB0253154</td>\n      <td>5281168</td>\n      <td>19591</td>\n      <td>C08497</td>\n      <td>NaN</td>\n      <td>CCCC=CC=O</td>\n      <td>1</td>\n    </tr>\n    <tr>\n      <th>16572</th>\n      <td>HMDB0254039</td>\n      <td>Leucyl-leucine</td>\n      <td>HMDB0254039</td>\n      <td>94244</td>\n      <td>6418</td>\n      <td>C11332</td>\n      <td>NaN</td>\n      <td>CC(C)CC(N)C(O)=NC(CC(C)C)C(O)=O</td>\n      <td>1</td>\n    </tr>\n    <tr>\n      <th>17597</th>\n      <td>HMDB0255705</td>\n      <td>Arbinex</td>\n      <td>HMDB0255705</td>\n      <td>19520</td>\n      <td>NaN</td>\n      <td>NaN</td>\n      <td>NaN</td>\n      <td>ClC1C(Cl)C2C(C1Cl)C1(Cl)C(Cl)=C(Cl)C2(Cl)C1(Cl)Cl</td>\n      <td>1</td>\n    </tr>\n  </tbody>\n</table>\n<p>74 rows × 9 columns</p>\n</div>"
     },
     "execution_count": 218,
     "metadata": {},
     "output_type": "execute_result"
    }
   ],
   "source": [
    "# get the rows with same PubChem values\n",
    "mapping[mapping['PubChem'].duplicated(keep=False)] # 74 can be mapped to multiple HMDB\n",
    "# remove the rows with same PubChem values\n",
    "mapping = mapping.drop_duplicates(subset=['PubChem'])"
   ],
   "metadata": {
    "collapsed": false,
    "ExecuteTime": {
     "end_time": "2024-05-01T19:40:16.987254Z",
     "start_time": "2024-05-01T19:40:16.900573Z"
    }
   },
   "id": "c09bfd5b48acebe4",
   "execution_count": 218
  },
  {
   "cell_type": "code",
   "outputs": [],
   "source": [
    "# get the number of digits of the largest number in PubChem\n",
    "# np.sort(mapping['PubChem'])[::-1]"
   ],
   "metadata": {
    "collapsed": false,
    "ExecuteTime": {
     "end_time": "2024-05-01T19:40:16.989639Z",
     "start_time": "2024-05-01T19:40:16.988084Z"
    }
   },
   "id": "89f9336a2fe09776",
   "execution_count": 219
  },
  {
   "cell_type": "code",
   "outputs": [],
   "source": [],
   "metadata": {
    "collapsed": false,
    "ExecuteTime": {
     "end_time": "2024-05-01T19:40:16.991782Z",
     "start_time": "2024-05-01T19:40:16.990401Z"
    }
   },
   "id": "f3c45853c7b9ee79",
   "execution_count": 219
  },
  {
   "cell_type": "code",
   "outputs": [
    {
     "data": {
      "text/plain": "(5956,)"
     },
     "execution_count": 225,
     "metadata": {},
     "output_type": "execute_result"
    },
    {
     "data": {
      "text/plain": "         chemical protein  experimental  prediction  database  textmining  \\\n5488     91617630  Q9H6Z9             0           0         0         221   \n5489     91617630  Q15370             0           0         0         260   \n5490     91617630  O95876             0           0         0         259   \n5835     91582103  O75106             0           0         0         179   \n5836     91582103  O14804             0           0         0         296   \n...           ...     ...           ...         ...       ...         ...   \n5949655         1  Q00059             0           0         0         150   \n5949656         1  Q9NTX5             0           0         0         279   \n5949657         1  P40925             0           0         0         311   \n5949658         1  O14727             0           0         0         322   \n5949659         1  Q01415             0           0         0         197   \n\n         combined_score  \n5488                221  \n5489                260  \n5490                259  \n5835                179  \n5836                296  \n...                 ...  \n5949655             150  \n5949656             279  \n5949657             311  \n5949658             322  \n5949659             197  \n\n[498748 rows x 7 columns]",
      "text/html": "<div>\n<style scoped>\n    .dataframe tbody tr th:only-of-type {\n        vertical-align: middle;\n    }\n\n    .dataframe tbody tr th {\n        vertical-align: top;\n    }\n\n    .dataframe thead th {\n        text-align: right;\n    }\n</style>\n<table border=\"1\" class=\"dataframe\">\n  <thead>\n    <tr style=\"text-align: right;\">\n      <th></th>\n      <th>chemical</th>\n      <th>protein</th>\n      <th>experimental</th>\n      <th>prediction</th>\n      <th>database</th>\n      <th>textmining</th>\n      <th>combined_score</th>\n    </tr>\n  </thead>\n  <tbody>\n    <tr>\n      <th>5488</th>\n      <td>91617630</td>\n      <td>Q9H6Z9</td>\n      <td>0</td>\n      <td>0</td>\n      <td>0</td>\n      <td>221</td>\n      <td>221</td>\n    </tr>\n    <tr>\n      <th>5489</th>\n      <td>91617630</td>\n      <td>Q15370</td>\n      <td>0</td>\n      <td>0</td>\n      <td>0</td>\n      <td>260</td>\n      <td>260</td>\n    </tr>\n    <tr>\n      <th>5490</th>\n      <td>91617630</td>\n      <td>O95876</td>\n      <td>0</td>\n      <td>0</td>\n      <td>0</td>\n      <td>259</td>\n      <td>259</td>\n    </tr>\n    <tr>\n      <th>5835</th>\n      <td>91582103</td>\n      <td>O75106</td>\n      <td>0</td>\n      <td>0</td>\n      <td>0</td>\n      <td>179</td>\n      <td>179</td>\n    </tr>\n    <tr>\n      <th>5836</th>\n      <td>91582103</td>\n      <td>O14804</td>\n      <td>0</td>\n      <td>0</td>\n      <td>0</td>\n      <td>296</td>\n      <td>296</td>\n    </tr>\n    <tr>\n      <th>...</th>\n      <td>...</td>\n      <td>...</td>\n      <td>...</td>\n      <td>...</td>\n      <td>...</td>\n      <td>...</td>\n      <td>...</td>\n    </tr>\n    <tr>\n      <th>5949655</th>\n      <td>1</td>\n      <td>Q00059</td>\n      <td>0</td>\n      <td>0</td>\n      <td>0</td>\n      <td>150</td>\n      <td>150</td>\n    </tr>\n    <tr>\n      <th>5949656</th>\n      <td>1</td>\n      <td>Q9NTX5</td>\n      <td>0</td>\n      <td>0</td>\n      <td>0</td>\n      <td>279</td>\n      <td>279</td>\n    </tr>\n    <tr>\n      <th>5949657</th>\n      <td>1</td>\n      <td>P40925</td>\n      <td>0</td>\n      <td>0</td>\n      <td>0</td>\n      <td>311</td>\n      <td>311</td>\n    </tr>\n    <tr>\n      <th>5949658</th>\n      <td>1</td>\n      <td>O14727</td>\n      <td>0</td>\n      <td>0</td>\n      <td>0</td>\n      <td>322</td>\n      <td>322</td>\n    </tr>\n    <tr>\n      <th>5949659</th>\n      <td>1</td>\n      <td>Q01415</td>\n      <td>0</td>\n      <td>0</td>\n      <td>0</td>\n      <td>197</td>\n      <td>197</td>\n    </tr>\n  </tbody>\n</table>\n<p>498748 rows × 7 columns</p>\n</div>"
     },
     "execution_count": 225,
     "metadata": {},
     "output_type": "execute_result"
    }
   ],
   "source": [
    "# check how many \"PubChem\" values in mapping are in HMDB\n",
    "# mapping['PubChem'][mapping['PubChem'].isin(mpi['chemical'])]\n",
    "mpi = cpi[cpi['chemical'].isin(mapping['PubChem'])]\n",
    "mpi['chemical'].unique().shape\n",
    "mpi"
   ],
   "metadata": {
    "collapsed": false,
    "ExecuteTime": {
     "end_time": "2024-05-01T19:42:38.623963Z",
     "start_time": "2024-05-01T19:42:38.482928Z"
    }
   },
   "id": "a879ce3771bc6734",
   "execution_count": 225
  },
  {
   "cell_type": "code",
   "outputs": [],
   "source": [
    "def get_values_from_dict(keys, dictionary, na_rm=True):\n",
    "    # Ensure the dictionary is a DataFrame\n",
    "    dictionary = pd.DataFrame(dictionary)\n",
    "\n",
    "    # Check for duplicated keys in the dictionary\n",
    "    if dictionary.iloc[:, 0].duplicated().any():\n",
    "        raise ValueError(\"Non-unique keys in dictionary: the same key can be mapped to multiple values\")\n",
    "\n",
    "    # Convert keys to a DataFrame\n",
    "    keys_df = pd.DataFrame({'key': keys})\n",
    "\n",
    "    # Join keys with the dictionary to get the corresponding values\n",
    "    merged = keys_df.merge(dictionary, left_on='key', right_on=dictionary.columns[0], how='left')\n",
    "\n",
    "    # Select the values column\n",
    "    values = merged[dictionary.columns[1]]\n",
    "\n",
    "    # If na_rm is True, remove NA values\n",
    "    if na_rm:\n",
    "        values = values.dropna()\n",
    "\n",
    "    return values.tolist()"
   ],
   "metadata": {
    "collapsed": false,
    "ExecuteTime": {
     "end_time": "2024-05-01T19:46:19.203862Z",
     "start_time": "2024-05-01T19:46:19.198915Z"
    }
   },
   "id": "6e22ce4ade45e2b",
   "execution_count": 232
  },
  {
   "cell_type": "code",
   "outputs": [
    {
     "ename": "ValueError",
     "evalue": "You are trying to merge on object and int64 columns for key 'key'. If you wish to proceed you should use pd.concat",
     "output_type": "error",
     "traceback": [
      "\u001B[0;31m---------------------------------------------------------------------------\u001B[0m",
      "\u001B[0;31mValueError\u001B[0m                                Traceback (most recent call last)",
      "Cell \u001B[0;32mIn[245], line 2\u001B[0m\n\u001B[1;32m      1\u001B[0m \u001B[38;5;66;03m# map PubChem to HMDB\u001B[39;00m\n\u001B[0;32m----> 2\u001B[0m mpi\u001B[38;5;241m.\u001B[39mloc[:, \u001B[38;5;124m'\u001B[39m\u001B[38;5;124mchemical\u001B[39m\u001B[38;5;124m'\u001B[39m] \u001B[38;5;241m=\u001B[39m \u001B[43mget_values_from_dict\u001B[49m\u001B[43m(\u001B[49m\u001B[43mmpi\u001B[49m\u001B[43m[\u001B[49m\u001B[38;5;124;43m'\u001B[39;49m\u001B[38;5;124;43mchemical\u001B[39;49m\u001B[38;5;124;43m'\u001B[39;49m\u001B[43m]\u001B[49m\u001B[43m,\u001B[49m\u001B[43m \u001B[49m\u001B[43mmapping\u001B[49m\u001B[43m[\u001B[49m\u001B[43m[\u001B[49m\u001B[38;5;124;43m'\u001B[39;49m\u001B[38;5;124;43mPubChem\u001B[39;49m\u001B[38;5;124;43m'\u001B[39;49m\u001B[43m,\u001B[49m\u001B[43m \u001B[49m\u001B[38;5;124;43m'\u001B[39;49m\u001B[38;5;124;43mHMDB\u001B[39;49m\u001B[38;5;124;43m'\u001B[39;49m\u001B[43m]\u001B[49m\u001B[43m]\u001B[49m\u001B[43m)\u001B[49m\n\u001B[1;32m      3\u001B[0m mpi\n",
      "Cell \u001B[0;32mIn[232], line 13\u001B[0m, in \u001B[0;36mget_values_from_dict\u001B[0;34m(keys, dictionary, na_rm)\u001B[0m\n\u001B[1;32m     10\u001B[0m keys_df \u001B[38;5;241m=\u001B[39m pd\u001B[38;5;241m.\u001B[39mDataFrame({\u001B[38;5;124m'\u001B[39m\u001B[38;5;124mkey\u001B[39m\u001B[38;5;124m'\u001B[39m: keys})\n\u001B[1;32m     12\u001B[0m \u001B[38;5;66;03m# Join keys with the dictionary to get the corresponding values\u001B[39;00m\n\u001B[0;32m---> 13\u001B[0m merged \u001B[38;5;241m=\u001B[39m \u001B[43mkeys_df\u001B[49m\u001B[38;5;241;43m.\u001B[39;49m\u001B[43mmerge\u001B[49m\u001B[43m(\u001B[49m\u001B[43mdictionary\u001B[49m\u001B[43m,\u001B[49m\u001B[43m \u001B[49m\u001B[43mleft_on\u001B[49m\u001B[38;5;241;43m=\u001B[39;49m\u001B[38;5;124;43m'\u001B[39;49m\u001B[38;5;124;43mkey\u001B[39;49m\u001B[38;5;124;43m'\u001B[39;49m\u001B[43m,\u001B[49m\u001B[43m \u001B[49m\u001B[43mright_on\u001B[49m\u001B[38;5;241;43m=\u001B[39;49m\u001B[43mdictionary\u001B[49m\u001B[38;5;241;43m.\u001B[39;49m\u001B[43mcolumns\u001B[49m\u001B[43m[\u001B[49m\u001B[38;5;241;43m0\u001B[39;49m\u001B[43m]\u001B[49m\u001B[43m,\u001B[49m\u001B[43m \u001B[49m\u001B[43mhow\u001B[49m\u001B[38;5;241;43m=\u001B[39;49m\u001B[38;5;124;43m'\u001B[39;49m\u001B[38;5;124;43mleft\u001B[39;49m\u001B[38;5;124;43m'\u001B[39;49m\u001B[43m)\u001B[49m\n\u001B[1;32m     15\u001B[0m \u001B[38;5;66;03m# Select the values column\u001B[39;00m\n\u001B[1;32m     16\u001B[0m values \u001B[38;5;241m=\u001B[39m merged[dictionary\u001B[38;5;241m.\u001B[39mcolumns[\u001B[38;5;241m1\u001B[39m]]\n",
      "File \u001B[0;32m~/anaconda3/envs/cgvae/lib/python3.10/site-packages/pandas/core/frame.py:10490\u001B[0m, in \u001B[0;36mDataFrame.merge\u001B[0;34m(self, right, how, on, left_on, right_on, left_index, right_index, sort, suffixes, copy, indicator, validate)\u001B[0m\n\u001B[1;32m  10471\u001B[0m \u001B[38;5;129m@Substitution\u001B[39m(\u001B[38;5;124m\"\u001B[39m\u001B[38;5;124m\"\u001B[39m)\n\u001B[1;32m  10472\u001B[0m \u001B[38;5;129m@Appender\u001B[39m(_merge_doc, indents\u001B[38;5;241m=\u001B[39m\u001B[38;5;241m2\u001B[39m)\n\u001B[1;32m  10473\u001B[0m \u001B[38;5;28;01mdef\u001B[39;00m \u001B[38;5;21mmerge\u001B[39m(\n\u001B[0;32m   (...)\u001B[0m\n\u001B[1;32m  10486\u001B[0m     validate: MergeValidate \u001B[38;5;241m|\u001B[39m \u001B[38;5;28;01mNone\u001B[39;00m \u001B[38;5;241m=\u001B[39m \u001B[38;5;28;01mNone\u001B[39;00m,\n\u001B[1;32m  10487\u001B[0m ) \u001B[38;5;241m-\u001B[39m\u001B[38;5;241m>\u001B[39m DataFrame:\n\u001B[1;32m  10488\u001B[0m     \u001B[38;5;28;01mfrom\u001B[39;00m \u001B[38;5;21;01mpandas\u001B[39;00m\u001B[38;5;21;01m.\u001B[39;00m\u001B[38;5;21;01mcore\u001B[39;00m\u001B[38;5;21;01m.\u001B[39;00m\u001B[38;5;21;01mreshape\u001B[39;00m\u001B[38;5;21;01m.\u001B[39;00m\u001B[38;5;21;01mmerge\u001B[39;00m \u001B[38;5;28;01mimport\u001B[39;00m merge\n\u001B[0;32m> 10490\u001B[0m     \u001B[38;5;28;01mreturn\u001B[39;00m \u001B[43mmerge\u001B[49m\u001B[43m(\u001B[49m\n\u001B[1;32m  10491\u001B[0m \u001B[43m        \u001B[49m\u001B[38;5;28;43mself\u001B[39;49m\u001B[43m,\u001B[49m\n\u001B[1;32m  10492\u001B[0m \u001B[43m        \u001B[49m\u001B[43mright\u001B[49m\u001B[43m,\u001B[49m\n\u001B[1;32m  10493\u001B[0m \u001B[43m        \u001B[49m\u001B[43mhow\u001B[49m\u001B[38;5;241;43m=\u001B[39;49m\u001B[43mhow\u001B[49m\u001B[43m,\u001B[49m\n\u001B[1;32m  10494\u001B[0m \u001B[43m        \u001B[49m\u001B[43mon\u001B[49m\u001B[38;5;241;43m=\u001B[39;49m\u001B[43mon\u001B[49m\u001B[43m,\u001B[49m\n\u001B[1;32m  10495\u001B[0m \u001B[43m        \u001B[49m\u001B[43mleft_on\u001B[49m\u001B[38;5;241;43m=\u001B[39;49m\u001B[43mleft_on\u001B[49m\u001B[43m,\u001B[49m\n\u001B[1;32m  10496\u001B[0m \u001B[43m        \u001B[49m\u001B[43mright_on\u001B[49m\u001B[38;5;241;43m=\u001B[39;49m\u001B[43mright_on\u001B[49m\u001B[43m,\u001B[49m\n\u001B[1;32m  10497\u001B[0m \u001B[43m        \u001B[49m\u001B[43mleft_index\u001B[49m\u001B[38;5;241;43m=\u001B[39;49m\u001B[43mleft_index\u001B[49m\u001B[43m,\u001B[49m\n\u001B[1;32m  10498\u001B[0m \u001B[43m        \u001B[49m\u001B[43mright_index\u001B[49m\u001B[38;5;241;43m=\u001B[39;49m\u001B[43mright_index\u001B[49m\u001B[43m,\u001B[49m\n\u001B[1;32m  10499\u001B[0m \u001B[43m        \u001B[49m\u001B[43msort\u001B[49m\u001B[38;5;241;43m=\u001B[39;49m\u001B[43msort\u001B[49m\u001B[43m,\u001B[49m\n\u001B[1;32m  10500\u001B[0m \u001B[43m        \u001B[49m\u001B[43msuffixes\u001B[49m\u001B[38;5;241;43m=\u001B[39;49m\u001B[43msuffixes\u001B[49m\u001B[43m,\u001B[49m\n\u001B[1;32m  10501\u001B[0m \u001B[43m        \u001B[49m\u001B[43mcopy\u001B[49m\u001B[38;5;241;43m=\u001B[39;49m\u001B[43mcopy\u001B[49m\u001B[43m,\u001B[49m\n\u001B[1;32m  10502\u001B[0m \u001B[43m        \u001B[49m\u001B[43mindicator\u001B[49m\u001B[38;5;241;43m=\u001B[39;49m\u001B[43mindicator\u001B[49m\u001B[43m,\u001B[49m\n\u001B[1;32m  10503\u001B[0m \u001B[43m        \u001B[49m\u001B[43mvalidate\u001B[49m\u001B[38;5;241;43m=\u001B[39;49m\u001B[43mvalidate\u001B[49m\u001B[43m,\u001B[49m\n\u001B[1;32m  10504\u001B[0m \u001B[43m    \u001B[49m\u001B[43m)\u001B[49m\n",
      "File \u001B[0;32m~/anaconda3/envs/cgvae/lib/python3.10/site-packages/pandas/core/reshape/merge.py:169\u001B[0m, in \u001B[0;36mmerge\u001B[0;34m(left, right, how, on, left_on, right_on, left_index, right_index, sort, suffixes, copy, indicator, validate)\u001B[0m\n\u001B[1;32m    154\u001B[0m     \u001B[38;5;28;01mreturn\u001B[39;00m _cross_merge(\n\u001B[1;32m    155\u001B[0m         left_df,\n\u001B[1;32m    156\u001B[0m         right_df,\n\u001B[0;32m   (...)\u001B[0m\n\u001B[1;32m    166\u001B[0m         copy\u001B[38;5;241m=\u001B[39mcopy,\n\u001B[1;32m    167\u001B[0m     )\n\u001B[1;32m    168\u001B[0m \u001B[38;5;28;01melse\u001B[39;00m:\n\u001B[0;32m--> 169\u001B[0m     op \u001B[38;5;241m=\u001B[39m \u001B[43m_MergeOperation\u001B[49m\u001B[43m(\u001B[49m\n\u001B[1;32m    170\u001B[0m \u001B[43m        \u001B[49m\u001B[43mleft_df\u001B[49m\u001B[43m,\u001B[49m\n\u001B[1;32m    171\u001B[0m \u001B[43m        \u001B[49m\u001B[43mright_df\u001B[49m\u001B[43m,\u001B[49m\n\u001B[1;32m    172\u001B[0m \u001B[43m        \u001B[49m\u001B[43mhow\u001B[49m\u001B[38;5;241;43m=\u001B[39;49m\u001B[43mhow\u001B[49m\u001B[43m,\u001B[49m\n\u001B[1;32m    173\u001B[0m \u001B[43m        \u001B[49m\u001B[43mon\u001B[49m\u001B[38;5;241;43m=\u001B[39;49m\u001B[43mon\u001B[49m\u001B[43m,\u001B[49m\n\u001B[1;32m    174\u001B[0m \u001B[43m        \u001B[49m\u001B[43mleft_on\u001B[49m\u001B[38;5;241;43m=\u001B[39;49m\u001B[43mleft_on\u001B[49m\u001B[43m,\u001B[49m\n\u001B[1;32m    175\u001B[0m \u001B[43m        \u001B[49m\u001B[43mright_on\u001B[49m\u001B[38;5;241;43m=\u001B[39;49m\u001B[43mright_on\u001B[49m\u001B[43m,\u001B[49m\n\u001B[1;32m    176\u001B[0m \u001B[43m        \u001B[49m\u001B[43mleft_index\u001B[49m\u001B[38;5;241;43m=\u001B[39;49m\u001B[43mleft_index\u001B[49m\u001B[43m,\u001B[49m\n\u001B[1;32m    177\u001B[0m \u001B[43m        \u001B[49m\u001B[43mright_index\u001B[49m\u001B[38;5;241;43m=\u001B[39;49m\u001B[43mright_index\u001B[49m\u001B[43m,\u001B[49m\n\u001B[1;32m    178\u001B[0m \u001B[43m        \u001B[49m\u001B[43msort\u001B[49m\u001B[38;5;241;43m=\u001B[39;49m\u001B[43msort\u001B[49m\u001B[43m,\u001B[49m\n\u001B[1;32m    179\u001B[0m \u001B[43m        \u001B[49m\u001B[43msuffixes\u001B[49m\u001B[38;5;241;43m=\u001B[39;49m\u001B[43msuffixes\u001B[49m\u001B[43m,\u001B[49m\n\u001B[1;32m    180\u001B[0m \u001B[43m        \u001B[49m\u001B[43mindicator\u001B[49m\u001B[38;5;241;43m=\u001B[39;49m\u001B[43mindicator\u001B[49m\u001B[43m,\u001B[49m\n\u001B[1;32m    181\u001B[0m \u001B[43m        \u001B[49m\u001B[43mvalidate\u001B[49m\u001B[38;5;241;43m=\u001B[39;49m\u001B[43mvalidate\u001B[49m\u001B[43m,\u001B[49m\n\u001B[1;32m    182\u001B[0m \u001B[43m    \u001B[49m\u001B[43m)\u001B[49m\n\u001B[1;32m    183\u001B[0m     \u001B[38;5;28;01mreturn\u001B[39;00m op\u001B[38;5;241m.\u001B[39mget_result(copy\u001B[38;5;241m=\u001B[39mcopy)\n",
      "File \u001B[0;32m~/anaconda3/envs/cgvae/lib/python3.10/site-packages/pandas/core/reshape/merge.py:804\u001B[0m, in \u001B[0;36m_MergeOperation.__init__\u001B[0;34m(self, left, right, how, on, left_on, right_on, left_index, right_index, sort, suffixes, indicator, validate)\u001B[0m\n\u001B[1;32m    800\u001B[0m \u001B[38;5;28mself\u001B[39m\u001B[38;5;241m.\u001B[39m_validate_tolerance(\u001B[38;5;28mself\u001B[39m\u001B[38;5;241m.\u001B[39mleft_join_keys)\n\u001B[1;32m    802\u001B[0m \u001B[38;5;66;03m# validate the merge keys dtypes. We may need to coerce\u001B[39;00m\n\u001B[1;32m    803\u001B[0m \u001B[38;5;66;03m# to avoid incompatible dtypes\u001B[39;00m\n\u001B[0;32m--> 804\u001B[0m \u001B[38;5;28;43mself\u001B[39;49m\u001B[38;5;241;43m.\u001B[39;49m\u001B[43m_maybe_coerce_merge_keys\u001B[49m\u001B[43m(\u001B[49m\u001B[43m)\u001B[49m\n\u001B[1;32m    806\u001B[0m \u001B[38;5;66;03m# If argument passed to validate,\u001B[39;00m\n\u001B[1;32m    807\u001B[0m \u001B[38;5;66;03m# check if columns specified as unique\u001B[39;00m\n\u001B[1;32m    808\u001B[0m \u001B[38;5;66;03m# are in fact unique.\u001B[39;00m\n\u001B[1;32m    809\u001B[0m \u001B[38;5;28;01mif\u001B[39;00m validate \u001B[38;5;129;01mis\u001B[39;00m \u001B[38;5;129;01mnot\u001B[39;00m \u001B[38;5;28;01mNone\u001B[39;00m:\n",
      "File \u001B[0;32m~/anaconda3/envs/cgvae/lib/python3.10/site-packages/pandas/core/reshape/merge.py:1479\u001B[0m, in \u001B[0;36m_MergeOperation._maybe_coerce_merge_keys\u001B[0;34m(self)\u001B[0m\n\u001B[1;32m   1473\u001B[0m     \u001B[38;5;66;03m# unless we are merging non-string-like with string-like\u001B[39;00m\n\u001B[1;32m   1474\u001B[0m     \u001B[38;5;28;01melif\u001B[39;00m (\n\u001B[1;32m   1475\u001B[0m         inferred_left \u001B[38;5;129;01min\u001B[39;00m string_types \u001B[38;5;129;01mand\u001B[39;00m inferred_right \u001B[38;5;129;01mnot\u001B[39;00m \u001B[38;5;129;01min\u001B[39;00m string_types\n\u001B[1;32m   1476\u001B[0m     ) \u001B[38;5;129;01mor\u001B[39;00m (\n\u001B[1;32m   1477\u001B[0m         inferred_right \u001B[38;5;129;01min\u001B[39;00m string_types \u001B[38;5;129;01mand\u001B[39;00m inferred_left \u001B[38;5;129;01mnot\u001B[39;00m \u001B[38;5;129;01min\u001B[39;00m string_types\n\u001B[1;32m   1478\u001B[0m     ):\n\u001B[0;32m-> 1479\u001B[0m         \u001B[38;5;28;01mraise\u001B[39;00m \u001B[38;5;167;01mValueError\u001B[39;00m(msg)\n\u001B[1;32m   1481\u001B[0m \u001B[38;5;66;03m# datetimelikes must match exactly\u001B[39;00m\n\u001B[1;32m   1482\u001B[0m \u001B[38;5;28;01melif\u001B[39;00m needs_i8_conversion(lk\u001B[38;5;241m.\u001B[39mdtype) \u001B[38;5;129;01mand\u001B[39;00m \u001B[38;5;129;01mnot\u001B[39;00m needs_i8_conversion(rk\u001B[38;5;241m.\u001B[39mdtype):\n",
      "\u001B[0;31mValueError\u001B[0m: You are trying to merge on object and int64 columns for key 'key'. If you wish to proceed you should use pd.concat"
     ]
    }
   ],
   "source": [
    "# map PubChem to HMDB\n",
    "mpi.loc[:, 'chemical'] = get_values_from_dict(mpi['chemical'], mapping[['PubChem', 'HMDB']])"
   ],
   "metadata": {
    "collapsed": false,
    "ExecuteTime": {
     "end_time": "2024-05-01T19:47:59.451777Z",
     "start_time": "2024-05-01T19:47:59.376611Z"
    }
   },
   "id": "e9ac1f968f9558e4",
   "execution_count": 245
  },
  {
   "cell_type": "code",
   "outputs": [
    {
     "data": {
      "text/plain": "            chemical protein  experimental  prediction  database  textmining  \\\n5488     HMDB0250863  Q9H6Z9             0           0         0         221   \n5489     HMDB0250863  Q15370             0           0         0         260   \n5490     HMDB0250863  O95876             0           0         0         259   \n5835     HMDB0245911  O75106             0           0         0         179   \n5836     HMDB0245911  O14804             0           0         0         296   \n...              ...     ...           ...         ...       ...         ...   \n5949655  HMDB0240773  Q00059             0           0         0         150   \n5949656  HMDB0240773  Q9NTX5             0           0         0         279   \n5949657  HMDB0240773  P40925             0           0         0         311   \n5949658  HMDB0240773  O14727             0           0         0         322   \n5949659  HMDB0240773  Q01415             0           0         0         197   \n\n         combined_score  \n5488                221  \n5489                260  \n5490                259  \n5835                179  \n5836                296  \n...                 ...  \n5949655             150  \n5949656             279  \n5949657             311  \n5949658             322  \n5949659             197  \n\n[498748 rows x 7 columns]",
      "text/html": "<div>\n<style scoped>\n    .dataframe tbody tr th:only-of-type {\n        vertical-align: middle;\n    }\n\n    .dataframe tbody tr th {\n        vertical-align: top;\n    }\n\n    .dataframe thead th {\n        text-align: right;\n    }\n</style>\n<table border=\"1\" class=\"dataframe\">\n  <thead>\n    <tr style=\"text-align: right;\">\n      <th></th>\n      <th>chemical</th>\n      <th>protein</th>\n      <th>experimental</th>\n      <th>prediction</th>\n      <th>database</th>\n      <th>textmining</th>\n      <th>combined_score</th>\n    </tr>\n  </thead>\n  <tbody>\n    <tr>\n      <th>5488</th>\n      <td>HMDB0250863</td>\n      <td>Q9H6Z9</td>\n      <td>0</td>\n      <td>0</td>\n      <td>0</td>\n      <td>221</td>\n      <td>221</td>\n    </tr>\n    <tr>\n      <th>5489</th>\n      <td>HMDB0250863</td>\n      <td>Q15370</td>\n      <td>0</td>\n      <td>0</td>\n      <td>0</td>\n      <td>260</td>\n      <td>260</td>\n    </tr>\n    <tr>\n      <th>5490</th>\n      <td>HMDB0250863</td>\n      <td>O95876</td>\n      <td>0</td>\n      <td>0</td>\n      <td>0</td>\n      <td>259</td>\n      <td>259</td>\n    </tr>\n    <tr>\n      <th>5835</th>\n      <td>HMDB0245911</td>\n      <td>O75106</td>\n      <td>0</td>\n      <td>0</td>\n      <td>0</td>\n      <td>179</td>\n      <td>179</td>\n    </tr>\n    <tr>\n      <th>5836</th>\n      <td>HMDB0245911</td>\n      <td>O14804</td>\n      <td>0</td>\n      <td>0</td>\n      <td>0</td>\n      <td>296</td>\n      <td>296</td>\n    </tr>\n    <tr>\n      <th>...</th>\n      <td>...</td>\n      <td>...</td>\n      <td>...</td>\n      <td>...</td>\n      <td>...</td>\n      <td>...</td>\n      <td>...</td>\n    </tr>\n    <tr>\n      <th>5949655</th>\n      <td>HMDB0240773</td>\n      <td>Q00059</td>\n      <td>0</td>\n      <td>0</td>\n      <td>0</td>\n      <td>150</td>\n      <td>150</td>\n    </tr>\n    <tr>\n      <th>5949656</th>\n      <td>HMDB0240773</td>\n      <td>Q9NTX5</td>\n      <td>0</td>\n      <td>0</td>\n      <td>0</td>\n      <td>279</td>\n      <td>279</td>\n    </tr>\n    <tr>\n      <th>5949657</th>\n      <td>HMDB0240773</td>\n      <td>P40925</td>\n      <td>0</td>\n      <td>0</td>\n      <td>0</td>\n      <td>311</td>\n      <td>311</td>\n    </tr>\n    <tr>\n      <th>5949658</th>\n      <td>HMDB0240773</td>\n      <td>O14727</td>\n      <td>0</td>\n      <td>0</td>\n      <td>0</td>\n      <td>322</td>\n      <td>322</td>\n    </tr>\n    <tr>\n      <th>5949659</th>\n      <td>HMDB0240773</td>\n      <td>Q01415</td>\n      <td>0</td>\n      <td>0</td>\n      <td>0</td>\n      <td>197</td>\n      <td>197</td>\n    </tr>\n  </tbody>\n</table>\n<p>498748 rows × 7 columns</p>\n</div>"
     },
     "execution_count": 246,
     "metadata": {},
     "output_type": "execute_result"
    }
   ],
   "source": [
    "mpi"
   ],
   "metadata": {
    "collapsed": false,
    "ExecuteTime": {
     "end_time": "2024-05-01T19:48:03.906997Z",
     "start_time": "2024-05-01T19:48:03.901648Z"
    }
   },
   "id": "4e6351e4b695d96e",
   "execution_count": 246
  },
  {
   "cell_type": "code",
   "outputs": [],
   "source": [
    "mpi_medium_evidence = mpi[mpi['combined_score'] > 400]"
   ],
   "metadata": {
    "collapsed": false,
    "ExecuteTime": {
     "end_time": "2024-05-01T19:47:45.048636Z",
     "start_time": "2024-05-01T19:47:45.026804Z"
    }
   },
   "id": "8bcee29bfcfca1aa",
   "execution_count": 242
  },
  {
   "cell_type": "code",
   "outputs": [
    {
     "data": {
      "text/plain": "(3516,)"
     },
     "execution_count": 243,
     "metadata": {},
     "output_type": "execute_result"
    },
    {
     "data": {
      "text/plain": "(9476,)"
     },
     "execution_count": 243,
     "metadata": {},
     "output_type": "execute_result"
    }
   ],
   "source": [
    "# acquire the unique chemicals  and protein in the  mpi\n",
    "metabolites = mpi_medium_evidence['chemical'].unique()\n",
    "proteins = mpi_medium_evidence['protein'].unique()\n",
    "metabolites.shape\n",
    "proteins.shape"
   ],
   "metadata": {
    "collapsed": false,
    "ExecuteTime": {
     "end_time": "2024-05-01T19:47:45.543437Z",
     "start_time": "2024-05-01T19:47:45.533467Z"
    }
   },
   "id": "f6f2451472f56005",
   "execution_count": 243
  },
  {
   "cell_type": "code",
   "outputs": [],
   "source": [
    "mpi_medium_evidence.to_csv('data/metabolites/mpi_medium_evidence.csv', index=False)"
   ],
   "metadata": {
    "collapsed": false,
    "ExecuteTime": {
     "end_time": "2024-05-01T20:16:35.260420Z",
     "start_time": "2024-05-01T20:16:35.154152Z"
    }
   },
   "id": "24dfdc15cf7974c7",
   "execution_count": 257
  },
  {
   "cell_type": "markdown",
   "source": [
    "# Parse Chemical-Chemical Interactions"
   ],
   "metadata": {
    "collapsed": false
   },
   "id": "fe537009f4c86956"
  },
  {
   "cell_type": "code",
   "outputs": [
    {
     "data": {
      "text/plain": "      chemical1     chemical2  similarity  experimental  database  textmining  \\\n0  CIDm00024759  CIDs00024759           0             0       900           0   \n1  CIDs91758695  CIDs00107694           0             0         0         230   \n2  CIDs91758695  CIDs11013287           0             0         0         230   \n3  CIDs91758695  CIDs11980957           0             0         0         328   \n4  CIDs91758695  CIDs00013078           0             0         0         162   \n\n   combined_score  \n0             900  \n1             230  \n2             230  \n3             328  \n4             162  ",
      "text/html": "<div>\n<style scoped>\n    .dataframe tbody tr th:only-of-type {\n        vertical-align: middle;\n    }\n\n    .dataframe tbody tr th {\n        vertical-align: top;\n    }\n\n    .dataframe thead th {\n        text-align: right;\n    }\n</style>\n<table border=\"1\" class=\"dataframe\">\n  <thead>\n    <tr style=\"text-align: right;\">\n      <th></th>\n      <th>chemical1</th>\n      <th>chemical2</th>\n      <th>similarity</th>\n      <th>experimental</th>\n      <th>database</th>\n      <th>textmining</th>\n      <th>combined_score</th>\n    </tr>\n  </thead>\n  <tbody>\n    <tr>\n      <th>0</th>\n      <td>CIDm00024759</td>\n      <td>CIDs00024759</td>\n      <td>0</td>\n      <td>0</td>\n      <td>900</td>\n      <td>0</td>\n      <td>900</td>\n    </tr>\n    <tr>\n      <th>1</th>\n      <td>CIDs91758695</td>\n      <td>CIDs00107694</td>\n      <td>0</td>\n      <td>0</td>\n      <td>0</td>\n      <td>230</td>\n      <td>230</td>\n    </tr>\n    <tr>\n      <th>2</th>\n      <td>CIDs91758695</td>\n      <td>CIDs11013287</td>\n      <td>0</td>\n      <td>0</td>\n      <td>0</td>\n      <td>230</td>\n      <td>230</td>\n    </tr>\n    <tr>\n      <th>3</th>\n      <td>CIDs91758695</td>\n      <td>CIDs11980957</td>\n      <td>0</td>\n      <td>0</td>\n      <td>0</td>\n      <td>328</td>\n      <td>328</td>\n    </tr>\n    <tr>\n      <th>4</th>\n      <td>CIDs91758695</td>\n      <td>CIDs00013078</td>\n      <td>0</td>\n      <td>0</td>\n      <td>0</td>\n      <td>162</td>\n      <td>162</td>\n    </tr>\n  </tbody>\n</table>\n</div>"
     },
     "execution_count": 256,
     "metadata": {},
     "output_type": "execute_result"
    }
   ],
   "source": [
    "cci = pd.read_csv('data/interactions/chemical_chemical.links.detailed.v5.0.tsv', sep='\\t')\n",
    "cci.head()"
   ],
   "metadata": {
    "collapsed": false,
    "ExecuteTime": {
     "end_time": "2024-05-01T20:16:26.099500Z",
     "start_time": "2024-05-01T20:16:19.562971Z"
    }
   },
   "id": "c44e47784520be6b",
   "execution_count": 256
  },
  {
   "cell_type": "code",
   "outputs": [
    {
     "data": {
      "text/plain": "         chemical1  chemical2  similarity  experimental  database  textmining  \\\n9665846   91758680         66           0             0         0         230   \n9665847   91758680        124         750             0         0         274   \n9665848   91758680        136           0             0         0         170   \n9665849   91758680       1145           0             0         0         179   \n9665850   91758680       6914           0             0         0         215   \n\n         combined_score  \n9665846             230  \n9665847             274  \n9665848             170  \n9665849             179  \n9665850             215  ",
      "text/html": "<div>\n<style scoped>\n    .dataframe tbody tr th:only-of-type {\n        vertical-align: middle;\n    }\n\n    .dataframe tbody tr th {\n        vertical-align: top;\n    }\n\n    .dataframe thead th {\n        text-align: right;\n    }\n</style>\n<table border=\"1\" class=\"dataframe\">\n  <thead>\n    <tr style=\"text-align: right;\">\n      <th></th>\n      <th>chemical1</th>\n      <th>chemical2</th>\n      <th>similarity</th>\n      <th>experimental</th>\n      <th>database</th>\n      <th>textmining</th>\n      <th>combined_score</th>\n    </tr>\n  </thead>\n  <tbody>\n    <tr>\n      <th>9665846</th>\n      <td>91758680</td>\n      <td>66</td>\n      <td>0</td>\n      <td>0</td>\n      <td>0</td>\n      <td>230</td>\n      <td>230</td>\n    </tr>\n    <tr>\n      <th>9665847</th>\n      <td>91758680</td>\n      <td>124</td>\n      <td>750</td>\n      <td>0</td>\n      <td>0</td>\n      <td>274</td>\n      <td>274</td>\n    </tr>\n    <tr>\n      <th>9665848</th>\n      <td>91758680</td>\n      <td>136</td>\n      <td>0</td>\n      <td>0</td>\n      <td>0</td>\n      <td>170</td>\n      <td>170</td>\n    </tr>\n    <tr>\n      <th>9665849</th>\n      <td>91758680</td>\n      <td>1145</td>\n      <td>0</td>\n      <td>0</td>\n      <td>0</td>\n      <td>179</td>\n      <td>179</td>\n    </tr>\n    <tr>\n      <th>9665850</th>\n      <td>91758680</td>\n      <td>6914</td>\n      <td>0</td>\n      <td>0</td>\n      <td>0</td>\n      <td>215</td>\n      <td>215</td>\n    </tr>\n  </tbody>\n</table>\n</div>"
     },
     "execution_count": 185,
     "metadata": {},
     "output_type": "execute_result"
    }
   ],
   "source": [
    "# remove row if  \"chemical1\" or \"chemical2\" contains \"CIDs\"\n",
    "cci = cci[~cci['chemical1'].str.contains('CIDs')]\n",
    "cci = cci[~cci['chemical2'].str.contains('CIDs')]\n",
    "# remove \"CIDm\" part from chemical1 and chemical2 columns\n",
    "cci['chemical1'] = cci['chemical1'].str.replace('CIDm', '')\n",
    "cci['chemical2'] = cci['chemical2'].str.replace('CIDm', '')\n",
    "# remove leading zeros from \"chemical1\" and \"chemical2\" columns\n",
    "cci['chemical1'] = cci['chemical1'].str.replace('^0+', '')\n",
    "cci['chemical2'] = cci['chemical2'].str.replace('^0+', '')\n",
    "# chemical1 and chemical2 columns to int\n",
    "cci['chemical1'] = cci['chemical1'].astype(int)\n",
    "cci['chemical2'] = cci['chemical2'].astype(int)\n",
    "cci.head()"
   ],
   "metadata": {
    "collapsed": false,
    "ExecuteTime": {
     "end_time": "2024-05-01T19:28:35.154412Z",
     "start_time": "2024-05-01T19:28:25.980273Z"
    }
   },
   "id": "923bf0b629a17a2d",
   "execution_count": 185
  },
  {
   "cell_type": "code",
   "outputs": [],
   "source": [
    "# check the number of rows that both \"chemical1\" and \"chemical2\" are in HMDB\n",
    "mmi = cci[(cci['chemical1'].isin(mapping['PubChem'])) & (cci['chemical2'].isin(mapping['PubChem']))]"
   ],
   "metadata": {
    "collapsed": false,
    "ExecuteTime": {
     "end_time": "2024-05-01T18:54:51.879252Z",
     "start_time": "2024-05-01T18:54:51.621924Z"
    }
   },
   "id": "f89d974ab657c658",
   "execution_count": 150
  },
  {
   "cell_type": "code",
   "outputs": [],
   "source": [
    "# map PubChem to HMDB\n",
    "mmi.loc[:, 'chemical1'] = get_values_from_dict(mmi['chemical1'], mapping[['PubChem', 'HMDB']])\n",
    "mmi.loc[:, 'chemical2'] = get_values_from_dict(mmi['chemical2'], mapping[['PubChem', 'HMDB']])"
   ],
   "metadata": {
    "collapsed": false,
    "ExecuteTime": {
     "end_time": "2024-05-01T20:12:39.802062Z",
     "start_time": "2024-05-01T20:12:39.632066Z"
    }
   },
   "id": "5366484e529ec63f",
   "execution_count": 247
  },
  {
   "cell_type": "code",
   "outputs": [],
   "source": [
    "# mmi with experimental evidence > 0\n",
    "mmi_medium_evidence = mmi[mmi['combined_score'] > 400]"
   ],
   "metadata": {
    "collapsed": false,
    "ExecuteTime": {
     "end_time": "2024-05-01T20:13:20.051405Z",
     "start_time": "2024-05-01T20:13:20.042662Z"
    }
   },
   "id": "5b6e1708ef75b73c",
   "execution_count": 249
  },
  {
   "cell_type": "code",
   "outputs": [],
   "source": [
    "mmi_medium_evidence.to_csv('data/metabolites//mmi_medium_evidence.csv', index=False)"
   ],
   "metadata": {
    "collapsed": false,
    "ExecuteTime": {
     "end_time": "2024-05-01T20:15:09.692771Z",
     "start_time": "2024-05-01T20:15:09.621818Z"
    }
   },
   "id": "45c9ca0f5da643a2",
   "execution_count": 253
  },
  {
   "cell_type": "code",
   "outputs": [],
   "source": [],
   "metadata": {
    "collapsed": false
   },
   "id": "ad80644bb018da0c"
  }
 ],
 "metadata": {
  "kernelspec": {
   "display_name": "Python 3",
   "language": "python",
   "name": "python3"
  },
  "language_info": {
   "codemirror_mode": {
    "name": "ipython",
    "version": 2
   },
   "file_extension": ".py",
   "mimetype": "text/x-python",
   "name": "python",
   "nbconvert_exporter": "python",
   "pygments_lexer": "ipython2",
   "version": "2.7.6"
  }
 },
 "nbformat": 4,
 "nbformat_minor": 5
}
