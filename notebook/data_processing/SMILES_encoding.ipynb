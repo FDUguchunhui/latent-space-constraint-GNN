{
 "cells": [
  {
   "cell_type": "code",
   "execution_count": 89,
   "id": "initial_id",
   "metadata": {
    "collapsed": true,
    "ExecuteTime": {
     "end_time": "2024-05-01T23:57:48.113253Z",
     "start_time": "2024-05-01T23:57:48.105528Z"
    }
   },
   "outputs": [
    {
     "name": "stdout",
     "output_type": "stream",
     "text": [
      "/Users/cgu3/Documents/conditional-graph-variational-autoencoder\n"
     ]
    },
    {
     "data": {
      "text/plain": "'/Users/cgu3/Documents/conditional-graph-variational-autoencoder'"
     },
     "execution_count": 89,
     "metadata": {},
     "output_type": "execute_result"
    }
   ],
   "source": [
    "import torch\n",
    "import numpy as np\n",
    "import pandas as pd\n",
    "import matplotlib.pyplot as plt\n",
    "from IPython.core.interactiveshell import InteractiveShell\n",
    "InteractiveShell.ast_node_interactivity = \"all\"\n",
    "# import RDKit\n",
    "\n",
    "np.random.seed(123)\n",
    "\n",
    "%cd /Users/cgu3/Documents/conditional-graph-variational-autoencoder\n",
    "%pwd"
   ]
  },
  {
   "cell_type": "code",
   "outputs": [],
   "source": [
    "# %qtconsole"
   ],
   "metadata": {
    "collapsed": false,
    "ExecuteTime": {
     "end_time": "2024-05-01T23:57:48.672613Z",
     "start_time": "2024-05-01T23:57:48.670697Z"
    }
   },
   "id": "397375cb8b5de220",
   "execution_count": 90
  },
  {
   "cell_type": "code",
   "outputs": [
    {
     "data": {
      "text/plain": "       HMDB_ID                   NAME  \\\n0  HMDB0000001      1-Methylhistidine   \n1  HMDB0000002     1,3-Diaminopropane   \n2  HMDB0000005     2-Ketobutyric acid   \n3  HMDB0000008  2-Hydroxybutyric acid   \n4  HMDB0000010       2-Methoxyestrone   \n\n                                              SMILES  \\\n0                        CN1C=NC(C[C@H](N)C(O)=O)=C1   \n1                                              NCCCN   \n2                                      CCC(=O)C(O)=O   \n3  [H]OC(=O)[C@@]([H])(O[H])C([H])([H])C([H])([H]...   \n4  [H][C@@]12CCC(=O)[C@@]1(C)CC[C@]1([H])C3=C(CC[...   \n\n                      INCHIKEY CHEMICAL_FORMULA  AVERAGE_MASS   MONO_MASS  \n0  BRMWTNUJHUMWMS-LURJTMIESA-N        C7H11N3O2      169.1811  169.085127  \n1  XFNJVJPLKCPIBV-UHFFFAOYSA-N          C3H10N2       74.1249   74.084398  \n2  TYEYBOSBBBHJIV-UHFFFAOYSA-N           C4H6O3      102.0886  102.031694  \n3  AFENDNXGAFYKQO-VKHMYHEASA-N           C4H8O3      104.1050  104.047344  \n4  WHEUWNKSCXYKBU-QPWUGHHJSA-N         C19H24O3      300.3921  300.172545  ",
      "text/html": "<div>\n<style scoped>\n    .dataframe tbody tr th:only-of-type {\n        vertical-align: middle;\n    }\n\n    .dataframe tbody tr th {\n        vertical-align: top;\n    }\n\n    .dataframe thead th {\n        text-align: right;\n    }\n</style>\n<table border=\"1\" class=\"dataframe\">\n  <thead>\n    <tr style=\"text-align: right;\">\n      <th></th>\n      <th>HMDB_ID</th>\n      <th>NAME</th>\n      <th>SMILES</th>\n      <th>INCHIKEY</th>\n      <th>CHEMICAL_FORMULA</th>\n      <th>AVERAGE_MASS</th>\n      <th>MONO_MASS</th>\n    </tr>\n  </thead>\n  <tbody>\n    <tr>\n      <th>0</th>\n      <td>HMDB0000001</td>\n      <td>1-Methylhistidine</td>\n      <td>CN1C=NC(C[C@H](N)C(O)=O)=C1</td>\n      <td>BRMWTNUJHUMWMS-LURJTMIESA-N</td>\n      <td>C7H11N3O2</td>\n      <td>169.1811</td>\n      <td>169.085127</td>\n    </tr>\n    <tr>\n      <th>1</th>\n      <td>HMDB0000002</td>\n      <td>1,3-Diaminopropane</td>\n      <td>NCCCN</td>\n      <td>XFNJVJPLKCPIBV-UHFFFAOYSA-N</td>\n      <td>C3H10N2</td>\n      <td>74.1249</td>\n      <td>74.084398</td>\n    </tr>\n    <tr>\n      <th>2</th>\n      <td>HMDB0000005</td>\n      <td>2-Ketobutyric acid</td>\n      <td>CCC(=O)C(O)=O</td>\n      <td>TYEYBOSBBBHJIV-UHFFFAOYSA-N</td>\n      <td>C4H6O3</td>\n      <td>102.0886</td>\n      <td>102.031694</td>\n    </tr>\n    <tr>\n      <th>3</th>\n      <td>HMDB0000008</td>\n      <td>2-Hydroxybutyric acid</td>\n      <td>[H]OC(=O)[C@@]([H])(O[H])C([H])([H])C([H])([H]...</td>\n      <td>AFENDNXGAFYKQO-VKHMYHEASA-N</td>\n      <td>C4H8O3</td>\n      <td>104.1050</td>\n      <td>104.047344</td>\n    </tr>\n    <tr>\n      <th>4</th>\n      <td>HMDB0000010</td>\n      <td>2-Methoxyestrone</td>\n      <td>[H][C@@]12CCC(=O)[C@@]1(C)CC[C@]1([H])C3=C(CC[...</td>\n      <td>WHEUWNKSCXYKBU-QPWUGHHJSA-N</td>\n      <td>C19H24O3</td>\n      <td>300.3921</td>\n      <td>300.172545</td>\n    </tr>\n  </tbody>\n</table>\n</div>"
     },
     "execution_count": 91,
     "metadata": {},
     "output_type": "execute_result"
    }
   ],
   "source": [
    "dat = pd.read_csv('data/interactions/metabolites-detected-and-quantified.csv')\n",
    "dat.head()"
   ],
   "metadata": {
    "collapsed": false,
    "ExecuteTime": {
     "end_time": "2024-05-01T23:57:49.257145Z",
     "start_time": "2024-05-01T23:57:49.235299Z"
    }
   },
   "id": "19f3a6af2e9dda3c",
   "execution_count": 91
  },
  {
   "cell_type": "code",
   "outputs": [
    {
     "data": {
      "text/plain": "0"
     },
     "execution_count": 92,
     "metadata": {},
     "output_type": "execute_result"
    }
   ],
   "source": [
    "# check whether there is None or ''  in the column 'SMILES'\n",
    "dat['SMILES'].isnull().sum()"
   ],
   "metadata": {
    "collapsed": false,
    "ExecuteTime": {
     "end_time": "2024-05-01T23:57:57.176655Z",
     "start_time": "2024-05-01T23:57:57.169863Z"
    }
   },
   "id": "2d86e910390fde3a",
   "execution_count": 92
  },
  {
   "cell_type": "code",
   "outputs": [],
   "source": [
    "from rdkit import Chem"
   ],
   "metadata": {
    "collapsed": false,
    "ExecuteTime": {
     "end_time": "2024-05-01T23:57:57.345763Z",
     "start_time": "2024-05-01T23:57:57.342867Z"
    }
   },
   "id": "b3cf7d5888b90151",
   "execution_count": 93
  },
  {
   "cell_type": "code",
   "outputs": [
    {
     "data": {
      "text/plain": "[]"
     },
     "execution_count": 94,
     "metadata": {},
     "output_type": "execute_result"
    },
    {
     "data": {
      "text/plain": "Empty DataFrame\nColumns: [HMDB_ID, NAME, SMILES, INCHIKEY, CHEMICAL_FORMULA, AVERAGE_MASS, MONO_MASS]\nIndex: []",
      "text/html": "<div>\n<style scoped>\n    .dataframe tbody tr th:only-of-type {\n        vertical-align: middle;\n    }\n\n    .dataframe tbody tr th {\n        vertical-align: top;\n    }\n\n    .dataframe thead th {\n        text-align: right;\n    }\n</style>\n<table border=\"1\" class=\"dataframe\">\n  <thead>\n    <tr style=\"text-align: right;\">\n      <th></th>\n      <th>HMDB_ID</th>\n      <th>NAME</th>\n      <th>SMILES</th>\n      <th>INCHIKEY</th>\n      <th>CHEMICAL_FORMULA</th>\n      <th>AVERAGE_MASS</th>\n      <th>MONO_MASS</th>\n    </tr>\n  </thead>\n  <tbody>\n  </tbody>\n</table>\n</div>"
     },
     "execution_count": 94,
     "metadata": {},
     "output_type": "execute_result"
    }
   ],
   "source": [
    "from rdkit.Chem.MolStandardize import rdMolStandardize\n",
    "# convert dat['canonicalsmiles'] into a list and then using Chem.MolFromSmiles\n",
    "mols = [Chem.MolFromSmiles(x) for x in dat['SMILES']]\n",
    "# return index of 'none' in the list\n",
    "none_index = [i for i, x in enumerate(mols) if x is None]\n",
    "none_index\n",
    "# check the SMILES of the 'none' index\n",
    "dat.iloc[none_index]"
   ],
   "metadata": {
    "collapsed": false,
    "ExecuteTime": {
     "end_time": "2024-05-01T23:57:58.380202Z",
     "start_time": "2024-05-01T23:57:57.925156Z"
    }
   },
   "id": "4d96a4dc8a6d5efb",
   "execution_count": 94
  },
  {
   "cell_type": "code",
   "outputs": [],
   "source": [
    "from rdkit import DataStructs\n",
    "from rdkit.Chem import AllChem\n",
    "fpgen = AllChem.GetRDKitFPGenerator(fpSize=1024)\n",
    "fps = [fpgen.GetFingerprint(x) for x in mols]"
   ],
   "metadata": {
    "collapsed": false,
    "ExecuteTime": {
     "end_time": "2024-05-01T23:58:00.831811Z",
     "start_time": "2024-05-01T23:57:59.576186Z"
    }
   },
   "id": "f6040dba3387de60",
   "execution_count": 95
  },
  {
   "cell_type": "code",
   "outputs": [],
   "source": [
    "# get ECFP4 fingerprint\n",
    "fpgen = AllChem.GetMorganGenerator(radius=2, fpSize=1024)\n",
    "fps = [fpgen.GetFingerprint(x) for x in mols]"
   ],
   "metadata": {
    "collapsed": false,
    "ExecuteTime": {
     "end_time": "2024-05-01T23:58:00.942697Z",
     "start_time": "2024-05-01T23:58:00.832802Z"
    }
   },
   "id": "f44f568b3f2051b5",
   "execution_count": 96
  },
  {
   "cell_type": "code",
   "outputs": [],
   "source": [
    "# to np array\n",
    "fps_np = np.array([np.array(list(x.ToBitString())).astype(int) for x in fps])"
   ],
   "metadata": {
    "collapsed": false,
    "ExecuteTime": {
     "end_time": "2024-05-01T23:58:02.376551Z",
     "start_time": "2024-05-01T23:58:01.681369Z"
    }
   },
   "id": "6c140c4128dcff1c",
   "execution_count": 97
  },
  {
   "cell_type": "code",
   "outputs": [],
   "source": [
    "# np.array into torch.tensor\n",
    "fps_torch = torch.tensor(fps_np)"
   ],
   "metadata": {
    "collapsed": false,
    "ExecuteTime": {
     "end_time": "2024-04-30T16:19:56.900439Z",
     "start_time": "2024-04-30T16:19:56.876949Z"
    }
   },
   "id": "e51bb255b67c668a",
   "execution_count": 76
  },
  {
   "cell_type": "code",
   "outputs": [
    {
     "data": {
      "text/plain": "torch.Size([3382, 1024])"
     },
     "execution_count": 77,
     "metadata": {},
     "output_type": "execute_result"
    }
   ],
   "source": [
    "fps_torch.shape"
   ],
   "metadata": {
    "collapsed": false,
    "ExecuteTime": {
     "end_time": "2024-04-30T16:20:09.369610Z",
     "start_time": "2024-04-30T16:20:09.363776Z"
    }
   },
   "id": "be429170d7dc90cd",
   "execution_count": 77
  },
  {
   "cell_type": "code",
   "outputs": [],
   "source": [
    "# save np.array to file\n",
    "np.save('data/metabolites/ECFP.npy', fps_torch)"
   ],
   "metadata": {
    "collapsed": false,
    "ExecuteTime": {
     "end_time": "2024-04-30T16:26:19.152495Z",
     "start_time": "2024-04-30T16:26:19.131644Z"
    }
   },
   "id": "7113cc0f0aea5bdf",
   "execution_count": 78
  },
  {
   "cell_type": "code",
   "outputs": [],
   "source": [
    "import pickle"
   ],
   "metadata": {
    "collapsed": false,
    "ExecuteTime": {
     "end_time": "2024-05-01T20:28:40.683381Z",
     "start_time": "2024-05-01T20:28:40.650172Z"
    }
   },
   "id": "cd6a98dc61f763b3",
   "execution_count": 80
  },
  {
   "cell_type": "code",
   "outputs": [],
   "source": [],
   "metadata": {
    "collapsed": false
   },
   "id": "407fb79e835695ad"
  }
 ],
 "metadata": {
  "kernelspec": {
   "display_name": "Python 3",
   "language": "python",
   "name": "python3"
  },
  "language_info": {
   "codemirror_mode": {
    "name": "ipython",
    "version": 2
   },
   "file_extension": ".py",
   "mimetype": "text/x-python",
   "name": "python",
   "nbconvert_exporter": "python",
   "pygments_lexer": "ipython2",
   "version": "2.7.6"
  }
 },
 "nbformat": 4,
 "nbformat_minor": 5
}
