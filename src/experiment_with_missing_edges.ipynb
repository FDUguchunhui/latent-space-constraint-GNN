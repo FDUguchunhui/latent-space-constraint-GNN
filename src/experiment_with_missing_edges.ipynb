{
 "cells": [
  {
   "cell_type": "code",
   "execution_count": 1,
   "id": "initial_id",
   "metadata": {
    "collapsed": true,
    "ExecuteTime": {
     "end_time": "2024-03-27T21:57:42.267684Z",
     "start_time": "2024-03-27T21:57:40.229504Z"
    }
   },
   "outputs": [
    {
     "name": "stderr",
     "output_type": "stream",
     "text": [
      "/Users/cgu3/anaconda3/envs/cgvae/lib/python3.10/site-packages/torch_geometric/typing.py:63: UserWarning: An issue occurred while importing 'torch-scatter'. Disabling its usage. Stacktrace: dlopen(/Users/cgu3/anaconda3/envs/cgvae/lib/python3.10/site-packages/torch_scatter/_version_cpu.so, 0x0006): Symbol not found: __ZN3c1017RegisterOperatorsD1Ev\n",
      "  Referenced from: <149E82FB-0365-32E3-985A-BC7861332A5F> /Users/cgu3/anaconda3/envs/cgvae/lib/python3.10/site-packages/torch_scatter/_version_cpu.so\n",
      "  Expected in:     <F19B5356-08DC-327C-8EE1-6C5127508CD0> /Users/cgu3/anaconda3/envs/cgvae/lib/python3.10/site-packages/torch/lib/libtorch_cpu.dylib\n",
      "  warnings.warn(f\"An issue occurred while importing 'torch-scatter'. \"\n",
      "/Users/cgu3/anaconda3/envs/cgvae/lib/python3.10/site-packages/torch_geometric/typing.py:101: UserWarning: An issue occurred while importing 'torch-sparse'. Disabling its usage. Stacktrace: dlopen(/Users/cgu3/anaconda3/envs/cgvae/lib/python3.10/site-packages/torch_sparse/_version_cpu.so, 0x0006): Symbol not found: __ZN3c1017RegisterOperatorsD1Ev\n",
      "  Referenced from: <C210E479-0799-3757-AE7F-A29577E2D496> /Users/cgu3/anaconda3/envs/cgvae/lib/python3.10/site-packages/torch_sparse/_version_cpu.so\n",
      "  Expected in:     <F19B5356-08DC-327C-8EE1-6C5127508CD0> /Users/cgu3/anaconda3/envs/cgvae/lib/python3.10/site-packages/torch/lib/libtorch_cpu.dylib\n",
      "  warnings.warn(f\"An issue occurred while importing 'torch-sparse'. \"\n"
     ]
    },
    {
     "data": {
      "text/plain": "<IPython.core.display.HTML object>",
      "text/html": "<style>pre { white-space: pre !important; }</style>"
     },
     "metadata": {},
     "output_type": "display_data"
    }
   ],
   "source": [
    "import torch\n",
    "import torch_geometric as pyg\n",
    "import numpy as np\n",
    "import  data_transform\n",
    "import importlib\n",
    "importlib.reload(data_transform)\n",
    "from data_transform import get_data\n",
    "import baseline\n",
    "importlib.reload(baseline)\n",
    "import  cgvae\n",
    "importlib.reload(cgvae)\n",
    "\n",
    "from IPython.core.interactiveshell import InteractiveShell\n",
    "InteractiveShell.ast_node_interactivity = \"all\""
   ]
  },
  {
   "cell_type": "code",
   "outputs": [],
   "source": [],
   "metadata": {
    "collapsed": false
   },
   "id": "488b7e0bbaedf7e3"
  },
  {
   "cell_type": "code",
   "outputs": [
    {
     "name": "stdout",
     "output_type": "stream",
     "text": [
      "/Users/cgu3/Documents/cgvae\n"
     ]
    },
    {
     "data": {
      "text/plain": "'/Users/cgu3/Documents/cgvae'"
     },
     "execution_count": 2,
     "metadata": {},
     "output_type": "execute_result"
    }
   ],
   "source": [
    "%cd /Users/cgu3/Documents/cgvae\n",
    "%pwd"
   ],
   "metadata": {
    "collapsed": false,
    "ExecuteTime": {
     "end_time": "2024-03-27T21:58:14.486380Z",
     "start_time": "2024-03-27T21:58:14.480421Z"
    }
   },
   "id": "29c6f1728c0dfc4",
   "execution_count": 2
  },
  {
   "cell_type": "code",
   "outputs": [],
   "source": [
    "dataloader, dataset_size = get_data('../data', 'KarateClub', ratio=0.5, neg_edge_ratio=1.0)"
   ],
   "metadata": {
    "collapsed": false,
    "ExecuteTime": {
     "end_time": "2024-03-27T21:58:54.617417Z",
     "start_time": "2024-03-27T21:58:54.614721Z"
    }
   },
   "id": "7c478e10362784cf",
   "execution_count": 4
  },
  {
   "cell_type": "code",
   "outputs": [],
   "source": [
    "data = next(iter(dataloader))"
   ],
   "metadata": {
    "collapsed": false,
    "ExecuteTime": {
     "end_time": "2024-03-29T22:35:54.715674Z",
     "start_time": "2024-03-29T22:35:54.705302Z"
    }
   },
   "id": "fcec27e64c971fbb",
   "execution_count": 6
  },
  {
   "cell_type": "code",
   "outputs": [],
   "source": [
    "input_adj = pyg.utils.to_dense_adj(data['input'].edge_index,\n",
    "                       max_num_nodes=data['input'].x.size(0))"
   ],
   "metadata": {
    "collapsed": false,
    "ExecuteTime": {
     "end_time": "2024-03-29T22:36:24.245359Z",
     "start_time": "2024-03-29T22:36:24.242477Z"
    }
   },
   "id": "8f97821b352150f6",
   "execution_count": 10
  },
  {
   "cell_type": "code",
   "outputs": [
    {
     "data": {
      "text/plain": "tensor([[[0., 0., 0.,  ..., 1., 0., 0.],\n         [0., 0., 0.,  ..., 0., 0., 0.],\n         [0., 0., 0.,  ..., 0., 1., 0.],\n         ...,\n         [1., 0., 0.,  ..., 0., 1., 1.],\n         [0., 0., 1.,  ..., 1., 0., 1.],\n         [0., 0., 0.,  ..., 1., 1., 0.]]])"
     },
     "execution_count": 11,
     "metadata": {},
     "output_type": "execute_result"
    }
   ],
   "source": [
    "input_adj"
   ],
   "metadata": {
    "collapsed": false,
    "ExecuteTime": {
     "end_time": "2024-03-29T22:36:26.776830Z",
     "start_time": "2024-03-29T22:36:26.770057Z"
    }
   },
   "id": "5420b2bf39b51568",
   "execution_count": 11
  },
  {
   "cell_type": "code",
   "outputs": [],
   "source": [],
   "metadata": {
    "collapsed": false
   },
   "id": "1da284c753fe9e2a"
  }
 ],
 "metadata": {
  "kernelspec": {
   "display_name": "Python 3",
   "language": "python",
   "name": "python3"
  },
  "language_info": {
   "codemirror_mode": {
    "name": "ipython",
    "version": 2
   },
   "file_extension": ".py",
   "mimetype": "text/x-python",
   "name": "python",
   "nbconvert_exporter": "python",
   "pygments_lexer": "ipython2",
   "version": "2.7.6"
  }
 },
 "nbformat": 4,
 "nbformat_minor": 5
}
