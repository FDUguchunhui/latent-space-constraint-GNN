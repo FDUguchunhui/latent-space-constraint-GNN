{
 "cells": [
  {
   "cell_type": "code",
   "execution_count": 1,
   "id": "initial_id",
   "metadata": {
    "collapsed": true,
    "ExecuteTime": {
     "end_time": "2024-03-30T19:33:00.805213Z",
     "start_time": "2024-03-30T19:32:58.535493Z"
    }
   },
   "outputs": [
    {
     "name": "stderr",
     "output_type": "stream",
     "text": [
      "/Users/cgu3/anaconda3/envs/cgvae/lib/python3.10/site-packages/torch_geometric/typing.py:63: UserWarning: An issue occurred while importing 'torch-scatter'. Disabling its usage. Stacktrace: dlopen(/Users/cgu3/anaconda3/envs/cgvae/lib/python3.10/site-packages/torch_scatter/_version_cpu.so, 0x0006): Symbol not found: __ZN3c1017RegisterOperatorsD1Ev\n",
      "  Referenced from: <149E82FB-0365-32E3-985A-BC7861332A5F> /Users/cgu3/anaconda3/envs/cgvae/lib/python3.10/site-packages/torch_scatter/_version_cpu.so\n",
      "  Expected in:     <F19B5356-08DC-327C-8EE1-6C5127508CD0> /Users/cgu3/anaconda3/envs/cgvae/lib/python3.10/site-packages/torch/lib/libtorch_cpu.dylib\n",
      "  warnings.warn(f\"An issue occurred while importing 'torch-scatter'. \"\n",
      "/Users/cgu3/anaconda3/envs/cgvae/lib/python3.10/site-packages/torch_geometric/typing.py:101: UserWarning: An issue occurred while importing 'torch-sparse'. Disabling its usage. Stacktrace: dlopen(/Users/cgu3/anaconda3/envs/cgvae/lib/python3.10/site-packages/torch_sparse/_version_cpu.so, 0x0006): Symbol not found: __ZN3c1017RegisterOperatorsD1Ev\n",
      "  Referenced from: <C210E479-0799-3757-AE7F-A29577E2D496> /Users/cgu3/anaconda3/envs/cgvae/lib/python3.10/site-packages/torch_sparse/_version_cpu.so\n",
      "  Expected in:     <F19B5356-08DC-327C-8EE1-6C5127508CD0> /Users/cgu3/anaconda3/envs/cgvae/lib/python3.10/site-packages/torch/lib/libtorch_cpu.dylib\n",
      "  warnings.warn(f\"An issue occurred while importing 'torch-sparse'. \"\n"
     ]
    },
    {
     "data": {
      "text/plain": "<IPython.core.display.HTML object>",
      "text/html": "<style>pre { white-space: pre !important; }</style>"
     },
     "metadata": {},
     "output_type": "display_data"
    }
   ],
   "source": [
    "import torch\n",
    "import torch_geometric as pyg\n",
    "import numpy as np\n",
    "import  data_transform\n",
    "import importlib\n",
    "importlib.reload(data_transform)\n",
    "from data_transform import get_data\n",
    "import baseline\n",
    "importlib.reload(baseline)\n",
    "import  cgvae\n",
    "importlib.reload(cgvae)\n",
    "\n",
    "from IPython.display import display, HTML\n",
    "display(HTML(\"<style>pre { white-space: pre !important; }</style>\"))"
   ]
  },
  {
   "cell_type": "code",
   "outputs": [],
   "source": [
    "# open ipython terminal\n",
    "%qtconsole"
   ],
   "metadata": {
    "collapsed": false,
    "ExecuteTime": {
     "end_time": "2024-03-30T19:33:00.813630Z",
     "start_time": "2024-03-30T19:33:00.803342Z"
    }
   },
   "id": "c3e82018f0c06981",
   "execution_count": 2
  },
  {
   "cell_type": "code",
   "outputs": [],
   "source": [
    "from torch_geometric.datasets import KarateClub\n",
    "# dataset = KarateClub()"
   ],
   "metadata": {
    "collapsed": false,
    "ExecuteTime": {
     "end_time": "2024-03-30T19:33:01.296556Z",
     "start_time": "2024-03-30T19:33:01.291938Z"
    }
   },
   "id": "d006eadd884a20d7",
   "execution_count": 3
  },
  {
   "cell_type": "code",
   "outputs": [],
   "source": [
    "# data = dataset[0]"
   ],
   "metadata": {
    "collapsed": false,
    "ExecuteTime": {
     "end_time": "2024-03-30T19:33:01.485549Z",
     "start_time": "2024-03-30T19:33:01.460229Z"
    }
   },
   "id": "eccb001b5fab9dc1",
   "execution_count": 4
  },
  {
   "cell_type": "code",
   "outputs": [],
   "source": [
    "# data.x"
   ],
   "metadata": {
    "collapsed": false,
    "ExecuteTime": {
     "end_time": "2024-03-30T19:33:06.603358Z",
     "start_time": "2024-03-30T19:33:06.597973Z"
    }
   },
   "id": "928a058d5d3c0ef3",
   "execution_count": 5
  },
  {
   "cell_type": "code",
   "outputs": [],
   "source": [
    "SPLIT_RATIO = 0.05\n",
    "# dataloader, dataset_size = get_data('../data', 'KarateClub', ratio=0.5, neg_edge_ratio=1.0)\n",
    "dataloader, dataset_size = get_data('../data', 'Cora', ratio=SPLIT_RATIO)"
   ],
   "metadata": {
    "collapsed": false,
    "ExecuteTime": {
     "end_time": "2024-03-30T20:48:46.350297Z",
     "start_time": "2024-03-30T20:48:46.331174Z"
    }
   },
   "id": "6a1fac3f8cfdcba1",
   "execution_count": 73
  },
  {
   "cell_type": "code",
   "outputs": [],
   "source": [
    "data = next(iter(dataloader))"
   ],
   "metadata": {
    "collapsed": false,
    "ExecuteTime": {
     "end_time": "2024-03-30T20:48:47.219870Z",
     "start_time": "2024-03-30T20:48:46.543179Z"
    }
   },
   "id": "570ee53efaaa13a0",
   "execution_count": 74
  },
  {
   "cell_type": "code",
   "outputs": [],
   "source": [
    "dim = data['input'].x.shape[0]\n",
    "split = int(dim * SPLIT_RATIO)"
   ],
   "metadata": {
    "collapsed": false,
    "ExecuteTime": {
     "end_time": "2024-03-30T20:49:33.902857Z",
     "start_time": "2024-03-30T20:49:33.889077Z"
    }
   },
   "id": "e1c20f06f51ba0c7",
   "execution_count": 86
  },
  {
   "cell_type": "code",
   "outputs": [],
   "source": [
    "# create graph from edge_index\n",
    "import networkx as nx\n",
    "input_graph = pyg.utils.to_networkx(data['input'])\n",
    "output_graph = pyg.utils.to_networkx(data['output'])"
   ],
   "metadata": {
    "collapsed": false,
    "ExecuteTime": {
     "end_time": "2024-03-30T20:49:34.093461Z",
     "start_time": "2024-03-30T20:49:34.089530Z"
    }
   },
   "id": "a1ddfdceeecfe7e",
   "execution_count": 87
  },
  {
   "cell_type": "code",
   "outputs": [],
   "source": [
    "path = dict(nx.shortest_path_length(input_graph))"
   ],
   "metadata": {
    "collapsed": false,
    "ExecuteTime": {
     "end_time": "2024-03-30T20:49:35.982469Z",
     "start_time": "2024-03-30T20:49:34.267896Z"
    }
   },
   "id": "b96fc44254468922",
   "execution_count": 88
  },
  {
   "cell_type": "markdown",
   "source": [],
   "metadata": {
    "collapsed": false
   },
   "id": "b98ab77aa1700267"
  },
  {
   "cell_type": "code",
   "outputs": [],
   "source": [
    "# add edge between A and B if the distance between A and B is less than 3 with probability 0.5\n",
    "\n",
    "expanded_input_graph = input_graph\n",
    "\n",
    "for i in range(dim):\n",
    "    for j in range(dim):\n",
    "        # if  key-pair exists\n",
    "        if path.get(i) is not None and path[i].get(j) is not None:\n",
    "            if i != j and path[i][j]  == 2:\n",
    "                if np.random.rand() < 0.1:\n",
    "                    expanded_input_graph.add_edge(i, j)\n",
    "            \n",
    "            if i != j and path[i][j] == 3:\n",
    "                if np.random.rand() < 0.01:\n",
    "                    expanded_input_graph.add_edge(i, j)\n",
    "\n",
    "# make sure the graph is undirected\n",
    "expanded_input_graph = expanded_input_graph.to_undirected()"
   ],
   "metadata": {
    "collapsed": false,
    "ExecuteTime": {
     "end_time": "2024-03-30T20:50:20.666976Z",
     "start_time": "2024-03-30T20:50:18.710904Z"
    }
   },
   "id": "89720924fca28c71",
   "execution_count": 92
  },
  {
   "cell_type": "code",
   "outputs": [],
   "source": [
    "# plot the graph adjacency matrix\n",
    "import matplotlib.pyplot as plt\n"
   ],
   "metadata": {
    "collapsed": false,
    "ExecuteTime": {
     "end_time": "2024-03-30T20:50:20.670164Z",
     "start_time": "2024-03-30T20:50:20.667502Z"
    }
   },
   "id": "862fd6f0745309c0",
   "execution_count": 93
  },
  {
   "cell_type": "code",
   "outputs": [
    {
     "data": {
      "text/plain": "<Figure size 1000x1000 with 3 Axes>",
      "image/png": "[encoded data removed]"
     },
     "metadata": {},
     "output_type": "display_data"
    }
   ],
   "source": [
    "import matplotlib.pyplot as plt\n",
    "import numpy as np\n",
    "\n",
    "# Convert the adjacency matrices to dense format\n",
    "expanded_input_adj_matrix_dense = np.array(nx.adjacency_matrix(expanded_input_graph).todense())\n",
    "output_adjacency_matrix_dense = np.array(nx.adjacency_matrix(output_graph).todense())\n",
    "\n",
    "# Create a combined adjacency matrix\n",
    "combined_adj_matrix = expanded_input_adj_matrix_dense + output_adjacency_matrix_dense\n",
    "\n",
    "# Reassign value 1 if the value is greater than 1\n",
    "combined_adj_matrix[combined_adj_matrix > 1] = 1\n",
    "\n",
    "# Create a new figure\n",
    "plt.figure(figsize=(10, 10))\n",
    "\n",
    "# Plot the output adjacency matrix\n",
    "plt.subplot(2, 2, 2)\n",
    "plt.title('Output Adjacency Matrix')\n",
    "plt.matshow(output_adjacency_matrix_dense[:split, :split], cmap='Greys', fignum=False)\n",
    "\n",
    "# Plot the combined adjacency matrix\n",
    "plt.subplot(2, 2, 1)\n",
    "plt.title('Combined Adjacency Matrix')\n",
    "plt.matshow(combined_adj_matrix[:split, :split], cmap='Greys', fignum=False)\n",
    "\n",
    "plt.subplot(2, 2, 3)\n",
    "plt.title('Expanded Input Adjacency Matrix')\n",
    "plt.matshow(expanded_input_adj_matrix_dense[:split, :split],  cmap='Greys', fignum=False)\n",
    "\n",
    "# Display the plots\n",
    "plt.show()"
   ],
   "metadata": {
    "collapsed": false,
    "ExecuteTime": {
     "end_time": "2024-03-30T20:50:20.900630Z",
     "start_time": "2024-03-30T20:50:20.670709Z"
    }
   },
   "id": "c9d288a20a39adfb",
   "execution_count": 94
  },
  {
   "cell_type": "code",
   "outputs": [],
   "source": [
    "# # remove standalone pixels\n",
    "# from scipy import ndimage\n",
    "# erosion = ndimage.binary_erosion(expanded_input_adj_matrix_dense[:split, :split], structure=np.eye(2)).astype(int)\n",
    "# plt.matshow(erosion, cmap='Greys')"
   ],
   "metadata": {
    "collapsed": false,
    "ExecuteTime": {
     "end_time": "2024-03-30T20:48:51.246083Z",
     "start_time": "2024-03-30T20:48:51.243360Z"
    }
   },
   "id": "e24ac3268836cf41",
   "execution_count": 81
  },
  {
   "cell_type": "code",
   "outputs": [],
   "source": [
    "# get length of the adjacency matrix\n",
    "combined_adj_matrix = combined_adj_matrix\n",
    "dim = combined_adj_matrix.shape[0]\n",
    "mask = np.ones((dim, dim), dtype=bool)\n",
    "mask[:  int(dim / 2) ,:int(dim  /2)] = 0\n",
    "combined_adj_matrix[mask] = 0"
   ],
   "metadata": {
    "collapsed": false,
    "ExecuteTime": {
     "end_time": "2024-03-30T20:48:51.252448Z",
     "start_time": "2024-03-30T20:48:51.245618Z"
    }
   },
   "id": "c91c87dc535999ea",
   "execution_count": 82
  },
  {
   "cell_type": "code",
   "outputs": [
    {
     "data": {
      "text/plain": "<matplotlib.image.AxesImage at 0x2cceb98a0>"
     },
     "execution_count": 83,
     "metadata": {},
     "output_type": "execute_result"
    },
    {
     "data": {
      "text/plain": "<Figure size 480x480 with 1 Axes>",
      "image/png": "[encoded data removed]"
     },
     "metadata": {},
     "output_type": "display_data"
    }
   ],
   "source": [
    "plt.matshow(combined_adj_matrix, cmap='Greys')"
   ],
   "metadata": {
    "collapsed": false,
    "ExecuteTime": {
     "end_time": "2024-03-30T20:48:51.364239Z",
     "start_time": "2024-03-30T20:48:51.253160Z"
    }
   },
   "id": "fc08a3066a03015e",
   "execution_count": 83
  },
  {
   "cell_type": "code",
   "outputs": [],
   "source": [
    "# get the input adjacency matrix\n",
    "input_graph = pyg.utils.to_networkx(data['input'])\n",
    "input_adj_matrix = nx.adjacency_matrix(input_graph)"
   ],
   "metadata": {
    "collapsed": false,
    "ExecuteTime": {
     "end_time": "2024-03-30T20:48:52.639490Z",
     "start_time": "2024-03-30T20:48:52.636629Z"
    }
   },
   "id": "d3d3665d7bff1cc",
   "execution_count": 84
  },
  {
   "cell_type": "code",
   "outputs": [
    {
     "data": {
      "text/plain": "<matplotlib.image.AxesImage at 0x2ecd7a170>"
     },
     "execution_count": 85,
     "metadata": {},
     "output_type": "execute_result"
    },
    {
     "data": {
      "text/plain": "<Figure size 480x480 with 1 Axes>",
      "image/png": "[encoded data removed]"
     },
     "metadata": {},
     "output_type": "display_data"
    }
   ],
   "source": [
    "plt.matshow(input_adj_matrix.todense(), cmap='Greys')"
   ],
   "metadata": {
    "collapsed": false,
    "ExecuteTime": {
     "end_time": "2024-03-30T20:48:53.404980Z",
     "start_time": "2024-03-30T20:48:53.288620Z"
    }
   },
   "id": "68914074c16af7df",
   "execution_count": 85
  },
  {
   "cell_type": "code",
   "outputs": [
    {
     "data": {
      "text/plain": "<matplotlib.image.AxesImage at 0x2c66334c0>"
     },
     "execution_count": 319,
     "metadata": {},
     "output_type": "execute_result"
    },
    {
     "data": {
      "text/plain": "<Figure size 480x480 with 1 Axes>",
      "image/png": "[encoded data removed]"
     },
     "metadata": {},
     "output_type": "display_data"
    }
   ],
   "source": [
    "input_combined_adj_matrix = combined_adj_matrix + input_adj_matrix.todense()\n",
    "plt.matshow(input_combined_adj_matrix, cmap='Greys')"
   ],
   "metadata": {
    "collapsed": false,
    "ExecuteTime": {
     "end_time": "2024-03-30T19:25:14.244202Z",
     "start_time": "2024-03-30T19:25:14.170222Z"
    }
   },
   "id": "e083adb3b5bf1235",
   "execution_count": 319
  },
  {
   "cell_type": "code",
   "outputs": [],
   "source": [
    "# generate permutation matrix\n",
    "np.random.seed(0)\n",
    "perm = np.eye(dim, dtype=int)\n",
    "np.random.shuffle(perm)"
   ],
   "metadata": {
    "collapsed": false,
    "ExecuteTime": {
     "end_time": "2024-03-30T19:26:37.913831Z",
     "start_time": "2024-03-30T19:26:37.906581Z"
    }
   },
   "id": "c6f825fe3991b174",
   "execution_count": 327
  },
  {
   "cell_type": "code",
   "outputs": [
    {
     "data": {
      "text/plain": "<matplotlib.image.AxesImage at 0x2c6a2be80>"
     },
     "execution_count": 328,
     "metadata": {},
     "output_type": "execute_result"
    },
    {
     "data": {
      "text/plain": "<Figure size 480x480 with 1 Axes>",
      "image/png": "[encoded data removed]"
     },
     "metadata": {},
     "output_type": "display_data"
    }
   ],
   "source": [
    "# use permutation matrix to shuffle the adjacency matrix input_combined_adj_matrix\n",
    "shuffled_combined_adj_matrix = perm @ input_combined_adj_matrix @ perm.T\n",
    "plt.matshow(shuffled_combined_adj_matrix, cmap='Greys')"
   ],
   "metadata": {
    "collapsed": false,
    "ExecuteTime": {
     "end_time": "2024-03-30T19:26:38.258008Z",
     "start_time": "2024-03-30T19:26:38.180165Z"
    }
   },
   "id": "da2f6b3c8e03153c",
   "execution_count": 328
  },
  {
   "cell_type": "code",
   "outputs": [],
   "source": [
    "# todo: how to regularize the total number of edges in the adjacency matrix"
   ],
   "metadata": {
    "collapsed": false
   },
   "id": "b8863c2521f51738"
  }
 ],
 "metadata": {
  "kernelspec": {
   "display_name": "Python 3",
   "language": "python",
   "name": "python3"
  },
  "language_info": {
   "codemirror_mode": {
    "name": "ipython",
    "version": 2
   },
   "file_extension": ".py",
   "mimetype": "text/x-python",
   "name": "python",
   "nbconvert_exporter": "python",
   "pygments_lexer": "ipython2",
   "version": "2.7.6"
  }
 },
 "nbformat": 4,
 "nbformat_minor": 5
}
