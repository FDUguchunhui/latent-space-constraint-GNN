{
 "cells": [
  {
   "cell_type": "code",
   "execution_count": 69,
   "id": "initial_id",
   "metadata": {
    "collapsed": true,
    "ExecuteTime": {
     "end_time": "2024-03-30T22:12:38.457188Z",
     "start_time": "2024-03-30T22:12:38.426761Z"
    }
   },
   "outputs": [
    {
     "data": {
      "text/plain": "<module 'data_transform' from '/Users/cgu3/Documents/cgvae/src/data_transform.py'>"
     },
     "execution_count": 69,
     "metadata": {},
     "output_type": "execute_result"
    },
    {
     "data": {
      "text/plain": "<module 'baseline' from '/Users/cgu3/Documents/cgvae/src/baseline.py'>"
     },
     "execution_count": 69,
     "metadata": {},
     "output_type": "execute_result"
    },
    {
     "data": {
      "text/plain": "<module 'cgvae' from '/Users/cgu3/Documents/cgvae/src/cgvae.py'>"
     },
     "execution_count": 69,
     "metadata": {},
     "output_type": "execute_result"
    }
   ],
   "source": [
    "import torch\n",
    "import torch_geometric as pyg\n",
    "import numpy as np\n",
    "import  data_transform\n",
    "import importlib\n",
    "importlib.reload(data_transform)\n",
    "from data_transform import get_data\n",
    "import baseline\n",
    "importlib.reload(baseline)\n",
    "import  cgvae\n",
    "importlib.reload(cgvae)\n",
    "\n",
    "from IPython.core.interactiveshell import InteractiveShell\n",
    "InteractiveShell.ast_node_interactivity = \"all\""
   ]
  },
  {
   "cell_type": "code",
   "outputs": [],
   "source": [
    "# open ipython terminal\n",
    "%qtconsole"
   ],
   "metadata": {
    "collapsed": false,
    "ExecuteTime": {
     "end_time": "2024-03-30T21:59:27.629122Z",
     "start_time": "2024-03-30T21:59:27.615663Z"
    }
   },
   "id": "c3e82018f0c06981",
   "execution_count": 2
  },
  {
   "cell_type": "code",
   "outputs": [],
   "source": [
    "from torch_geometric.datasets import KarateClub\n",
    "# dataset = KarateClub()"
   ],
   "metadata": {
    "collapsed": false,
    "ExecuteTime": {
     "end_time": "2024-03-30T21:59:28.023480Z",
     "start_time": "2024-03-30T21:59:28.015759Z"
    }
   },
   "id": "d006eadd884a20d7",
   "execution_count": 3
  },
  {
   "cell_type": "code",
   "outputs": [],
   "source": [
    "# data = dataset[0]"
   ],
   "metadata": {
    "collapsed": false,
    "ExecuteTime": {
     "end_time": "2024-03-30T21:59:28.190055Z",
     "start_time": "2024-03-30T21:59:28.179646Z"
    }
   },
   "id": "eccb001b5fab9dc1",
   "execution_count": 4
  },
  {
   "cell_type": "code",
   "outputs": [],
   "source": [
    "# data.x"
   ],
   "metadata": {
    "collapsed": false,
    "ExecuteTime": {
     "end_time": "2024-03-30T21:59:28.352957Z",
     "start_time": "2024-03-30T21:59:28.349617Z"
    }
   },
   "id": "928a058d5d3c0ef3",
   "execution_count": 5
  },
  {
   "cell_type": "code",
   "outputs": [
    {
     "name": "stderr",
     "output_type": "stream",
     "text": [
      "Processing...\n",
      "Done!\n"
     ]
    }
   ],
   "source": [
    "SPLIT_RATIO = 0.05\n",
    "# dataloader, dataset_size = get_data('../data', 'KarateClub', ratio=0.5, neg_edge_ratio=1.0)\n",
    "dataloader, dataset_size = get_data('../data', 'Cora', ratio=SPLIT_RATIO,  random_seed=0)"
   ],
   "metadata": {
    "collapsed": false,
    "ExecuteTime": {
     "end_time": "2024-03-30T22:07:00.623574Z",
     "start_time": "2024-03-30T22:07:00.400891Z"
    }
   },
   "id": "6a1fac3f8cfdcba1",
   "execution_count": 47
  },
  {
   "cell_type": "code",
   "outputs": [],
   "source": [
    "data = next(iter(dataloader))"
   ],
   "metadata": {
    "collapsed": false,
    "ExecuteTime": {
     "end_time": "2024-03-30T22:15:05.241439Z",
     "start_time": "2024-03-30T22:15:04.577600Z"
    }
   },
   "id": "570ee53efaaa13a0",
   "execution_count": 76
  },
  {
   "cell_type": "code",
   "outputs": [],
   "source": [
    "dim = data['input'].x.shape[0]\n",
    "split = int(dim * SPLIT_RATIO)"
   ],
   "metadata": {
    "collapsed": false,
    "ExecuteTime": {
     "end_time": "2024-03-30T22:15:05.252811Z",
     "start_time": "2024-03-30T22:15:05.241822Z"
    }
   },
   "id": "e1c20f06f51ba0c7",
   "execution_count": 77
  },
  {
   "cell_type": "code",
   "outputs": [],
   "source": [
    "# create graph from edge_index\n",
    "import networkx as nx\n",
    "input_graph = pyg.utils.to_networkx(data['input'])\n",
    "output_graph = pyg.utils.to_networkx(data['output'])"
   ],
   "metadata": {
    "collapsed": false,
    "ExecuteTime": {
     "end_time": "2024-03-30T22:15:05.403150Z",
     "start_time": "2024-03-30T22:15:05.399482Z"
    }
   },
   "id": "a1ddfdceeecfe7e",
   "execution_count": 78
  },
  {
   "cell_type": "code",
   "outputs": [],
   "source": [
    "path = dict(nx.shortest_path_length(input_graph))"
   ],
   "metadata": {
    "collapsed": false,
    "ExecuteTime": {
     "end_time": "2024-03-30T22:15:07.154064Z",
     "start_time": "2024-03-30T22:15:05.432848Z"
    }
   },
   "id": "b96fc44254468922",
   "execution_count": 79
  },
  {
   "cell_type": "markdown",
   "source": [],
   "metadata": {
    "collapsed": false
   },
   "id": "b98ab77aa1700267"
  },
  {
   "cell_type": "code",
   "outputs": [],
   "source": [
    "# add edge between A and B if the distance between A and B is less than 3 with probability 0.5\n",
    "\n",
    "expanded_input_graph = input_graph\n",
    "\n",
    "for i in range(dim):\n",
    "    for j in range(dim):\n",
    "        # if  key-pair exists\n",
    "        if path.get(i) is not None and path[i].get(j) is not None:\n",
    "            if i != j and path[i][j]  == 2:\n",
    "                # if np.random.rand() < 0.1:\n",
    "                    expanded_input_graph.add_edge(i, j)\n",
    "            \n",
    "            if i != j and path[i][j] == 3:\n",
    "                # if np.random.rand() < 0.01:\n",
    "                    expanded_input_graph.add_edge(i, j)\n",
    "\n",
    "# make sure the graph is undirected\n",
    "expanded_input_graph = expanded_input_graph.to_undirected()"
   ],
   "metadata": {
    "collapsed": false,
    "ExecuteTime": {
     "end_time": "2024-03-30T22:15:09.438248Z",
     "start_time": "2024-03-30T22:15:07.179248Z"
    }
   },
   "id": "89720924fca28c71",
   "execution_count": 80
  },
  {
   "cell_type": "code",
   "outputs": [],
   "source": [
    "# plot the graph adjacency matrix\n",
    "import matplotlib.pyplot as plt\n"
   ],
   "metadata": {
    "collapsed": false,
    "ExecuteTime": {
     "end_time": "2024-03-30T22:15:09.443476Z",
     "start_time": "2024-03-30T22:15:09.438498Z"
    }
   },
   "id": "862fd6f0745309c0",
   "execution_count": 81
  },
  {
   "cell_type": "code",
   "outputs": [
    {
     "data": {
      "text/plain": "<Figure size 1000x1000 with 0 Axes>"
     },
     "execution_count": 82,
     "metadata": {},
     "output_type": "execute_result"
    },
    {
     "data": {
      "text/plain": "<Axes: >"
     },
     "execution_count": 82,
     "metadata": {},
     "output_type": "execute_result"
    },
    {
     "data": {
      "text/plain": "Text(0.5, 1.0, 'Output Adjacency Matrix')"
     },
     "execution_count": 82,
     "metadata": {},
     "output_type": "execute_result"
    },
    {
     "data": {
      "text/plain": "<matplotlib.image.AxesImage at 0x2eb4741c0>"
     },
     "execution_count": 82,
     "metadata": {},
     "output_type": "execute_result"
    },
    {
     "data": {
      "text/plain": "<Axes: >"
     },
     "execution_count": 82,
     "metadata": {},
     "output_type": "execute_result"
    },
    {
     "data": {
      "text/plain": "Text(0.5, 1.0, 'Combined Adjacency Matrix')"
     },
     "execution_count": 82,
     "metadata": {},
     "output_type": "execute_result"
    },
    {
     "data": {
      "text/plain": "<matplotlib.image.AxesImage at 0x2eb477d00>"
     },
     "execution_count": 82,
     "metadata": {},
     "output_type": "execute_result"
    },
    {
     "data": {
      "text/plain": "<Axes: >"
     },
     "execution_count": 82,
     "metadata": {},
     "output_type": "execute_result"
    },
    {
     "data": {
      "text/plain": "Text(0.5, 1.0, 'Expanded Input Adjacency Matrix')"
     },
     "execution_count": 82,
     "metadata": {},
     "output_type": "execute_result"
    },
    {
     "data": {
      "text/plain": "<matplotlib.image.AxesImage at 0x2eb4758a0>"
     },
     "execution_count": 82,
     "metadata": {},
     "output_type": "execute_result"
    },
    {
     "data": {
      "text/plain": "<Figure size 1000x1000 with 3 Axes>",
      "image/png": "[encoded data removed]"
     },
     "metadata": {},
     "output_type": "display_data"
    }
   ],
   "source": [
    "import matplotlib.pyplot as plt\n",
    "import numpy as np\n",
    "\n",
    "# Convert the adjacency matrices to dense format\n",
    "expanded_input_adj_matrix_dense = np.array(nx.adjacency_matrix(expanded_input_graph).todense())\n",
    "output_adjacency_matrix_dense = np.array(nx.adjacency_matrix(output_graph).todense())\n",
    "\n",
    "# Create a combined adjacency matrix\n",
    "combined_adj_matrix = expanded_input_adj_matrix_dense + output_adjacency_matrix_dense\n",
    "\n",
    "# Reassign value 1 if the value is greater than 1\n",
    "combined_adj_matrix[combined_adj_matrix > 1] = 1\n",
    "\n",
    "# Create a new figure\n",
    "plt.figure(figsize=(10, 10))\n",
    "\n",
    "# Plot the output adjacency matrix\n",
    "plt.subplot(2, 2, 2)\n",
    "plt.title('Output Adjacency Matrix')\n",
    "plt.matshow(output_adjacency_matrix_dense[:split, :split], cmap='Greys', fignum=False)\n",
    "\n",
    "# Plot the combined adjacency matrix\n",
    "plt.subplot(2, 2, 1)\n",
    "plt.title('Combined Adjacency Matrix')\n",
    "plt.matshow(combined_adj_matrix[:split, :split], cmap='Greys', fignum=False)\n",
    "\n",
    "plt.subplot(2, 2, 3)\n",
    "plt.title('Expanded Input Adjacency Matrix')\n",
    "plt.matshow(expanded_input_adj_matrix_dense[:split, :split],  cmap='Greys', fignum=False)\n",
    "\n",
    "# Display the plots\n",
    "plt.show()"
   ],
   "metadata": {
    "collapsed": false,
    "ExecuteTime": {
     "end_time": "2024-03-30T22:15:09.937020Z",
     "start_time": "2024-03-30T22:15:09.454355Z"
    }
   },
   "id": "c9d288a20a39adfb",
   "execution_count": 82
  },
  {
   "cell_type": "code",
   "outputs": [
    {
     "data": {
      "text/plain": "26"
     },
     "execution_count": 84,
     "metadata": {},
     "output_type": "execute_result"
    },
    {
     "data": {
      "text/plain": "704"
     },
     "execution_count": 84,
     "metadata": {},
     "output_type": "execute_result"
    },
    {
     "data": {
      "text/plain": "0.6153846153846154"
     },
     "execution_count": 84,
     "metadata": {},
     "output_type": "execute_result"
    }
   ],
   "source": [
    "# calculate proportions of values in the output adjacency matrix that are 1\n",
    "np.sum(output_adjacency_matrix_dense[:split, :split] == 1)\n",
    "np.sum(expanded_input_adj_matrix_dense[:split, :split] == 1)\n",
    "\n",
    "output_adjacency_matrix_dense_split = output_adjacency_matrix_dense[:split, :split]\n",
    "expanded_input_adj_matrix_dense_split = expanded_input_adj_matrix_dense[:split, :split]\n",
    "# a significant portion of direct connetions are also in indirect connections within 3 hops\n",
    "np.mean(output_adjacency_matrix_dense_split[np.where(output_adjacency_matrix_dense_split == 1)] == expanded_input_adj_matrix_dense_split[np.where(output_adjacency_matrix_dense_split == 1)])"
   ],
   "metadata": {
    "collapsed": false,
    "ExecuteTime": {
     "end_time": "2024-03-30T22:15:40.321757Z",
     "start_time": "2024-03-30T22:15:40.309661Z"
    }
   },
   "id": "90753a177bd1980c",
   "execution_count": 84
  },
  {
   "cell_type": "code",
   "outputs": [],
   "source": [
    "# # remove standalone pixels\n",
    "# from scipy import ndimage\n",
    "# erosion = ndimage.binary_erosion(expanded_input_adj_matrix_dense[:split, :split], structure=np.eye(2)).astype(int)\n",
    "# plt.matshow(erosion, cmap='Greys')"
   ],
   "metadata": {
    "collapsed": false,
    "ExecuteTime": {
     "start_time": "2024-03-30T22:02:53.989150Z"
    }
   },
   "id": "e24ac3268836cf41",
   "execution_count": null
  },
  {
   "cell_type": "code",
   "outputs": [],
   "source": [
    "# get length of the adjacency matrix\n",
    "combined_adj_matrix = combined_adj_matrix\n",
    "dim = combined_adj_matrix.shape[0]\n",
    "mask = np.ones((dim, dim), dtype=bool)\n",
    "mask[:  int(dim / 2) ,:int(dim  /2)] = 0\n",
    "combined_adj_matrix[mask] = 0"
   ],
   "metadata": {
    "collapsed": false,
    "ExecuteTime": {
     "start_time": "2024-03-30T22:02:53.990208Z"
    }
   },
   "id": "c91c87dc535999ea",
   "execution_count": null
  },
  {
   "cell_type": "code",
   "outputs": [
    {
     "data": {
      "text/plain": "<matplotlib.image.AxesImage at 0x2cceb98a0>"
     },
     "execution_count": 83,
     "metadata": {},
     "output_type": "execute_result"
    },
    {
     "data": {
      "text/plain": "<Figure size 480x480 with 1 Axes>",
      "image/png": "[encoded data removed]"
     },
     "metadata": {},
     "output_type": "display_data"
    }
   ],
   "source": [
    "plt.matshow(combined_adj_matrix, cmap='Greys')"
   ],
   "metadata": {
    "collapsed": false,
    "ExecuteTime": {
     "end_time": "2024-03-30T20:48:51.364239Z",
     "start_time": "2024-03-30T20:48:51.253160Z"
    }
   },
   "id": "fc08a3066a03015e",
   "execution_count": 83
  },
  {
   "cell_type": "code",
   "outputs": [],
   "source": [
    "# get the input adjacency matrix\n",
    "input_graph = pyg.utils.to_networkx(data['input'])\n",
    "input_adj_matrix = nx.adjacency_matrix(input_graph)"
   ],
   "metadata": {
    "collapsed": false,
    "ExecuteTime": {
     "end_time": "2024-03-30T20:48:52.639490Z",
     "start_time": "2024-03-30T20:48:52.636629Z"
    }
   },
   "id": "d3d3665d7bff1cc",
   "execution_count": 84
  },
  {
   "cell_type": "code",
   "outputs": [
    {
     "data": {
      "text/plain": "<matplotlib.image.AxesImage at 0x2ecd7a170>"
     },
     "execution_count": 85,
     "metadata": {},
     "output_type": "execute_result"
    },
    {
     "data": {
      "text/plain": "<Figure size 480x480 with 1 Axes>",
      "image/png": "[encoded data removed]"
     },
     "metadata": {},
     "output_type": "display_data"
    }
   ],
   "source": [
    "plt.matshow(input_adj_matrix.todense(), cmap='Greys')"
   ],
   "metadata": {
    "collapsed": false,
    "ExecuteTime": {
     "end_time": "2024-03-30T20:48:53.404980Z",
     "start_time": "2024-03-30T20:48:53.288620Z"
    }
   },
   "id": "68914074c16af7df",
   "execution_count": 85
  },
  {
   "cell_type": "code",
   "outputs": [
    {
     "data": {
      "text/plain": "<matplotlib.image.AxesImage at 0x2c66334c0>"
     },
     "execution_count": 319,
     "metadata": {},
     "output_type": "execute_result"
    },
    {
     "data": {
      "text/plain": "<Figure size 480x480 with 1 Axes>",
      "image/png": "[encoded data removed]"
     },
     "metadata": {},
     "output_type": "display_data"
    }
   ],
   "source": [
    "input_combined_adj_matrix = combined_adj_matrix + input_adj_matrix.todense()\n",
    "plt.matshow(input_combined_adj_matrix, cmap='Greys')"
   ],
   "metadata": {
    "collapsed": false,
    "ExecuteTime": {
     "end_time": "2024-03-30T19:25:14.244202Z",
     "start_time": "2024-03-30T19:25:14.170222Z"
    }
   },
   "id": "e083adb3b5bf1235",
   "execution_count": 319
  },
  {
   "cell_type": "code",
   "outputs": [],
   "source": [
    "# generate permutation matrix\n",
    "np.random.seed(0)\n",
    "perm = np.eye(dim, dtype=int)\n",
    "np.random.shuffle(perm)"
   ],
   "metadata": {
    "collapsed": false,
    "ExecuteTime": {
     "end_time": "2024-03-30T19:26:37.913831Z",
     "start_time": "2024-03-30T19:26:37.906581Z"
    }
   },
   "id": "c6f825fe3991b174",
   "execution_count": 327
  },
  {
   "cell_type": "code",
   "outputs": [
    {
     "data": {
      "text/plain": "<matplotlib.image.AxesImage at 0x2c6a2be80>"
     },
     "execution_count": 328,
     "metadata": {},
     "output_type": "execute_result"
    },
    {
     "data": {
      "text/plain": "<Figure size 480x480 with 1 Axes>",
      "image/png": "[encoded data removed]"
     },
     "metadata": {},
     "output_type": "display_data"
    }
   ],
   "source": [
    "# use permutation matrix to shuffle the adjacency matrix input_combined_adj_matrix\n",
    "shuffled_combined_adj_matrix = perm @ input_combined_adj_matrix @ perm.T\n",
    "plt.matshow(shuffled_combined_adj_matrix, cmap='Greys')"
   ],
   "metadata": {
    "collapsed": false,
    "ExecuteTime": {
     "end_time": "2024-03-30T19:26:38.258008Z",
     "start_time": "2024-03-30T19:26:38.180165Z"
    }
   },
   "id": "da2f6b3c8e03153c",
   "execution_count": 328
  },
  {
   "cell_type": "code",
   "outputs": [],
   "source": [
    "# todo: how to regularize the total number of edges in the adjacency matrix"
   ],
   "metadata": {
    "collapsed": false
   },
   "id": "b8863c2521f51738"
  }
 ],
 "metadata": {
  "kernelspec": {
   "display_name": "Python 3",
   "language": "python",
   "name": "python3"
  },
  "language_info": {
   "codemirror_mode": {
    "name": "ipython",
    "version": 2
   },
   "file_extension": ".py",
   "mimetype": "text/x-python",
   "name": "python",
   "nbconvert_exporter": "python",
   "pygments_lexer": "ipython2",
   "version": "2.7.6"
  }
 },
 "nbformat": 4,
 "nbformat_minor": 5
}
