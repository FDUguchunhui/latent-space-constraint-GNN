{
 "cells": [
  {
   "cell_type": "code",
   "execution_count": 45,
   "outputs": [],
   "source": [
    "import data_transform\n",
    "import importlib\n",
    "importlib.reload(data_transform)\n",
    "from data_transform import get_data\n",
    "import baseline\n",
    "importlib.reload(baseline)\n",
    "import cgvae\n",
    "importlib.reload(cgvae)\n",
    "\n",
    "import torch"
   ],
   "metadata": {
    "collapsed": false,
    "ExecuteTime": {
     "end_time": "2024-02-12T07:44:47.706466Z",
     "start_time": "2024-02-12T07:44:47.694430Z"
    }
   },
   "id": "f6a26bcbd3ff447d"
  },
  {
   "cell_type": "code",
   "execution_count": 30,
   "id": "initial_id",
   "metadata": {
    "collapsed": true,
    "ExecuteTime": {
     "end_time": "2024-02-12T07:32:33.817432Z",
     "start_time": "2024-02-12T07:32:30.532632Z"
    }
   },
   "outputs": [
    {
     "name": "stderr",
     "output_type": "stream",
     "text": [
      "Downloading https://github.com/kimiyoung/planetoid/raw/master/data/ind.cora.x\n",
      "Downloading https://github.com/kimiyoung/planetoid/raw/master/data/ind.cora.tx\n",
      "Downloading https://github.com/kimiyoung/planetoid/raw/master/data/ind.cora.allx\n",
      "Downloading https://github.com/kimiyoung/planetoid/raw/master/data/ind.cora.y\n",
      "Downloading https://github.com/kimiyoung/planetoid/raw/master/data/ind.cora.ty\n",
      "Downloading https://github.com/kimiyoung/planetoid/raw/master/data/ind.cora.ally\n",
      "Downloading https://github.com/kimiyoung/planetoid/raw/master/data/ind.cora.graph\n",
      "Downloading https://github.com/kimiyoung/planetoid/raw/master/data/ind.cora.test.index\n",
      "Processing...\n",
      "Done!\n"
     ]
    }
   ],
   "source": [
    "dataloader, dataset_size = get_data()"
   ]
  },
  {
   "cell_type": "code",
   "execution_count": 4,
   "outputs": [],
   "source": [
    "data = next(iter(dataloader))"
   ],
   "metadata": {
    "collapsed": false,
    "ExecuteTime": {
     "end_time": "2024-02-12T07:07:14.743669Z",
     "start_time": "2024-02-12T07:07:14.708062Z"
    }
   },
   "id": "599b2ab2f2b2ec9d"
  },
  {
   "cell_type": "markdown",
   "source": [],
   "metadata": {
    "collapsed": false
   },
   "id": "3f3752959c81b561"
  },
  {
   "cell_type": "code",
   "execution_count": 5,
   "outputs": [
    {
     "data": {
      "text/plain": "tensor(49216)"
     },
     "execution_count": 5,
     "metadata": {},
     "output_type": "execute_result"
    }
   ],
   "source": [
    "torch.sum(data['input'].x == 1)"
   ],
   "metadata": {
    "collapsed": false,
    "ExecuteTime": {
     "end_time": "2024-02-12T07:07:15.298410Z",
     "start_time": "2024-02-12T07:07:15.281207Z"
    }
   },
   "id": "765d0c27965b9cf6"
  },
  {
   "cell_type": "code",
   "execution_count": 46,
   "outputs": [
    {
     "name": "stderr",
     "output_type": "stream",
     "text": [
      "NN Epoch 0          : 100%|██████████| 1/1 [00:00<00:00, 25.70it/s, loss=0.67]\n"
     ]
    },
    {
     "name": "stdout",
     "output_type": "stream",
     "text": [
      "Loss: 0.6744\n"
     ]
    },
    {
     "name": "stderr",
     "output_type": "stream",
     "text": [
      "NN Epoch 1          : 100%|██████████| 1/1 [00:00<00:00, 25.30it/s, loss=2.00]\n"
     ]
    },
    {
     "name": "stdout",
     "output_type": "stream",
     "text": [
      "Loss: 1.9981\n"
     ]
    },
    {
     "name": "stderr",
     "output_type": "stream",
     "text": [
      "NN Epoch 2          : 100%|██████████| 1/1 [00:00<00:00, 28.68it/s, loss=0.69]\n"
     ]
    },
    {
     "name": "stdout",
     "output_type": "stream",
     "text": [
      "Loss: 0.6862\n"
     ]
    },
    {
     "name": "stderr",
     "output_type": "stream",
     "text": [
      "NN Epoch 3          : 100%|██████████| 1/1 [00:00<00:00, 29.41it/s, loss=0.65]\n"
     ]
    },
    {
     "name": "stdout",
     "output_type": "stream",
     "text": [
      "Loss: 0.6480\n"
     ]
    },
    {
     "name": "stderr",
     "output_type": "stream",
     "text": [
      "NN Epoch 4          : 100%|██████████| 1/1 [00:00<00:00, 29.16it/s, loss=0.66]\n"
     ]
    },
    {
     "name": "stdout",
     "output_type": "stream",
     "text": [
      "Loss: 0.6566\n"
     ]
    },
    {
     "name": "stderr",
     "output_type": "stream",
     "text": [
      "NN Epoch 5          : 100%|██████████| 1/1 [00:00<00:00, 27.77it/s, loss=0.64]\n"
     ]
    },
    {
     "name": "stdout",
     "output_type": "stream",
     "text": [
      "Loss: 0.6443\n"
     ]
    },
    {
     "name": "stderr",
     "output_type": "stream",
     "text": [
      "NN Epoch 6          : 100%|██████████| 1/1 [00:00<00:00, 28.73it/s, loss=0.63]\n"
     ]
    },
    {
     "name": "stdout",
     "output_type": "stream",
     "text": [
      "Loss: 0.6302\n"
     ]
    },
    {
     "name": "stderr",
     "output_type": "stream",
     "text": [
      "NN Epoch 7          : 100%|██████████| 1/1 [00:00<00:00, 27.08it/s, loss=0.62]\n"
     ]
    },
    {
     "name": "stdout",
     "output_type": "stream",
     "text": [
      "Loss: 0.6152\n"
     ]
    },
    {
     "name": "stderr",
     "output_type": "stream",
     "text": [
      "NN Epoch 8          : 100%|██████████| 1/1 [00:00<00:00, 24.43it/s, loss=0.60]\n"
     ]
    },
    {
     "name": "stdout",
     "output_type": "stream",
     "text": [
      "Loss: 0.5989\n"
     ]
    },
    {
     "name": "stderr",
     "output_type": "stream",
     "text": [
      "NN Epoch 9          : 100%|██████████| 1/1 [00:00<00:00, 28.47it/s, loss=0.58]\n"
     ]
    },
    {
     "name": "stdout",
     "output_type": "stream",
     "text": [
      "Loss: 0.5844\n"
     ]
    },
    {
     "name": "stderr",
     "output_type": "stream",
     "text": [
      "NN Epoch 10         : 100%|██████████| 1/1 [00:00<00:00, 29.58it/s, loss=0.58]\n"
     ]
    },
    {
     "name": "stdout",
     "output_type": "stream",
     "text": [
      "Loss: 0.5772\n"
     ]
    },
    {
     "name": "stderr",
     "output_type": "stream",
     "text": [
      "NN Epoch 11         : 100%|██████████| 1/1 [00:00<00:00, 28.90it/s, loss=0.57]\n"
     ]
    },
    {
     "name": "stdout",
     "output_type": "stream",
     "text": [
      "Loss: 0.5703\n"
     ]
    },
    {
     "name": "stderr",
     "output_type": "stream",
     "text": [
      "NN Epoch 12         : 100%|██████████| 1/1 [00:00<00:00, 26.94it/s, loss=0.56]\n"
     ]
    },
    {
     "name": "stdout",
     "output_type": "stream",
     "text": [
      "Loss: 0.5605\n"
     ]
    },
    {
     "name": "stderr",
     "output_type": "stream",
     "text": [
      "NN Epoch 13         : 100%|██████████| 1/1 [00:00<00:00, 30.25it/s, loss=0.54]\n"
     ]
    },
    {
     "name": "stdout",
     "output_type": "stream",
     "text": [
      "Loss: 0.5438\n"
     ]
    },
    {
     "name": "stderr",
     "output_type": "stream",
     "text": [
      "NN Epoch 14         : 100%|██████████| 1/1 [00:00<00:00, 27.07it/s, loss=0.53]\n"
     ]
    },
    {
     "name": "stdout",
     "output_type": "stream",
     "text": [
      "Loss: 0.5304\n"
     ]
    },
    {
     "name": "stderr",
     "output_type": "stream",
     "text": [
      "NN Epoch 15         : 100%|██████████| 1/1 [00:00<00:00, 29.53it/s, loss=0.52]\n"
     ]
    },
    {
     "name": "stdout",
     "output_type": "stream",
     "text": [
      "Loss: 0.5226\n"
     ]
    },
    {
     "name": "stderr",
     "output_type": "stream",
     "text": [
      "NN Epoch 16         : 100%|██████████| 1/1 [00:00<00:00, 27.75it/s, loss=0.52]\n"
     ]
    },
    {
     "name": "stdout",
     "output_type": "stream",
     "text": [
      "Loss: 0.5230\n"
     ]
    },
    {
     "name": "stderr",
     "output_type": "stream",
     "text": [
      "NN Epoch 17         : 100%|██████████| 1/1 [00:00<00:00, 28.93it/s, loss=0.51]\n"
     ]
    },
    {
     "name": "stdout",
     "output_type": "stream",
     "text": [
      "Loss: 0.5053\n"
     ]
    },
    {
     "name": "stderr",
     "output_type": "stream",
     "text": [
      "NN Epoch 18         : 100%|██████████| 1/1 [00:00<00:00, 28.96it/s, loss=0.50]\n"
     ]
    },
    {
     "name": "stdout",
     "output_type": "stream",
     "text": [
      "Loss: 0.5035\n"
     ]
    },
    {
     "name": "stderr",
     "output_type": "stream",
     "text": [
      "NN Epoch 19         : 100%|██████████| 1/1 [00:00<00:00, 30.20it/s, loss=0.49]\n"
     ]
    },
    {
     "name": "stdout",
     "output_type": "stream",
     "text": [
      "Loss: 0.4940\n"
     ]
    },
    {
     "name": "stderr",
     "output_type": "stream",
     "text": [
      "NN Epoch 20         : 100%|██████████| 1/1 [00:00<00:00, 28.81it/s, loss=0.49]\n"
     ]
    },
    {
     "name": "stdout",
     "output_type": "stream",
     "text": [
      "Loss: 0.4921\n"
     ]
    },
    {
     "name": "stderr",
     "output_type": "stream",
     "text": [
      "NN Epoch 21         : 100%|██████████| 1/1 [00:00<00:00, 27.44it/s, loss=0.49]\n"
     ]
    },
    {
     "name": "stdout",
     "output_type": "stream",
     "text": [
      "Loss: 0.4930\n"
     ]
    },
    {
     "name": "stderr",
     "output_type": "stream",
     "text": [
      "NN Epoch 22         : 100%|██████████| 1/1 [00:00<00:00, 26.69it/s, loss=0.49]\n"
     ]
    },
    {
     "name": "stdout",
     "output_type": "stream",
     "text": [
      "Loss: 0.4888\n"
     ]
    },
    {
     "name": "stderr",
     "output_type": "stream",
     "text": [
      "NN Epoch 23         : 100%|██████████| 1/1 [00:00<00:00, 26.58it/s, loss=0.47]\n"
     ]
    },
    {
     "name": "stdout",
     "output_type": "stream",
     "text": [
      "Loss: 0.4681\n"
     ]
    },
    {
     "name": "stderr",
     "output_type": "stream",
     "text": [
      "NN Epoch 24         : 100%|██████████| 1/1 [00:00<00:00, 27.63it/s, loss=0.46]\n"
     ]
    },
    {
     "name": "stdout",
     "output_type": "stream",
     "text": [
      "Loss: 0.4647\n"
     ]
    },
    {
     "name": "stderr",
     "output_type": "stream",
     "text": [
      "NN Epoch 25         : 100%|██████████| 1/1 [00:00<00:00, 27.98it/s, loss=0.46]\n"
     ]
    },
    {
     "name": "stdout",
     "output_type": "stream",
     "text": [
      "Loss: 0.4557\n"
     ]
    },
    {
     "name": "stderr",
     "output_type": "stream",
     "text": [
      "NN Epoch 26         : 100%|██████████| 1/1 [00:00<00:00, 29.48it/s, loss=0.46]\n"
     ]
    },
    {
     "name": "stdout",
     "output_type": "stream",
     "text": [
      "Loss: 0.4606\n"
     ]
    },
    {
     "name": "stderr",
     "output_type": "stream",
     "text": [
      "NN Epoch 27         : 100%|██████████| 1/1 [00:00<00:00, 27.50it/s, loss=0.45]\n"
     ]
    },
    {
     "name": "stdout",
     "output_type": "stream",
     "text": [
      "Loss: 0.4520\n"
     ]
    },
    {
     "name": "stderr",
     "output_type": "stream",
     "text": [
      "NN Epoch 28         : 100%|██████████| 1/1 [00:00<00:00, 28.96it/s, loss=0.45]\n"
     ]
    },
    {
     "name": "stdout",
     "output_type": "stream",
     "text": [
      "Loss: 0.4540\n"
     ]
    },
    {
     "name": "stderr",
     "output_type": "stream",
     "text": [
      "NN Epoch 29         : 100%|██████████| 1/1 [00:00<00:00, 28.69it/s, loss=0.45]\n"
     ]
    },
    {
     "name": "stdout",
     "output_type": "stream",
     "text": [
      "Loss: 0.4497\n"
     ]
    },
    {
     "name": "stderr",
     "output_type": "stream",
     "text": [
      "NN Epoch 30         : 100%|██████████| 1/1 [00:00<00:00, 29.57it/s, loss=0.45]\n"
     ]
    },
    {
     "name": "stdout",
     "output_type": "stream",
     "text": [
      "Loss: 0.4512\n"
     ]
    },
    {
     "name": "stderr",
     "output_type": "stream",
     "text": [
      "NN Epoch 31         : 100%|██████████| 1/1 [00:00<00:00, 30.31it/s, loss=0.45]\n"
     ]
    },
    {
     "name": "stdout",
     "output_type": "stream",
     "text": [
      "Loss: 0.4453\n"
     ]
    },
    {
     "name": "stderr",
     "output_type": "stream",
     "text": [
      "NN Epoch 32         : 100%|██████████| 1/1 [00:00<00:00, 29.26it/s, loss=0.44]\n"
     ]
    },
    {
     "name": "stdout",
     "output_type": "stream",
     "text": [
      "Loss: 0.4392\n"
     ]
    },
    {
     "name": "stderr",
     "output_type": "stream",
     "text": [
      "NN Epoch 33         : 100%|██████████| 1/1 [00:00<00:00, 30.70it/s, loss=0.45]\n"
     ]
    },
    {
     "name": "stdout",
     "output_type": "stream",
     "text": [
      "Loss: 0.4450\n"
     ]
    },
    {
     "name": "stderr",
     "output_type": "stream",
     "text": [
      "NN Epoch 34         : 100%|██████████| 1/1 [00:00<00:00, 30.41it/s, loss=0.44]\n"
     ]
    },
    {
     "name": "stdout",
     "output_type": "stream",
     "text": [
      "Loss: 0.4435\n"
     ]
    },
    {
     "name": "stderr",
     "output_type": "stream",
     "text": [
      "NN Epoch 35         : 100%|██████████| 1/1 [00:00<00:00, 27.82it/s, loss=0.43]\n"
     ]
    },
    {
     "name": "stdout",
     "output_type": "stream",
     "text": [
      "Loss: 0.4292\n"
     ]
    },
    {
     "name": "stderr",
     "output_type": "stream",
     "text": [
      "NN Epoch 36         : 100%|██████████| 1/1 [00:00<00:00, 28.20it/s, loss=0.43]\n"
     ]
    },
    {
     "name": "stdout",
     "output_type": "stream",
     "text": [
      "Loss: 0.4264\n"
     ]
    },
    {
     "name": "stderr",
     "output_type": "stream",
     "text": [
      "NN Epoch 37         : 100%|██████████| 1/1 [00:00<00:00, 31.13it/s, loss=0.43]\n"
     ]
    },
    {
     "name": "stdout",
     "output_type": "stream",
     "text": [
      "Loss: 0.4314\n"
     ]
    },
    {
     "name": "stderr",
     "output_type": "stream",
     "text": [
      "NN Epoch 38         : 100%|██████████| 1/1 [00:00<00:00, 28.48it/s, loss=0.42]\n"
     ]
    },
    {
     "name": "stdout",
     "output_type": "stream",
     "text": [
      "Loss: 0.4238\n"
     ]
    },
    {
     "name": "stderr",
     "output_type": "stream",
     "text": [
      "NN Epoch 39         : 100%|██████████| 1/1 [00:00<00:00, 27.96it/s, loss=0.43]\n"
     ]
    },
    {
     "name": "stdout",
     "output_type": "stream",
     "text": [
      "Loss: 0.4266\n"
     ]
    },
    {
     "name": "stderr",
     "output_type": "stream",
     "text": [
      "NN Epoch 40         : 100%|██████████| 1/1 [00:00<00:00, 31.42it/s, loss=0.43]\n"
     ]
    },
    {
     "name": "stdout",
     "output_type": "stream",
     "text": [
      "Loss: 0.4258\n"
     ]
    },
    {
     "name": "stderr",
     "output_type": "stream",
     "text": [
      "NN Epoch 41         : 100%|██████████| 1/1 [00:00<00:00, 29.12it/s, loss=0.44]\n"
     ]
    },
    {
     "name": "stdout",
     "output_type": "stream",
     "text": [
      "Loss: 0.4357\n"
     ]
    },
    {
     "name": "stderr",
     "output_type": "stream",
     "text": [
      "NN Epoch 42         : 100%|██████████| 1/1 [00:00<00:00, 31.05it/s, loss=0.42]\n"
     ]
    },
    {
     "name": "stdout",
     "output_type": "stream",
     "text": [
      "Loss: 0.4207\n"
     ]
    },
    {
     "name": "stderr",
     "output_type": "stream",
     "text": [
      "NN Epoch 43         : 100%|██████████| 1/1 [00:00<00:00, 31.36it/s, loss=0.42]\n"
     ]
    },
    {
     "name": "stdout",
     "output_type": "stream",
     "text": [
      "Loss: 0.4150\n"
     ]
    },
    {
     "name": "stderr",
     "output_type": "stream",
     "text": [
      "NN Epoch 44         : 100%|██████████| 1/1 [00:00<00:00, 31.95it/s, loss=0.41]\n"
     ]
    },
    {
     "name": "stdout",
     "output_type": "stream",
     "text": [
      "Loss: 0.4116\n"
     ]
    },
    {
     "name": "stderr",
     "output_type": "stream",
     "text": [
      "NN Epoch 45         : 100%|██████████| 1/1 [00:00<00:00, 32.56it/s, loss=0.42]\n"
     ]
    },
    {
     "name": "stdout",
     "output_type": "stream",
     "text": [
      "Loss: 0.4230\n"
     ]
    },
    {
     "name": "stderr",
     "output_type": "stream",
     "text": [
      "NN Epoch 46         : 100%|██████████| 1/1 [00:00<00:00, 30.58it/s, loss=0.42]\n"
     ]
    },
    {
     "name": "stdout",
     "output_type": "stream",
     "text": [
      "Loss: 0.4218\n"
     ]
    },
    {
     "name": "stderr",
     "output_type": "stream",
     "text": [
      "NN Epoch 47         : 100%|██████████| 1/1 [00:00<00:00, 31.96it/s, loss=0.41]\n"
     ]
    },
    {
     "name": "stdout",
     "output_type": "stream",
     "text": [
      "Loss: 0.4114\n"
     ]
    },
    {
     "name": "stderr",
     "output_type": "stream",
     "text": [
      "NN Epoch 48         : 100%|██████████| 1/1 [00:00<00:00, 31.85it/s, loss=0.42]\n"
     ]
    },
    {
     "name": "stdout",
     "output_type": "stream",
     "text": [
      "Loss: 0.4192\n"
     ]
    },
    {
     "name": "stderr",
     "output_type": "stream",
     "text": [
      "NN Epoch 49         : 100%|██████████| 1/1 [00:00<00:00, 32.16it/s, loss=0.41]\n"
     ]
    },
    {
     "name": "stdout",
     "output_type": "stream",
     "text": [
      "Loss: 0.4117\n"
     ]
    },
    {
     "name": "stderr",
     "output_type": "stream",
     "text": [
      "NN Epoch 50         : 100%|██████████| 1/1 [00:00<00:00, 29.35it/s, loss=0.42]\n"
     ]
    },
    {
     "name": "stdout",
     "output_type": "stream",
     "text": [
      "Loss: 0.4191\n"
     ]
    },
    {
     "name": "stderr",
     "output_type": "stream",
     "text": [
      "NN Epoch 51         : 100%|██████████| 1/1 [00:00<00:00, 29.43it/s, loss=0.41]\n"
     ]
    },
    {
     "name": "stdout",
     "output_type": "stream",
     "text": [
      "Loss: 0.4091\n"
     ]
    },
    {
     "name": "stderr",
     "output_type": "stream",
     "text": [
      "NN Epoch 52         : 100%|██████████| 1/1 [00:00<00:00, 28.88it/s, loss=0.41]\n"
     ]
    },
    {
     "name": "stdout",
     "output_type": "stream",
     "text": [
      "Loss: 0.4114\n"
     ]
    },
    {
     "name": "stderr",
     "output_type": "stream",
     "text": [
      "NN Epoch 53         : 100%|██████████| 1/1 [00:00<00:00, 29.99it/s, loss=0.41]\n"
     ]
    },
    {
     "name": "stdout",
     "output_type": "stream",
     "text": [
      "Loss: 0.4120\n"
     ]
    },
    {
     "name": "stderr",
     "output_type": "stream",
     "text": [
      "NN Epoch 54         : 100%|██████████| 1/1 [00:00<00:00, 29.64it/s, loss=0.40]\n"
     ]
    },
    {
     "name": "stdout",
     "output_type": "stream",
     "text": [
      "Loss: 0.4049\n"
     ]
    },
    {
     "name": "stderr",
     "output_type": "stream",
     "text": [
      "NN Epoch 55         : 100%|██████████| 1/1 [00:00<00:00, 28.96it/s, loss=0.41]\n"
     ]
    },
    {
     "name": "stdout",
     "output_type": "stream",
     "text": [
      "Loss: 0.4083\n"
     ]
    },
    {
     "name": "stderr",
     "output_type": "stream",
     "text": [
      "NN Epoch 56         : 100%|██████████| 1/1 [00:00<00:00, 30.05it/s, loss=0.41]\n"
     ]
    },
    {
     "name": "stdout",
     "output_type": "stream",
     "text": [
      "Loss: 0.4054\n"
     ]
    },
    {
     "name": "stderr",
     "output_type": "stream",
     "text": [
      "NN Epoch 57         : 100%|██████████| 1/1 [00:00<00:00, 29.77it/s, loss=0.41]\n"
     ]
    },
    {
     "name": "stdout",
     "output_type": "stream",
     "text": [
      "Loss: 0.4147\n"
     ]
    },
    {
     "name": "stderr",
     "output_type": "stream",
     "text": [
      "NN Epoch 58         : 100%|██████████| 1/1 [00:00<00:00, 29.75it/s, loss=0.40]\n"
     ]
    },
    {
     "name": "stdout",
     "output_type": "stream",
     "text": [
      "Loss: 0.4049\n"
     ]
    },
    {
     "name": "stderr",
     "output_type": "stream",
     "text": [
      "NN Epoch 59         : 100%|██████████| 1/1 [00:00<00:00, 29.96it/s, loss=0.41]\n"
     ]
    },
    {
     "name": "stdout",
     "output_type": "stream",
     "text": [
      "Loss: 0.4105\n"
     ]
    },
    {
     "name": "stderr",
     "output_type": "stream",
     "text": [
      "NN Epoch 60         : 100%|██████████| 1/1 [00:00<00:00, 29.05it/s, loss=0.40]\n"
     ]
    },
    {
     "name": "stdout",
     "output_type": "stream",
     "text": [
      "Loss: 0.4018\n"
     ]
    },
    {
     "name": "stderr",
     "output_type": "stream",
     "text": [
      "NN Epoch 61         : 100%|██████████| 1/1 [00:00<00:00, 29.20it/s, loss=0.41]\n"
     ]
    },
    {
     "name": "stdout",
     "output_type": "stream",
     "text": [
      "Loss: 0.4073\n"
     ]
    },
    {
     "name": "stderr",
     "output_type": "stream",
     "text": [
      "NN Epoch 62         : 100%|██████████| 1/1 [00:00<00:00, 30.52it/s, loss=0.40]\n"
     ]
    },
    {
     "name": "stdout",
     "output_type": "stream",
     "text": [
      "Loss: 0.3990\n"
     ]
    },
    {
     "name": "stderr",
     "output_type": "stream",
     "text": [
      "NN Epoch 63         : 100%|██████████| 1/1 [00:00<00:00, 29.86it/s, loss=0.40]\n"
     ]
    },
    {
     "name": "stdout",
     "output_type": "stream",
     "text": [
      "Loss: 0.4021\n"
     ]
    },
    {
     "name": "stderr",
     "output_type": "stream",
     "text": [
      "NN Epoch 64         : 100%|██████████| 1/1 [00:00<00:00, 29.58it/s, loss=0.41]\n"
     ]
    },
    {
     "name": "stdout",
     "output_type": "stream",
     "text": [
      "Loss: 0.4101\n"
     ]
    },
    {
     "name": "stderr",
     "output_type": "stream",
     "text": [
      "NN Epoch 65         : 100%|██████████| 1/1 [00:00<00:00, 27.92it/s, loss=0.42]\n"
     ]
    },
    {
     "name": "stdout",
     "output_type": "stream",
     "text": [
      "Loss: 0.4183\n"
     ]
    },
    {
     "name": "stderr",
     "output_type": "stream",
     "text": [
      "NN Epoch 66         : 100%|██████████| 1/1 [00:00<00:00, 28.00it/s, loss=0.40]\n"
     ]
    },
    {
     "name": "stdout",
     "output_type": "stream",
     "text": [
      "Loss: 0.3985\n"
     ]
    },
    {
     "name": "stderr",
     "output_type": "stream",
     "text": [
      "NN Epoch 67         : 100%|██████████| 1/1 [00:00<00:00, 29.30it/s, loss=0.41]\n"
     ]
    },
    {
     "name": "stdout",
     "output_type": "stream",
     "text": [
      "Loss: 0.4056\n"
     ]
    },
    {
     "name": "stderr",
     "output_type": "stream",
     "text": [
      "NN Epoch 68         : 100%|██████████| 1/1 [00:00<00:00, 28.03it/s, loss=0.40]\n"
     ]
    },
    {
     "name": "stdout",
     "output_type": "stream",
     "text": [
      "Loss: 0.4049\n"
     ]
    },
    {
     "name": "stderr",
     "output_type": "stream",
     "text": [
      "NN Epoch 69         : 100%|██████████| 1/1 [00:00<00:00, 30.33it/s, loss=0.41]\n"
     ]
    },
    {
     "name": "stdout",
     "output_type": "stream",
     "text": [
      "Loss: 0.4083\n"
     ]
    },
    {
     "name": "stderr",
     "output_type": "stream",
     "text": [
      "NN Epoch 70         : 100%|██████████| 1/1 [00:00<00:00, 26.92it/s, loss=0.40]\n"
     ]
    },
    {
     "name": "stdout",
     "output_type": "stream",
     "text": [
      "Loss: 0.4009\n"
     ]
    },
    {
     "name": "stderr",
     "output_type": "stream",
     "text": [
      "NN Epoch 71         : 100%|██████████| 1/1 [00:00<00:00, 30.21it/s, loss=0.41]\n"
     ]
    },
    {
     "name": "stdout",
     "output_type": "stream",
     "text": [
      "Loss: 0.4096\n"
     ]
    },
    {
     "name": "stderr",
     "output_type": "stream",
     "text": [
      "NN Epoch 72         : 100%|██████████| 1/1 [00:00<00:00, 28.37it/s, loss=0.40]\n"
     ]
    },
    {
     "name": "stdout",
     "output_type": "stream",
     "text": [
      "Loss: 0.4030\n"
     ]
    },
    {
     "name": "stderr",
     "output_type": "stream",
     "text": [
      "NN Epoch 73         : 100%|██████████| 1/1 [00:00<00:00, 30.93it/s, loss=0.40]\n"
     ]
    },
    {
     "name": "stdout",
     "output_type": "stream",
     "text": [
      "Loss: 0.4047\n"
     ]
    },
    {
     "name": "stderr",
     "output_type": "stream",
     "text": [
      "NN Epoch 74         : 100%|██████████| 1/1 [00:00<00:00, 28.39it/s, loss=0.39]\n"
     ]
    },
    {
     "name": "stdout",
     "output_type": "stream",
     "text": [
      "Loss: 0.3936\n"
     ]
    },
    {
     "name": "stderr",
     "output_type": "stream",
     "text": [
      "NN Epoch 75         : 100%|██████████| 1/1 [00:00<00:00, 28.41it/s, loss=0.40]\n"
     ]
    },
    {
     "name": "stdout",
     "output_type": "stream",
     "text": [
      "Loss: 0.4037\n"
     ]
    },
    {
     "name": "stderr",
     "output_type": "stream",
     "text": [
      "NN Epoch 76         : 100%|██████████| 1/1 [00:00<00:00, 30.03it/s, loss=0.41]\n"
     ]
    },
    {
     "name": "stdout",
     "output_type": "stream",
     "text": [
      "Loss: 0.4055\n"
     ]
    },
    {
     "name": "stderr",
     "output_type": "stream",
     "text": [
      "NN Epoch 77         : 100%|██████████| 1/1 [00:00<00:00, 29.59it/s, loss=0.40]\n"
     ]
    },
    {
     "name": "stdout",
     "output_type": "stream",
     "text": [
      "Loss: 0.4006\n"
     ]
    },
    {
     "name": "stderr",
     "output_type": "stream",
     "text": [
      "NN Epoch 78         : 100%|██████████| 1/1 [00:00<00:00, 29.04it/s, loss=0.40]\n"
     ]
    },
    {
     "name": "stdout",
     "output_type": "stream",
     "text": [
      "Loss: 0.3960\n"
     ]
    },
    {
     "name": "stderr",
     "output_type": "stream",
     "text": [
      "NN Epoch 79         : 100%|██████████| 1/1 [00:00<00:00, 30.37it/s, loss=0.40]\n"
     ]
    },
    {
     "name": "stdout",
     "output_type": "stream",
     "text": [
      "Loss: 0.3986\n"
     ]
    },
    {
     "name": "stderr",
     "output_type": "stream",
     "text": [
      "NN Epoch 80         : 100%|██████████| 1/1 [00:00<00:00, 27.29it/s, loss=0.40]\n"
     ]
    },
    {
     "name": "stdout",
     "output_type": "stream",
     "text": [
      "Loss: 0.4004\n"
     ]
    },
    {
     "name": "stderr",
     "output_type": "stream",
     "text": [
      "NN Epoch 81         : 100%|██████████| 1/1 [00:00<00:00, 28.47it/s, loss=0.40]\n"
     ]
    },
    {
     "name": "stdout",
     "output_type": "stream",
     "text": [
      "Loss: 0.3967\n"
     ]
    },
    {
     "name": "stderr",
     "output_type": "stream",
     "text": [
      "NN Epoch 82         : 100%|██████████| 1/1 [00:00<00:00, 29.74it/s, loss=0.40]\n"
     ]
    },
    {
     "name": "stdout",
     "output_type": "stream",
     "text": [
      "Loss: 0.3989\n"
     ]
    },
    {
     "name": "stderr",
     "output_type": "stream",
     "text": [
      "NN Epoch 83         : 100%|██████████| 1/1 [00:00<00:00, 28.39it/s, loss=0.41]\n"
     ]
    },
    {
     "name": "stdout",
     "output_type": "stream",
     "text": [
      "Loss: 0.4142\n"
     ]
    },
    {
     "name": "stderr",
     "output_type": "stream",
     "text": [
      "NN Epoch 84         : 100%|██████████| 1/1 [00:00<00:00, 28.11it/s, loss=0.40]\n"
     ]
    },
    {
     "name": "stdout",
     "output_type": "stream",
     "text": [
      "Loss: 0.3965\n"
     ]
    },
    {
     "name": "stderr",
     "output_type": "stream",
     "text": [
      "NN Epoch 85         : 100%|██████████| 1/1 [00:00<00:00, 29.40it/s, loss=0.39]\n"
     ]
    },
    {
     "name": "stdout",
     "output_type": "stream",
     "text": [
      "Loss: 0.3922\n"
     ]
    },
    {
     "name": "stderr",
     "output_type": "stream",
     "text": [
      "NN Epoch 86         : 100%|██████████| 1/1 [00:00<00:00, 29.37it/s, loss=0.39]\n"
     ]
    },
    {
     "name": "stdout",
     "output_type": "stream",
     "text": [
      "Loss: 0.3919\n"
     ]
    },
    {
     "name": "stderr",
     "output_type": "stream",
     "text": [
      "NN Epoch 87         : 100%|██████████| 1/1 [00:00<00:00, 29.42it/s, loss=0.39]\n"
     ]
    },
    {
     "name": "stdout",
     "output_type": "stream",
     "text": [
      "Loss: 0.3941\n"
     ]
    },
    {
     "name": "stderr",
     "output_type": "stream",
     "text": [
      "NN Epoch 88         : 100%|██████████| 1/1 [00:00<00:00, 29.04it/s, loss=0.41]\n"
     ]
    },
    {
     "name": "stdout",
     "output_type": "stream",
     "text": [
      "Loss: 0.4082\n"
     ]
    },
    {
     "name": "stderr",
     "output_type": "stream",
     "text": [
      "NN Epoch 89         : 100%|██████████| 1/1 [00:00<00:00, 28.76it/s, loss=0.40]\n"
     ]
    },
    {
     "name": "stdout",
     "output_type": "stream",
     "text": [
      "Loss: 0.3983\n"
     ]
    },
    {
     "name": "stderr",
     "output_type": "stream",
     "text": [
      "NN Epoch 90         : 100%|██████████| 1/1 [00:00<00:00, 27.80it/s, loss=0.40]\n"
     ]
    },
    {
     "name": "stdout",
     "output_type": "stream",
     "text": [
      "Loss: 0.3970\n"
     ]
    },
    {
     "name": "stderr",
     "output_type": "stream",
     "text": [
      "NN Epoch 91         : 100%|██████████| 1/1 [00:00<00:00, 29.52it/s, loss=0.40]\n"
     ]
    },
    {
     "name": "stdout",
     "output_type": "stream",
     "text": [
      "Loss: 0.4021\n"
     ]
    },
    {
     "name": "stderr",
     "output_type": "stream",
     "text": [
      "NN Epoch 92         : 100%|██████████| 1/1 [00:00<00:00, 28.97it/s, loss=0.39]\n"
     ]
    },
    {
     "name": "stdout",
     "output_type": "stream",
     "text": [
      "Loss: 0.3946\n"
     ]
    },
    {
     "name": "stderr",
     "output_type": "stream",
     "text": [
      "NN Epoch 93         : 100%|██████████| 1/1 [00:00<00:00, 29.02it/s, loss=0.40]\n"
     ]
    },
    {
     "name": "stdout",
     "output_type": "stream",
     "text": [
      "Loss: 0.4021\n"
     ]
    },
    {
     "name": "stderr",
     "output_type": "stream",
     "text": [
      "NN Epoch 94         : 100%|██████████| 1/1 [00:00<00:00, 27.78it/s, loss=0.40]\n"
     ]
    },
    {
     "name": "stdout",
     "output_type": "stream",
     "text": [
      "Loss: 0.3950\n"
     ]
    },
    {
     "name": "stderr",
     "output_type": "stream",
     "text": [
      "NN Epoch 95         : 100%|██████████| 1/1 [00:00<00:00, 28.18it/s, loss=0.40]\n"
     ]
    },
    {
     "name": "stdout",
     "output_type": "stream",
     "text": [
      "Loss: 0.4023\n"
     ]
    },
    {
     "name": "stderr",
     "output_type": "stream",
     "text": [
      "NN Epoch 96         : 100%|██████████| 1/1 [00:00<00:00, 28.68it/s, loss=0.40]\n"
     ]
    },
    {
     "name": "stdout",
     "output_type": "stream",
     "text": [
      "Loss: 0.3992\n"
     ]
    },
    {
     "name": "stderr",
     "output_type": "stream",
     "text": [
      "NN Epoch 97         : 100%|██████████| 1/1 [00:00<00:00, 28.83it/s, loss=0.39]\n"
     ]
    },
    {
     "name": "stdout",
     "output_type": "stream",
     "text": [
      "Loss: 0.3942\n"
     ]
    },
    {
     "name": "stderr",
     "output_type": "stream",
     "text": [
      "NN Epoch 98         : 100%|██████████| 1/1 [00:00<00:00, 30.58it/s, loss=0.39]\n"
     ]
    },
    {
     "name": "stdout",
     "output_type": "stream",
     "text": [
      "Loss: 0.3933\n"
     ]
    },
    {
     "name": "stderr",
     "output_type": "stream",
     "text": [
      "NN Epoch 99         : 100%|██████████| 1/1 [00:00<00:00, 30.94it/s, loss=0.39]"
     ]
    },
    {
     "name": "stdout",
     "output_type": "stream",
     "text": [
      "Loss: 0.3914\n"
     ]
    },
    {
     "name": "stderr",
     "output_type": "stream",
     "text": [
      "\n"
     ]
    }
   ],
   "source": [
    "baseline_net = baseline.train(\n",
    "    device='cpu',\n",
    "    dataloader=dataloader,\n",
    "    num_node_features=1433,\n",
    "    learning_rate=0.01,\n",
    "    num_epochs=100,\n",
    "    model_path='baseline_net.pth'\n",
    ")"
   ],
   "metadata": {
    "collapsed": false,
    "ExecuteTime": {
     "end_time": "2024-02-12T07:44:53.635317Z",
     "start_time": "2024-02-12T07:44:50.044630Z"
    }
   },
   "id": "a9bab32dee646d5f"
  },
  {
   "cell_type": "code",
   "execution_count": 43,
   "outputs": [
    {
     "name": "stderr",
     "output_type": "stream",
     "text": [
      "CVAE Epoch 0        : 100%|██████████| 1/1 [00:02<00:00,  2.10s/it, loss=40610.14]\n",
      "CVAE Epoch 1        : 100%|██████████| 1/1 [00:02<00:00,  2.03s/it, loss=46302.34]\n",
      "CVAE Epoch 2        : 100%|██████████| 1/1 [00:02<00:00,  2.07s/it, loss=44136.71]\n",
      "CVAE Epoch 3        : 100%|██████████| 1/1 [00:02<00:00,  2.05s/it, loss=45725.79]\n",
      "CVAE Epoch 4        : 100%|██████████| 1/1 [00:01<00:00,  1.88s/it, loss=45571.30]\n",
      "CVAE Epoch 5        : 100%|██████████| 1/1 [00:02<00:00,  2.11s/it, loss=45262.49]\n",
      "CVAE Epoch 6        : 100%|██████████| 1/1 [00:02<00:00,  2.04s/it, loss=45119.49]\n",
      "CVAE Epoch 7        : 100%|██████████| 1/1 [00:01<00:00,  1.94s/it, loss=44479.82]\n",
      "CVAE Epoch 8        : 100%|██████████| 1/1 [00:02<00:00,  2.12s/it, loss=43553.70]\n",
      "CVAE Epoch 9        : 100%|██████████| 1/1 [00:01<00:00,  1.94s/it, loss=43562.17]\n",
      "CVAE Epoch 10       : 100%|██████████| 1/1 [00:02<00:00,  2.17s/it, loss=43319.33]\n",
      "CVAE Epoch 11       : 100%|██████████| 1/1 [00:01<00:00,  1.83s/it, loss=44154.33]\n",
      "CVAE Epoch 12       : 100%|██████████| 1/1 [00:02<00:00,  2.11s/it, loss=43864.73]\n",
      "CVAE Epoch 13       : 100%|██████████| 1/1 [00:02<00:00,  2.06s/it, loss=43813.78]\n",
      "CVAE Epoch 14       : 100%|██████████| 1/1 [00:01<00:00,  1.90s/it, loss=43506.72]\n",
      "CVAE Epoch 15       : 100%|██████████| 1/1 [00:02<00:00,  2.18s/it, loss=43435.93]\n",
      "CVAE Epoch 16       : 100%|██████████| 1/1 [00:01<00:00,  1.92s/it, loss=43179.41]\n",
      "CVAE Epoch 17       : 100%|██████████| 1/1 [00:02<00:00,  2.13s/it, loss=42614.68]\n",
      "CVAE Epoch 18       : 100%|██████████| 1/1 [00:01<00:00,  1.96s/it, loss=41523.52]\n",
      "CVAE Epoch 19       : 100%|██████████| 1/1 [00:02<00:00,  2.11s/it, loss=42327.27]\n",
      "CVAE Epoch 20       : 100%|██████████| 1/1 [00:02<00:00,  2.07s/it, loss=42336.40]\n",
      "CVAE Epoch 21       : 100%|██████████| 1/1 [00:01<00:00,  1.95s/it, loss=42342.40]\n",
      "CVAE Epoch 22       : 100%|██████████| 1/1 [00:02<00:00,  2.31s/it, loss=42707.65]\n",
      "CVAE Epoch 23       : 100%|██████████| 1/1 [00:02<00:00,  2.08s/it, loss=42681.47]\n",
      "CVAE Epoch 24       : 100%|██████████| 1/1 [00:02<00:00,  2.22s/it, loss=42277.90]\n",
      "CVAE Epoch 25       : 100%|██████████| 1/1 [00:02<00:00,  2.02s/it, loss=42927.32]\n",
      "CVAE Epoch 26       : 100%|██████████| 1/1 [00:02<00:00,  2.21s/it, loss=41249.82]\n",
      "CVAE Epoch 27       : 100%|██████████| 1/1 [00:02<00:00,  2.04s/it, loss=41731.35]\n",
      "CVAE Epoch 28       : 100%|██████████| 1/1 [00:01<00:00,  1.97s/it, loss=42278.80]\n",
      "CVAE Epoch 29       : 100%|██████████| 1/1 [00:02<00:00,  2.06s/it, loss=41598.15]\n",
      "CVAE Epoch 30       : 100%|██████████| 1/1 [00:01<00:00,  1.89s/it, loss=40060.23]\n",
      "CVAE Epoch 31       : 100%|██████████| 1/1 [00:02<00:00,  2.11s/it, loss=42472.25]\n",
      "CVAE Epoch 32       : 100%|██████████| 1/1 [00:01<00:00,  1.81s/it, loss=42093.69]\n",
      "CVAE Epoch 33       : 100%|██████████| 1/1 [00:02<00:00,  2.13s/it, loss=42019.50]\n",
      "CVAE Epoch 34       : 100%|██████████| 1/1 [00:02<00:00,  2.15s/it, loss=40427.32]\n",
      "CVAE Epoch 35       : 100%|██████████| 1/1 [00:01<00:00,  1.89s/it, loss=42310.71]\n",
      "CVAE Epoch 36       : 100%|██████████| 1/1 [00:02<00:00,  2.20s/it, loss=41255.38]\n",
      "CVAE Epoch 37       : 100%|██████████| 1/1 [00:01<00:00,  1.97s/it, loss=41962.32]\n",
      "CVAE Epoch 38       : 100%|██████████| 1/1 [00:02<00:00,  2.17s/it, loss=40816.40]\n",
      "CVAE Epoch 39       : 100%|██████████| 1/1 [00:02<00:00,  2.01s/it, loss=42300.94]\n",
      "CVAE Epoch 40       : 100%|██████████| 1/1 [00:02<00:00,  2.02s/it, loss=41985.43]\n",
      "CVAE Epoch 41       : 100%|██████████| 1/1 [00:02<00:00,  2.02s/it, loss=40864.92]\n",
      "CVAE Epoch 42       : 100%|██████████| 1/1 [00:01<00:00,  1.91s/it, loss=41300.61]\n",
      "CVAE Epoch 43       : 100%|██████████| 1/1 [00:01<00:00,  1.95s/it, loss=41183.46]\n",
      "CVAE Epoch 44       : 100%|██████████| 1/1 [00:01<00:00,  1.99s/it, loss=40725.88]\n",
      "CVAE Epoch 45       : 100%|██████████| 1/1 [00:02<00:00,  2.16s/it, loss=39827.46]\n",
      "CVAE Epoch 46       : 100%|██████████| 1/1 [00:01<00:00,  1.88s/it, loss=41927.81]\n",
      "CVAE Epoch 47       : 100%|██████████| 1/1 [00:02<00:00,  2.07s/it, loss=40505.25]\n",
      "CVAE Epoch 48       : 100%|██████████| 1/1 [00:02<00:00,  2.01s/it, loss=40636.57]\n",
      "CVAE Epoch 49       : 100%|██████████| 1/1 [00:01<00:00,  1.86s/it, loss=40756.20]\n",
      "CVAE Epoch 50       : 100%|██████████| 1/1 [00:02<00:00,  2.06s/it, loss=40491.36]\n",
      "CVAE Epoch 51       : 100%|██████████| 1/1 [00:01<00:00,  1.90s/it, loss=39684.87]\n",
      "CVAE Epoch 52       : 100%|██████████| 1/1 [00:02<00:00,  2.06s/it, loss=39824.86]\n",
      "CVAE Epoch 53       : 100%|██████████| 1/1 [00:01<00:00,  1.91s/it, loss=40919.32]\n",
      "CVAE Epoch 54       : 100%|██████████| 1/1 [00:02<00:00,  2.11s/it, loss=41263.95]\n",
      "CVAE Epoch 55       : 100%|██████████| 1/1 [00:02<00:00,  2.09s/it, loss=40472.01]\n",
      "CVAE Epoch 56       : 100%|██████████| 1/1 [00:01<00:00,  1.84s/it, loss=42303.33]\n",
      "CVAE Epoch 57       : 100%|██████████| 1/1 [00:02<00:00,  2.15s/it, loss=42456.84]\n",
      "CVAE Epoch 58       : 100%|██████████| 1/1 [00:01<00:00,  1.90s/it, loss=41669.71]\n",
      "CVAE Epoch 59       : 100%|██████████| 1/1 [00:02<00:00,  2.11s/it, loss=43140.87]\n",
      "CVAE Epoch 60       : 100%|██████████| 1/1 [00:01<00:00,  1.92s/it, loss=43928.60]\n",
      "CVAE Epoch 61       : 100%|██████████| 1/1 [00:02<00:00,  2.17s/it, loss=46241.52]\n",
      "CVAE Epoch 62       : 100%|██████████| 1/1 [00:01<00:00,  1.97s/it, loss=48096.60]\n",
      "CVAE Epoch 63       : 100%|██████████| 1/1 [00:01<00:00,  1.82s/it, loss=49175.98]\n",
      "CVAE Epoch 64       : 100%|██████████| 1/1 [00:02<00:00,  2.24s/it, loss=49268.52]\n",
      "CVAE Epoch 65       : 100%|██████████| 1/1 [00:01<00:00,  1.73s/it, loss=51026.09]\n",
      "CVAE Epoch 66       : 100%|██████████| 1/1 [00:02<00:00,  2.08s/it, loss=51703.71]\n",
      "CVAE Epoch 67       : 100%|██████████| 1/1 [00:01<00:00,  1.86s/it, loss=51002.75]\n",
      "CVAE Epoch 68       : 100%|██████████| 1/1 [00:02<00:00,  2.05s/it, loss=52970.83]\n",
      "CVAE Epoch 69       : 100%|██████████| 1/1 [00:01<00:00,  1.99s/it, loss=50008.75]\n",
      "CVAE Epoch 70       : 100%|██████████| 1/1 [00:01<00:00,  1.74s/it, loss=49945.66]\n",
      "CVAE Epoch 71       : 100%|██████████| 1/1 [00:02<00:00,  2.50s/it, loss=48528.08]\n",
      "CVAE Epoch 72       : 100%|██████████| 1/1 [00:02<00:00,  2.01s/it, loss=47199.44]\n",
      "CVAE Epoch 73       : 100%|██████████| 1/1 [00:02<00:00,  2.16s/it, loss=45537.30]\n",
      "CVAE Epoch 74       : 100%|██████████| 1/1 [00:01<00:00,  1.91s/it, loss=44181.91]\n",
      "CVAE Epoch 75       : 100%|██████████| 1/1 [00:02<00:00,  2.11s/it, loss=45558.66]\n",
      "CVAE Epoch 76       : 100%|██████████| 1/1 [00:02<00:00,  2.01s/it, loss=44649.58]\n",
      "CVAE Epoch 77       : 100%|██████████| 1/1 [00:01<00:00,  1.92s/it, loss=44592.41]\n",
      "CVAE Epoch 78       : 100%|██████████| 1/1 [00:02<00:00,  2.15s/it, loss=43751.89]\n",
      "CVAE Epoch 79       : 100%|██████████| 1/1 [00:01<00:00,  1.94s/it, loss=43315.10]\n",
      "CVAE Epoch 80       : 100%|██████████| 1/1 [00:02<00:00,  2.16s/it, loss=44677.28]\n",
      "CVAE Epoch 81       : 100%|██████████| 1/1 [00:02<00:00,  2.05s/it, loss=44115.43]\n",
      "CVAE Epoch 82       : 100%|██████████| 1/1 [00:02<00:00,  2.21s/it, loss=46273.08]\n",
      "CVAE Epoch 83       : 100%|██████████| 1/1 [00:02<00:00,  2.00s/it, loss=52891.27]\n",
      "CVAE Epoch 84       : 100%|██████████| 1/1 [00:01<00:00,  1.97s/it, loss=61442.78]\n",
      "CVAE Epoch 85       : 100%|██████████| 1/1 [00:02<00:00,  2.22s/it, loss=69257.01]\n",
      "CVAE Epoch 86       : 100%|██████████| 1/1 [00:01<00:00,  1.96s/it, loss=77561.88]\n",
      "CVAE Epoch 87       : 100%|██████████| 1/1 [00:02<00:00,  2.18s/it, loss=71934.63]\n",
      "CVAE Epoch 88       : 100%|██████████| 1/1 [00:01<00:00,  1.98s/it, loss=71602.61]\n",
      "CVAE Epoch 89       : 100%|██████████| 1/1 [00:02<00:00,  2.19s/it, loss=72340.19]\n",
      "CVAE Epoch 90       : 100%|██████████| 1/1 [00:02<00:00,  2.08s/it, loss=71362.94]\n",
      "CVAE Epoch 91       : 100%|██████████| 1/1 [00:01<00:00,  1.98s/it, loss=71556.82]\n",
      "CVAE Epoch 92       : 100%|██████████| 1/1 [00:02<00:00,  2.15s/it, loss=67294.56]\n",
      "CVAE Epoch 93       : 100%|██████████| 1/1 [00:01<00:00,  1.94s/it, loss=65181.86]\n",
      "CVAE Epoch 94       : 100%|██████████| 1/1 [00:02<00:00,  2.23s/it, loss=63123.18]\n",
      "CVAE Epoch 95       :   0%|          | 0/1 [00:00<?, ?it/s]\n"
     ]
    },
    {
     "ename": "KeyboardInterrupt",
     "evalue": "",
     "output_type": "error",
     "traceback": [
      "\u001B[0;31m---------------------------------------------------------------------------\u001B[0m",
      "\u001B[0;31mKeyboardInterrupt\u001B[0m                         Traceback (most recent call last)",
      "Cell \u001B[0;32mIn[43], line 1\u001B[0m\n\u001B[0;32m----> 1\u001B[0m cgvae_net \u001B[38;5;241m=\u001B[39m \u001B[43mcgvae\u001B[49m\u001B[38;5;241;43m.\u001B[39;49m\u001B[43mtrain\u001B[49m\u001B[43m(\u001B[49m\n\u001B[1;32m      2\u001B[0m \u001B[43m    \u001B[49m\u001B[43mdevice\u001B[49m\u001B[38;5;241;43m=\u001B[39;49m\u001B[38;5;124;43m'\u001B[39;49m\u001B[38;5;124;43mcpu\u001B[39;49m\u001B[38;5;124;43m'\u001B[39;49m\u001B[43m,\u001B[49m\n\u001B[1;32m      3\u001B[0m \u001B[43m    \u001B[49m\u001B[43mdataloader\u001B[49m\u001B[38;5;241;43m=\u001B[39;49m\u001B[43mdataloader\u001B[49m\u001B[43m,\u001B[49m\n\u001B[1;32m      4\u001B[0m \u001B[43m    \u001B[49m\u001B[43mlearning_rate\u001B[49m\u001B[38;5;241;43m=\u001B[39;49m\u001B[38;5;241;43m0.01\u001B[39;49m\u001B[43m,\u001B[49m\n\u001B[1;32m      5\u001B[0m \u001B[43m    \u001B[49m\u001B[43mnum_epochs\u001B[49m\u001B[38;5;241;43m=\u001B[39;49m\u001B[38;5;241;43m100\u001B[39;49m\u001B[43m,\u001B[49m\n\u001B[1;32m      6\u001B[0m \u001B[43m    \u001B[49m\u001B[43mpre_trained_baseline_net\u001B[49m\u001B[38;5;241;43m=\u001B[39;49m\u001B[43mbaseline_net\u001B[49m\n\u001B[1;32m      7\u001B[0m \u001B[43m)\u001B[49m\n",
      "File \u001B[0;32m~/Documents/cgvae/src/cgvae.py:176\u001B[0m, in \u001B[0;36mtrain\u001B[0;34m(device, dataloader, learning_rate, num_epochs, pre_trained_baseline_net)\u001B[0m\n\u001B[1;32m    172\u001B[0m outputs = batch['output'].to(device)\n\u001B[1;32m    174\u001B[0m loss = svi.step(inputs, outputs)\n\u001B[0;32m--> 176\u001B[0m # statistics\n\u001B[1;32m    177\u001B[0m running_loss += loss\n\u001B[1;32m    178\u001B[0m if i % 10 == 0:\n",
      "File \u001B[0;32m~/anaconda3/envs/cgvae/lib/python3.10/site-packages/pyro/infer/svi.py:145\u001B[0m, in \u001B[0;36mSVI.step\u001B[0;34m(self, *args, **kwargs)\u001B[0m\n\u001B[1;32m    143\u001B[0m \u001B[38;5;66;03m# get loss and compute gradients\u001B[39;00m\n\u001B[1;32m    144\u001B[0m \u001B[38;5;28;01mwith\u001B[39;00m poutine\u001B[38;5;241m.\u001B[39mtrace(param_only\u001B[38;5;241m=\u001B[39m\u001B[38;5;28;01mTrue\u001B[39;00m) \u001B[38;5;28;01mas\u001B[39;00m param_capture:\n\u001B[0;32m--> 145\u001B[0m     loss \u001B[38;5;241m=\u001B[39m \u001B[38;5;28;43mself\u001B[39;49m\u001B[38;5;241;43m.\u001B[39;49m\u001B[43mloss_and_grads\u001B[49m\u001B[43m(\u001B[49m\u001B[38;5;28;43mself\u001B[39;49m\u001B[38;5;241;43m.\u001B[39;49m\u001B[43mmodel\u001B[49m\u001B[43m,\u001B[49m\u001B[43m \u001B[49m\u001B[38;5;28;43mself\u001B[39;49m\u001B[38;5;241;43m.\u001B[39;49m\u001B[43mguide\u001B[49m\u001B[43m,\u001B[49m\u001B[43m \u001B[49m\u001B[38;5;241;43m*\u001B[39;49m\u001B[43margs\u001B[49m\u001B[43m,\u001B[49m\u001B[43m \u001B[49m\u001B[38;5;241;43m*\u001B[39;49m\u001B[38;5;241;43m*\u001B[39;49m\u001B[43mkwargs\u001B[49m\u001B[43m)\u001B[49m\n\u001B[1;32m    147\u001B[0m params \u001B[38;5;241m=\u001B[39m \u001B[38;5;28mset\u001B[39m(\n\u001B[1;32m    148\u001B[0m     site[\u001B[38;5;124m\"\u001B[39m\u001B[38;5;124mvalue\u001B[39m\u001B[38;5;124m\"\u001B[39m]\u001B[38;5;241m.\u001B[39munconstrained() \u001B[38;5;28;01mfor\u001B[39;00m site \u001B[38;5;129;01min\u001B[39;00m param_capture\u001B[38;5;241m.\u001B[39mtrace\u001B[38;5;241m.\u001B[39mnodes\u001B[38;5;241m.\u001B[39mvalues()\n\u001B[1;32m    149\u001B[0m )\n\u001B[1;32m    151\u001B[0m \u001B[38;5;66;03m# actually perform gradient steps\u001B[39;00m\n\u001B[1;32m    152\u001B[0m \u001B[38;5;66;03m# torch.optim objects gets instantiated for any params that haven't been seen yet\u001B[39;00m\n",
      "File \u001B[0;32m~/anaconda3/envs/cgvae/lib/python3.10/site-packages/pyro/infer/trace_elbo.py:140\u001B[0m, in \u001B[0;36mTrace_ELBO.loss_and_grads\u001B[0;34m(self, model, guide, *args, **kwargs)\u001B[0m\n\u001B[1;32m    138\u001B[0m loss \u001B[38;5;241m=\u001B[39m \u001B[38;5;241m0.0\u001B[39m\n\u001B[1;32m    139\u001B[0m \u001B[38;5;66;03m# grab a trace from the generator\u001B[39;00m\n\u001B[0;32m--> 140\u001B[0m \u001B[38;5;28;01mfor\u001B[39;00m model_trace, guide_trace \u001B[38;5;129;01min\u001B[39;00m \u001B[38;5;28mself\u001B[39m\u001B[38;5;241m.\u001B[39m_get_traces(model, guide, args, kwargs):\n\u001B[1;32m    141\u001B[0m     loss_particle, surrogate_loss_particle \u001B[38;5;241m=\u001B[39m \u001B[38;5;28mself\u001B[39m\u001B[38;5;241m.\u001B[39m_differentiable_loss_particle(\n\u001B[1;32m    142\u001B[0m         model_trace, guide_trace\n\u001B[1;32m    143\u001B[0m     )\n\u001B[1;32m    144\u001B[0m     loss \u001B[38;5;241m+\u001B[39m\u001B[38;5;241m=\u001B[39m loss_particle \u001B[38;5;241m/\u001B[39m \u001B[38;5;28mself\u001B[39m\u001B[38;5;241m.\u001B[39mnum_particles\n",
      "File \u001B[0;32m~/anaconda3/envs/cgvae/lib/python3.10/site-packages/pyro/infer/elbo.py:237\u001B[0m, in \u001B[0;36mELBO._get_traces\u001B[0;34m(self, model, guide, args, kwargs)\u001B[0m\n\u001B[1;32m    235\u001B[0m \u001B[38;5;28;01melse\u001B[39;00m:\n\u001B[1;32m    236\u001B[0m     \u001B[38;5;28;01mfor\u001B[39;00m i \u001B[38;5;129;01min\u001B[39;00m \u001B[38;5;28mrange\u001B[39m(\u001B[38;5;28mself\u001B[39m\u001B[38;5;241m.\u001B[39mnum_particles):\n\u001B[0;32m--> 237\u001B[0m         \u001B[38;5;28;01myield\u001B[39;00m \u001B[38;5;28;43mself\u001B[39;49m\u001B[38;5;241;43m.\u001B[39;49m\u001B[43m_get_trace\u001B[49m\u001B[43m(\u001B[49m\u001B[43mmodel\u001B[49m\u001B[43m,\u001B[49m\u001B[43m \u001B[49m\u001B[43mguide\u001B[49m\u001B[43m,\u001B[49m\u001B[43m \u001B[49m\u001B[43margs\u001B[49m\u001B[43m,\u001B[49m\u001B[43m \u001B[49m\u001B[43mkwargs\u001B[49m\u001B[43m)\u001B[49m\n",
      "File \u001B[0;32m~/anaconda3/envs/cgvae/lib/python3.10/site-packages/pyro/infer/trace_elbo.py:57\u001B[0m, in \u001B[0;36mTrace_ELBO._get_trace\u001B[0;34m(self, model, guide, args, kwargs)\u001B[0m\n\u001B[1;32m     52\u001B[0m \u001B[38;5;28;01mdef\u001B[39;00m \u001B[38;5;21m_get_trace\u001B[39m(\u001B[38;5;28mself\u001B[39m, model, guide, args, kwargs):\n\u001B[1;32m     53\u001B[0m \u001B[38;5;250m    \u001B[39m\u001B[38;5;124;03m\"\"\"\u001B[39;00m\n\u001B[1;32m     54\u001B[0m \u001B[38;5;124;03m    Returns a single trace from the guide, and the model that is run\u001B[39;00m\n\u001B[1;32m     55\u001B[0m \u001B[38;5;124;03m    against it.\u001B[39;00m\n\u001B[1;32m     56\u001B[0m \u001B[38;5;124;03m    \"\"\"\u001B[39;00m\n\u001B[0;32m---> 57\u001B[0m     model_trace, guide_trace \u001B[38;5;241m=\u001B[39m \u001B[43mget_importance_trace\u001B[49m\u001B[43m(\u001B[49m\n\u001B[1;32m     58\u001B[0m \u001B[43m        \u001B[49m\u001B[38;5;124;43m\"\u001B[39;49m\u001B[38;5;124;43mflat\u001B[39;49m\u001B[38;5;124;43m\"\u001B[39;49m\u001B[43m,\u001B[49m\u001B[43m \u001B[49m\u001B[38;5;28;43mself\u001B[39;49m\u001B[38;5;241;43m.\u001B[39;49m\u001B[43mmax_plate_nesting\u001B[49m\u001B[43m,\u001B[49m\u001B[43m \u001B[49m\u001B[43mmodel\u001B[49m\u001B[43m,\u001B[49m\u001B[43m \u001B[49m\u001B[43mguide\u001B[49m\u001B[43m,\u001B[49m\u001B[43m \u001B[49m\u001B[43margs\u001B[49m\u001B[43m,\u001B[49m\u001B[43m \u001B[49m\u001B[43mkwargs\u001B[49m\n\u001B[1;32m     59\u001B[0m \u001B[43m    \u001B[49m\u001B[43m)\u001B[49m\n\u001B[1;32m     60\u001B[0m     \u001B[38;5;28;01mif\u001B[39;00m is_validation_enabled():\n\u001B[1;32m     61\u001B[0m         check_if_enumerated(guide_trace)\n",
      "File \u001B[0;32m~/anaconda3/envs/cgvae/lib/python3.10/site-packages/pyro/infer/enum.py:75\u001B[0m, in \u001B[0;36mget_importance_trace\u001B[0;34m(graph_type, max_plate_nesting, model, guide, args, kwargs, detach)\u001B[0m\n\u001B[1;32m     72\u001B[0m guide_trace \u001B[38;5;241m=\u001B[39m prune_subsample_sites(guide_trace)\n\u001B[1;32m     73\u001B[0m model_trace \u001B[38;5;241m=\u001B[39m prune_subsample_sites(model_trace)\n\u001B[0;32m---> 75\u001B[0m \u001B[43mmodel_trace\u001B[49m\u001B[38;5;241;43m.\u001B[39;49m\u001B[43mcompute_log_prob\u001B[49m\u001B[43m(\u001B[49m\u001B[43m)\u001B[49m\n\u001B[1;32m     76\u001B[0m guide_trace\u001B[38;5;241m.\u001B[39mcompute_score_parts()\n\u001B[1;32m     77\u001B[0m \u001B[38;5;28;01mif\u001B[39;00m is_validation_enabled():\n",
      "File \u001B[0;32m~/anaconda3/envs/cgvae/lib/python3.10/site-packages/pyro/poutine/trace_struct.py:230\u001B[0m, in \u001B[0;36mTrace.compute_log_prob\u001B[0;34m(self, site_filter)\u001B[0m\n\u001B[1;32m    228\u001B[0m \u001B[38;5;28;01mif\u001B[39;00m \u001B[38;5;124m\"\u001B[39m\u001B[38;5;124mlog_prob\u001B[39m\u001B[38;5;124m\"\u001B[39m \u001B[38;5;129;01mnot\u001B[39;00m \u001B[38;5;129;01min\u001B[39;00m site:\n\u001B[1;32m    229\u001B[0m     \u001B[38;5;28;01mtry\u001B[39;00m:\n\u001B[0;32m--> 230\u001B[0m         log_p \u001B[38;5;241m=\u001B[39m \u001B[43msite\u001B[49m\u001B[43m[\u001B[49m\u001B[38;5;124;43m\"\u001B[39;49m\u001B[38;5;124;43mfn\u001B[39;49m\u001B[38;5;124;43m\"\u001B[39;49m\u001B[43m]\u001B[49m\u001B[38;5;241;43m.\u001B[39;49m\u001B[43mlog_prob\u001B[49m\u001B[43m(\u001B[49m\n\u001B[1;32m    231\u001B[0m \u001B[43m            \u001B[49m\u001B[43msite\u001B[49m\u001B[43m[\u001B[49m\u001B[38;5;124;43m\"\u001B[39;49m\u001B[38;5;124;43mvalue\u001B[39;49m\u001B[38;5;124;43m\"\u001B[39;49m\u001B[43m]\u001B[49m\u001B[43m,\u001B[49m\u001B[43m \u001B[49m\u001B[38;5;241;43m*\u001B[39;49m\u001B[43msite\u001B[49m\u001B[43m[\u001B[49m\u001B[38;5;124;43m\"\u001B[39;49m\u001B[38;5;124;43margs\u001B[39;49m\u001B[38;5;124;43m\"\u001B[39;49m\u001B[43m]\u001B[49m\u001B[43m,\u001B[49m\u001B[43m \u001B[49m\u001B[38;5;241;43m*\u001B[39;49m\u001B[38;5;241;43m*\u001B[39;49m\u001B[43msite\u001B[49m\u001B[43m[\u001B[49m\u001B[38;5;124;43m\"\u001B[39;49m\u001B[38;5;124;43mkwargs\u001B[39;49m\u001B[38;5;124;43m\"\u001B[39;49m\u001B[43m]\u001B[49m\n\u001B[1;32m    232\u001B[0m \u001B[43m        \u001B[49m\u001B[43m)\u001B[49m\n\u001B[1;32m    233\u001B[0m     \u001B[38;5;28;01mexcept\u001B[39;00m \u001B[38;5;167;01mValueError\u001B[39;00m \u001B[38;5;28;01mas\u001B[39;00m e:\n\u001B[1;32m    234\u001B[0m         _, exc_value, traceback \u001B[38;5;241m=\u001B[39m sys\u001B[38;5;241m.\u001B[39mexc_info()\n",
      "File \u001B[0;32m~/anaconda3/envs/cgvae/lib/python3.10/site-packages/torch/distributions/independent.py:107\u001B[0m, in \u001B[0;36mIndependent.log_prob\u001B[0;34m(self, value)\u001B[0m\n\u001B[1;32m    106\u001B[0m \u001B[38;5;28;01mdef\u001B[39;00m \u001B[38;5;21mlog_prob\u001B[39m(\u001B[38;5;28mself\u001B[39m, value):\n\u001B[0;32m--> 107\u001B[0m     log_prob \u001B[38;5;241m=\u001B[39m \u001B[38;5;28;43mself\u001B[39;49m\u001B[38;5;241;43m.\u001B[39;49m\u001B[43mbase_dist\u001B[49m\u001B[38;5;241;43m.\u001B[39;49m\u001B[43mlog_prob\u001B[49m\u001B[43m(\u001B[49m\u001B[43mvalue\u001B[49m\u001B[43m)\u001B[49m\n\u001B[1;32m    108\u001B[0m     \u001B[38;5;28;01mreturn\u001B[39;00m _sum_rightmost(log_prob, \u001B[38;5;28mself\u001B[39m\u001B[38;5;241m.\u001B[39mreinterpreted_batch_ndims)\n",
      "\u001B[0;31mKeyboardInterrupt\u001B[0m: "
     ]
    }
   ],
   "source": [
    "cgvae_net = cgvae.train(\n",
    "    device='cpu',\n",
    "    dataloader=dataloader,\n",
    "    learning_rate=0.01,\n",
    "    num_epochs=100,\n",
    "    pre_trained_baseline_net=baseline_net\n",
    ")"
   ],
   "metadata": {
    "collapsed": false,
    "ExecuteTime": {
     "end_time": "2024-02-12T07:42:03.534959Z",
     "start_time": "2024-02-12T07:38:49.314828Z"
    }
   },
   "id": "e7c426069f8680ec"
  },
  {
   "cell_type": "code",
   "outputs": [],
   "source": [],
   "metadata": {
    "collapsed": false
   },
   "id": "59052f996ee8a6d6"
  }
 ],
 "metadata": {
  "kernelspec": {
   "display_name": "Python 3",
   "language": "python",
   "name": "python3"
  },
  "language_info": {
   "codemirror_mode": {
    "name": "ipython",
    "version": 2
   },
   "file_extension": ".py",
   "mimetype": "text/x-python",
   "name": "python",
   "nbconvert_exporter": "python",
   "pygments_lexer": "ipython2",
   "version": "2.7.6"
  }
 },
 "nbformat": 4,
 "nbformat_minor": 5
}
