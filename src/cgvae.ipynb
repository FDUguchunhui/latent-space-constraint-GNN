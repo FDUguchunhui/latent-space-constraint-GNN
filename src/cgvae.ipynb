{
 "cells": [
  {
   "cell_type": "code",
   "execution_count": 20,
   "outputs": [],
   "source": [
    "import data_transform\n",
    "import importlib\n",
    "importlib.reload(data_transform)\n",
    "from data_transform import get_data\n",
    "import baseline\n",
    "importlib.reload(baseline)\n",
    "import cgvae\n",
    "importlib.reload(cgvae)\n",
    "\n",
    "import torch"
   ],
   "metadata": {
    "collapsed": false,
    "ExecuteTime": {
     "end_time": "2024-02-14T05:51:00.718314Z",
     "start_time": "2024-02-14T05:51:00.709967Z"
    }
   },
   "id": "f6a26bcbd3ff447d"
  },
  {
   "cell_type": "code",
   "execution_count": 3,
   "id": "initial_id",
   "metadata": {
    "collapsed": true,
    "ExecuteTime": {
     "end_time": "2024-02-14T05:45:21.872721Z",
     "start_time": "2024-02-14T05:45:21.866185Z"
    }
   },
   "outputs": [],
   "source": [
    "dataloader, dataset_size = get_data()"
   ]
  },
  {
   "cell_type": "code",
   "execution_count": 4,
   "outputs": [],
   "source": [
    "data = next(iter(dataloader))"
   ],
   "metadata": {
    "collapsed": false,
    "ExecuteTime": {
     "end_time": "2024-02-14T05:45:21.963875Z",
     "start_time": "2024-02-14T05:45:21.872982Z"
    }
   },
   "id": "599b2ab2f2b2ec9d"
  },
  {
   "cell_type": "markdown",
   "source": [],
   "metadata": {
    "collapsed": false
   },
   "id": "3f3752959c81b561"
  },
  {
   "cell_type": "code",
   "execution_count": 5,
   "outputs": [
    {
     "data": {
      "text/plain": "tensor(49216)"
     },
     "execution_count": 5,
     "metadata": {},
     "output_type": "execute_result"
    }
   ],
   "source": [
    "torch.sum(data['input'].x == 1)"
   ],
   "metadata": {
    "collapsed": false,
    "ExecuteTime": {
     "end_time": "2024-02-14T05:45:21.971098Z",
     "start_time": "2024-02-14T05:45:21.965631Z"
    }
   },
   "id": "765d0c27965b9cf6"
  },
  {
   "cell_type": "code",
   "execution_count": 6,
   "outputs": [
    {
     "name": "stderr",
     "output_type": "stream",
     "text": [
      "NN Epoch 0          : 100%|██████████| 1/1 [00:00<00:00,  7.89it/s, loss=0.68]\n"
     ]
    },
    {
     "name": "stdout",
     "output_type": "stream",
     "text": [
      "Loss: 0.6785\n"
     ]
    },
    {
     "name": "stderr",
     "output_type": "stream",
     "text": [
      "NN Epoch 1          : 100%|██████████| 1/1 [00:00<00:00, 11.23it/s, loss=0.90]\n"
     ]
    },
    {
     "name": "stdout",
     "output_type": "stream",
     "text": [
      "Loss: 0.9029\n"
     ]
    },
    {
     "name": "stderr",
     "output_type": "stream",
     "text": [
      "NN Epoch 2          : 100%|██████████| 1/1 [00:00<00:00, 12.10it/s, loss=0.65]\n"
     ]
    },
    {
     "name": "stdout",
     "output_type": "stream",
     "text": [
      "Loss: 0.6531\n"
     ]
    },
    {
     "name": "stderr",
     "output_type": "stream",
     "text": [
      "NN Epoch 3          : 100%|██████████| 1/1 [00:00<00:00, 11.85it/s, loss=0.66]\n"
     ]
    },
    {
     "name": "stdout",
     "output_type": "stream",
     "text": [
      "Loss: 0.6646\n"
     ]
    },
    {
     "name": "stderr",
     "output_type": "stream",
     "text": [
      "NN Epoch 4          : 100%|██████████| 1/1 [00:00<00:00, 12.61it/s, loss=0.66]\n"
     ]
    },
    {
     "name": "stdout",
     "output_type": "stream",
     "text": [
      "Loss: 0.6648\n"
     ]
    },
    {
     "name": "stderr",
     "output_type": "stream",
     "text": [
      "NN Epoch 5          : 100%|██████████| 1/1 [00:00<00:00, 12.66it/s, loss=0.66]\n"
     ]
    },
    {
     "name": "stdout",
     "output_type": "stream",
     "text": [
      "Loss: 0.6589\n"
     ]
    },
    {
     "name": "stderr",
     "output_type": "stream",
     "text": [
      "NN Epoch 6          : 100%|██████████| 1/1 [00:00<00:00, 12.27it/s, loss=0.65]\n"
     ]
    },
    {
     "name": "stdout",
     "output_type": "stream",
     "text": [
      "Loss: 0.6502\n"
     ]
    },
    {
     "name": "stderr",
     "output_type": "stream",
     "text": [
      "NN Epoch 7          : 100%|██████████| 1/1 [00:00<00:00, 12.75it/s, loss=0.64]\n"
     ]
    },
    {
     "name": "stdout",
     "output_type": "stream",
     "text": [
      "Loss: 0.6378\n"
     ]
    },
    {
     "name": "stderr",
     "output_type": "stream",
     "text": [
      "NN Epoch 8          : 100%|██████████| 1/1 [00:00<00:00, 13.03it/s, loss=0.63]\n"
     ]
    },
    {
     "name": "stdout",
     "output_type": "stream",
     "text": [
      "Loss: 0.6259\n"
     ]
    },
    {
     "name": "stderr",
     "output_type": "stream",
     "text": [
      "NN Epoch 9          : 100%|██████████| 1/1 [00:00<00:00, 12.91it/s, loss=0.61]\n"
     ]
    },
    {
     "name": "stdout",
     "output_type": "stream",
     "text": [
      "Loss: 0.6142\n"
     ]
    },
    {
     "name": "stderr",
     "output_type": "stream",
     "text": [
      "NN Epoch 10         : 100%|██████████| 1/1 [00:00<00:00, 13.36it/s, loss=0.61]\n"
     ]
    },
    {
     "name": "stdout",
     "output_type": "stream",
     "text": [
      "Loss: 0.6057\n"
     ]
    },
    {
     "name": "stderr",
     "output_type": "stream",
     "text": [
      "NN Epoch 11         : 100%|██████████| 1/1 [00:00<00:00, 12.30it/s, loss=0.59]\n"
     ]
    },
    {
     "name": "stdout",
     "output_type": "stream",
     "text": [
      "Loss: 0.5942\n"
     ]
    },
    {
     "name": "stderr",
     "output_type": "stream",
     "text": [
      "NN Epoch 12         : 100%|██████████| 1/1 [00:00<00:00, 12.75it/s, loss=0.58]\n"
     ]
    },
    {
     "name": "stdout",
     "output_type": "stream",
     "text": [
      "Loss: 0.5837\n"
     ]
    },
    {
     "name": "stderr",
     "output_type": "stream",
     "text": [
      "NN Epoch 13         : 100%|██████████| 1/1 [00:00<00:00, 12.39it/s, loss=0.57]\n"
     ]
    },
    {
     "name": "stdout",
     "output_type": "stream",
     "text": [
      "Loss: 0.5675\n"
     ]
    },
    {
     "name": "stderr",
     "output_type": "stream",
     "text": [
      "NN Epoch 14         : 100%|██████████| 1/1 [00:00<00:00, 12.21it/s, loss=0.56]\n"
     ]
    },
    {
     "name": "stdout",
     "output_type": "stream",
     "text": [
      "Loss: 0.5581\n"
     ]
    },
    {
     "name": "stderr",
     "output_type": "stream",
     "text": [
      "NN Epoch 15         : 100%|██████████| 1/1 [00:00<00:00, 11.64it/s, loss=0.55]\n"
     ]
    },
    {
     "name": "stdout",
     "output_type": "stream",
     "text": [
      "Loss: 0.5464\n"
     ]
    },
    {
     "name": "stderr",
     "output_type": "stream",
     "text": [
      "NN Epoch 16         : 100%|██████████| 1/1 [00:00<00:00, 11.98it/s, loss=0.54]\n"
     ]
    },
    {
     "name": "stdout",
     "output_type": "stream",
     "text": [
      "Loss: 0.5422\n"
     ]
    },
    {
     "name": "stderr",
     "output_type": "stream",
     "text": [
      "NN Epoch 17         : 100%|██████████| 1/1 [00:00<00:00, 11.89it/s, loss=0.53]\n"
     ]
    },
    {
     "name": "stdout",
     "output_type": "stream",
     "text": [
      "Loss: 0.5315\n"
     ]
    },
    {
     "name": "stderr",
     "output_type": "stream",
     "text": [
      "NN Epoch 18         : 100%|██████████| 1/1 [00:00<00:00, 12.26it/s, loss=0.52]\n"
     ]
    },
    {
     "name": "stdout",
     "output_type": "stream",
     "text": [
      "Loss: 0.5193\n"
     ]
    },
    {
     "name": "stderr",
     "output_type": "stream",
     "text": [
      "NN Epoch 19         : 100%|██████████| 1/1 [00:00<00:00, 11.98it/s, loss=0.51]\n"
     ]
    },
    {
     "name": "stdout",
     "output_type": "stream",
     "text": [
      "Loss: 0.5101\n"
     ]
    },
    {
     "name": "stderr",
     "output_type": "stream",
     "text": [
      "NN Epoch 20         : 100%|██████████| 1/1 [00:00<00:00, 11.85it/s, loss=0.51]\n"
     ]
    },
    {
     "name": "stdout",
     "output_type": "stream",
     "text": [
      "Loss: 0.5086\n"
     ]
    },
    {
     "name": "stderr",
     "output_type": "stream",
     "text": [
      "NN Epoch 21         : 100%|██████████| 1/1 [00:00<00:00, 12.07it/s, loss=0.49]\n"
     ]
    },
    {
     "name": "stdout",
     "output_type": "stream",
     "text": [
      "Loss: 0.4931\n"
     ]
    },
    {
     "name": "stderr",
     "output_type": "stream",
     "text": [
      "NN Epoch 22         : 100%|██████████| 1/1 [00:00<00:00, 11.66it/s, loss=0.49]\n"
     ]
    },
    {
     "name": "stdout",
     "output_type": "stream",
     "text": [
      "Loss: 0.4889\n"
     ]
    },
    {
     "name": "stderr",
     "output_type": "stream",
     "text": [
      "NN Epoch 23         : 100%|██████████| 1/1 [00:00<00:00, 11.86it/s, loss=0.49]\n"
     ]
    },
    {
     "name": "stdout",
     "output_type": "stream",
     "text": [
      "Loss: 0.4877\n"
     ]
    },
    {
     "name": "stderr",
     "output_type": "stream",
     "text": [
      "NN Epoch 24         : 100%|██████████| 1/1 [00:00<00:00, 11.71it/s, loss=0.47]\n"
     ]
    },
    {
     "name": "stdout",
     "output_type": "stream",
     "text": [
      "Loss: 0.4727\n"
     ]
    },
    {
     "name": "stderr",
     "output_type": "stream",
     "text": [
      "NN Epoch 25         : 100%|██████████| 1/1 [00:00<00:00, 11.40it/s, loss=0.47]\n"
     ]
    },
    {
     "name": "stdout",
     "output_type": "stream",
     "text": [
      "Loss: 0.4740\n"
     ]
    },
    {
     "name": "stderr",
     "output_type": "stream",
     "text": [
      "NN Epoch 26         : 100%|██████████| 1/1 [00:00<00:00, 12.12it/s, loss=0.47]\n"
     ]
    },
    {
     "name": "stdout",
     "output_type": "stream",
     "text": [
      "Loss: 0.4726\n"
     ]
    },
    {
     "name": "stderr",
     "output_type": "stream",
     "text": [
      "NN Epoch 27         : 100%|██████████| 1/1 [00:00<00:00, 12.09it/s, loss=0.47]\n"
     ]
    },
    {
     "name": "stdout",
     "output_type": "stream",
     "text": [
      "Loss: 0.4688\n"
     ]
    },
    {
     "name": "stderr",
     "output_type": "stream",
     "text": [
      "NN Epoch 28         : 100%|██████████| 1/1 [00:00<00:00, 12.03it/s, loss=0.46]\n"
     ]
    },
    {
     "name": "stdout",
     "output_type": "stream",
     "text": [
      "Loss: 0.4649\n"
     ]
    },
    {
     "name": "stderr",
     "output_type": "stream",
     "text": [
      "NN Epoch 29         : 100%|██████████| 1/1 [00:00<00:00, 12.81it/s, loss=0.46]\n"
     ]
    },
    {
     "name": "stdout",
     "output_type": "stream",
     "text": [
      "Loss: 0.4626\n"
     ]
    },
    {
     "name": "stderr",
     "output_type": "stream",
     "text": [
      "NN Epoch 30         : 100%|██████████| 1/1 [00:00<00:00, 12.34it/s, loss=0.47]\n"
     ]
    },
    {
     "name": "stdout",
     "output_type": "stream",
     "text": [
      "Loss: 0.4683\n"
     ]
    },
    {
     "name": "stderr",
     "output_type": "stream",
     "text": [
      "NN Epoch 31         : 100%|██████████| 1/1 [00:00<00:00, 12.93it/s, loss=0.47]\n"
     ]
    },
    {
     "name": "stdout",
     "output_type": "stream",
     "text": [
      "Loss: 0.4710\n"
     ]
    },
    {
     "name": "stderr",
     "output_type": "stream",
     "text": [
      "NN Epoch 32         : 100%|██████████| 1/1 [00:00<00:00, 12.50it/s, loss=0.46]\n"
     ]
    },
    {
     "name": "stdout",
     "output_type": "stream",
     "text": [
      "Loss: 0.4587\n"
     ]
    },
    {
     "name": "stderr",
     "output_type": "stream",
     "text": [
      "NN Epoch 33         : 100%|██████████| 1/1 [00:00<00:00, 12.20it/s, loss=0.46]\n"
     ]
    },
    {
     "name": "stdout",
     "output_type": "stream",
     "text": [
      "Loss: 0.4625\n"
     ]
    },
    {
     "name": "stderr",
     "output_type": "stream",
     "text": [
      "NN Epoch 34         : 100%|██████████| 1/1 [00:00<00:00, 11.91it/s, loss=0.47]\n"
     ]
    },
    {
     "name": "stdout",
     "output_type": "stream",
     "text": [
      "Loss: 0.4658\n"
     ]
    },
    {
     "name": "stderr",
     "output_type": "stream",
     "text": [
      "NN Epoch 35         : 100%|██████████| 1/1 [00:00<00:00, 12.31it/s, loss=0.45]\n"
     ]
    },
    {
     "name": "stdout",
     "output_type": "stream",
     "text": [
      "Loss: 0.4486\n"
     ]
    },
    {
     "name": "stderr",
     "output_type": "stream",
     "text": [
      "NN Epoch 36         : 100%|██████████| 1/1 [00:00<00:00, 12.31it/s, loss=0.45]\n"
     ]
    },
    {
     "name": "stdout",
     "output_type": "stream",
     "text": [
      "Loss: 0.4535\n"
     ]
    },
    {
     "name": "stderr",
     "output_type": "stream",
     "text": [
      "NN Epoch 37         : 100%|██████████| 1/1 [00:00<00:00, 12.81it/s, loss=0.44]\n"
     ]
    },
    {
     "name": "stdout",
     "output_type": "stream",
     "text": [
      "Loss: 0.4417\n"
     ]
    },
    {
     "name": "stderr",
     "output_type": "stream",
     "text": [
      "NN Epoch 38         : 100%|██████████| 1/1 [00:00<00:00, 12.28it/s, loss=0.45]\n"
     ]
    },
    {
     "name": "stdout",
     "output_type": "stream",
     "text": [
      "Loss: 0.4545\n"
     ]
    },
    {
     "name": "stderr",
     "output_type": "stream",
     "text": [
      "NN Epoch 39         : 100%|██████████| 1/1 [00:00<00:00, 12.03it/s, loss=0.45]\n"
     ]
    },
    {
     "name": "stdout",
     "output_type": "stream",
     "text": [
      "Loss: 0.4475\n"
     ]
    },
    {
     "name": "stderr",
     "output_type": "stream",
     "text": [
      "NN Epoch 40         : 100%|██████████| 1/1 [00:00<00:00, 12.08it/s, loss=0.44]\n"
     ]
    },
    {
     "name": "stdout",
     "output_type": "stream",
     "text": [
      "Loss: 0.4419\n"
     ]
    },
    {
     "name": "stderr",
     "output_type": "stream",
     "text": [
      "NN Epoch 41         : 100%|██████████| 1/1 [00:00<00:00, 12.41it/s, loss=0.45]\n"
     ]
    },
    {
     "name": "stdout",
     "output_type": "stream",
     "text": [
      "Loss: 0.4480\n"
     ]
    },
    {
     "name": "stderr",
     "output_type": "stream",
     "text": [
      "NN Epoch 42         : 100%|██████████| 1/1 [00:00<00:00, 11.95it/s, loss=0.45]\n"
     ]
    },
    {
     "name": "stdout",
     "output_type": "stream",
     "text": [
      "Loss: 0.4502\n"
     ]
    },
    {
     "name": "stderr",
     "output_type": "stream",
     "text": [
      "NN Epoch 43         : 100%|██████████| 1/1 [00:00<00:00, 11.89it/s, loss=0.44]\n"
     ]
    },
    {
     "name": "stdout",
     "output_type": "stream",
     "text": [
      "Loss: 0.4445\n"
     ]
    },
    {
     "name": "stderr",
     "output_type": "stream",
     "text": [
      "NN Epoch 44         : 100%|██████████| 1/1 [00:00<00:00, 12.19it/s, loss=0.44]\n"
     ]
    },
    {
     "name": "stdout",
     "output_type": "stream",
     "text": [
      "Loss: 0.4391\n"
     ]
    },
    {
     "name": "stderr",
     "output_type": "stream",
     "text": [
      "NN Epoch 45         : 100%|██████████| 1/1 [00:00<00:00, 11.95it/s, loss=0.44]\n"
     ]
    },
    {
     "name": "stdout",
     "output_type": "stream",
     "text": [
      "Loss: 0.4396\n"
     ]
    },
    {
     "name": "stderr",
     "output_type": "stream",
     "text": [
      "NN Epoch 46         : 100%|██████████| 1/1 [00:00<00:00, 11.82it/s, loss=0.43]\n"
     ]
    },
    {
     "name": "stdout",
     "output_type": "stream",
     "text": [
      "Loss: 0.4346\n"
     ]
    },
    {
     "name": "stderr",
     "output_type": "stream",
     "text": [
      "NN Epoch 47         : 100%|██████████| 1/1 [00:00<00:00, 11.58it/s, loss=0.44]\n"
     ]
    },
    {
     "name": "stdout",
     "output_type": "stream",
     "text": [
      "Loss: 0.4375\n"
     ]
    },
    {
     "name": "stderr",
     "output_type": "stream",
     "text": [
      "NN Epoch 48         : 100%|██████████| 1/1 [00:00<00:00, 12.00it/s, loss=0.44]\n"
     ]
    },
    {
     "name": "stdout",
     "output_type": "stream",
     "text": [
      "Loss: 0.4432\n"
     ]
    },
    {
     "name": "stderr",
     "output_type": "stream",
     "text": [
      "NN Epoch 49         : 100%|██████████| 1/1 [00:00<00:00, 12.32it/s, loss=0.44]\n"
     ]
    },
    {
     "name": "stdout",
     "output_type": "stream",
     "text": [
      "Loss: 0.4401\n"
     ]
    },
    {
     "name": "stderr",
     "output_type": "stream",
     "text": [
      "NN Epoch 50         : 100%|██████████| 1/1 [00:00<00:00, 12.37it/s, loss=0.43]\n"
     ]
    },
    {
     "name": "stdout",
     "output_type": "stream",
     "text": [
      "Loss: 0.4325\n"
     ]
    },
    {
     "name": "stderr",
     "output_type": "stream",
     "text": [
      "NN Epoch 51         : 100%|██████████| 1/1 [00:00<00:00, 12.39it/s, loss=0.45]\n"
     ]
    },
    {
     "name": "stdout",
     "output_type": "stream",
     "text": [
      "Loss: 0.4483\n"
     ]
    },
    {
     "name": "stderr",
     "output_type": "stream",
     "text": [
      "NN Epoch 52         : 100%|██████████| 1/1 [00:00<00:00, 12.04it/s, loss=0.44]\n"
     ]
    },
    {
     "name": "stdout",
     "output_type": "stream",
     "text": [
      "Loss: 0.4350\n"
     ]
    },
    {
     "name": "stderr",
     "output_type": "stream",
     "text": [
      "NN Epoch 53         : 100%|██████████| 1/1 [00:00<00:00, 12.17it/s, loss=0.43]\n"
     ]
    },
    {
     "name": "stdout",
     "output_type": "stream",
     "text": [
      "Loss: 0.4331\n"
     ]
    },
    {
     "name": "stderr",
     "output_type": "stream",
     "text": [
      "NN Epoch 54         : 100%|██████████| 1/1 [00:00<00:00, 12.01it/s, loss=0.43]\n"
     ]
    },
    {
     "name": "stdout",
     "output_type": "stream",
     "text": [
      "Loss: 0.4327\n"
     ]
    },
    {
     "name": "stderr",
     "output_type": "stream",
     "text": [
      "NN Epoch 55         : 100%|██████████| 1/1 [00:00<00:00, 12.34it/s, loss=0.44]\n"
     ]
    },
    {
     "name": "stdout",
     "output_type": "stream",
     "text": [
      "Loss: 0.4364\n"
     ]
    },
    {
     "name": "stderr",
     "output_type": "stream",
     "text": [
      "NN Epoch 56         : 100%|██████████| 1/1 [00:00<00:00, 11.44it/s, loss=0.43]\n"
     ]
    },
    {
     "name": "stdout",
     "output_type": "stream",
     "text": [
      "Loss: 0.4334\n"
     ]
    },
    {
     "name": "stderr",
     "output_type": "stream",
     "text": [
      "NN Epoch 57         : 100%|██████████| 1/1 [00:00<00:00, 12.04it/s, loss=0.44]\n"
     ]
    },
    {
     "name": "stdout",
     "output_type": "stream",
     "text": [
      "Loss: 0.4412\n"
     ]
    },
    {
     "name": "stderr",
     "output_type": "stream",
     "text": [
      "NN Epoch 58         : 100%|██████████| 1/1 [00:00<00:00, 12.33it/s, loss=0.43]\n"
     ]
    },
    {
     "name": "stdout",
     "output_type": "stream",
     "text": [
      "Loss: 0.4257\n"
     ]
    },
    {
     "name": "stderr",
     "output_type": "stream",
     "text": [
      "NN Epoch 59         : 100%|██████████| 1/1 [00:00<00:00, 12.68it/s, loss=0.42]\n"
     ]
    },
    {
     "name": "stdout",
     "output_type": "stream",
     "text": [
      "Loss: 0.4221\n"
     ]
    },
    {
     "name": "stderr",
     "output_type": "stream",
     "text": [
      "NN Epoch 60         : 100%|██████████| 1/1 [00:00<00:00, 12.28it/s, loss=0.42]\n"
     ]
    },
    {
     "name": "stdout",
     "output_type": "stream",
     "text": [
      "Loss: 0.4248\n"
     ]
    },
    {
     "name": "stderr",
     "output_type": "stream",
     "text": [
      "NN Epoch 61         : 100%|██████████| 1/1 [00:00<00:00, 12.53it/s, loss=0.42]\n"
     ]
    },
    {
     "name": "stdout",
     "output_type": "stream",
     "text": [
      "Loss: 0.4199\n"
     ]
    },
    {
     "name": "stderr",
     "output_type": "stream",
     "text": [
      "NN Epoch 62         : 100%|██████████| 1/1 [00:00<00:00, 12.55it/s, loss=0.42]\n"
     ]
    },
    {
     "name": "stdout",
     "output_type": "stream",
     "text": [
      "Loss: 0.4196\n"
     ]
    },
    {
     "name": "stderr",
     "output_type": "stream",
     "text": [
      "NN Epoch 63         : 100%|██████████| 1/1 [00:00<00:00, 11.88it/s, loss=0.42]\n"
     ]
    },
    {
     "name": "stdout",
     "output_type": "stream",
     "text": [
      "Loss: 0.4177\n"
     ]
    },
    {
     "name": "stderr",
     "output_type": "stream",
     "text": [
      "NN Epoch 64         : 100%|██████████| 1/1 [00:00<00:00, 12.42it/s, loss=0.42]\n"
     ]
    },
    {
     "name": "stdout",
     "output_type": "stream",
     "text": [
      "Loss: 0.4218\n"
     ]
    },
    {
     "name": "stderr",
     "output_type": "stream",
     "text": [
      "NN Epoch 65         : 100%|██████████| 1/1 [00:00<00:00, 12.09it/s, loss=0.43]\n"
     ]
    },
    {
     "name": "stdout",
     "output_type": "stream",
     "text": [
      "Loss: 0.4280\n"
     ]
    },
    {
     "name": "stderr",
     "output_type": "stream",
     "text": [
      "NN Epoch 66         : 100%|██████████| 1/1 [00:00<00:00, 12.72it/s, loss=0.43]\n"
     ]
    },
    {
     "name": "stdout",
     "output_type": "stream",
     "text": [
      "Loss: 0.4295\n"
     ]
    },
    {
     "name": "stderr",
     "output_type": "stream",
     "text": [
      "NN Epoch 67         : 100%|██████████| 1/1 [00:00<00:00, 12.34it/s, loss=0.42]\n"
     ]
    },
    {
     "name": "stdout",
     "output_type": "stream",
     "text": [
      "Loss: 0.4167\n"
     ]
    },
    {
     "name": "stderr",
     "output_type": "stream",
     "text": [
      "NN Epoch 68         : 100%|██████████| 1/1 [00:00<00:00, 12.22it/s, loss=0.42]\n"
     ]
    },
    {
     "name": "stdout",
     "output_type": "stream",
     "text": [
      "Loss: 0.4179\n"
     ]
    },
    {
     "name": "stderr",
     "output_type": "stream",
     "text": [
      "NN Epoch 69         : 100%|██████████| 1/1 [00:00<00:00, 12.16it/s, loss=0.43]\n"
     ]
    },
    {
     "name": "stdout",
     "output_type": "stream",
     "text": [
      "Loss: 0.4263\n"
     ]
    },
    {
     "name": "stderr",
     "output_type": "stream",
     "text": [
      "NN Epoch 70         : 100%|██████████| 1/1 [00:00<00:00, 11.93it/s, loss=0.43]\n"
     ]
    },
    {
     "name": "stdout",
     "output_type": "stream",
     "text": [
      "Loss: 0.4269\n"
     ]
    },
    {
     "name": "stderr",
     "output_type": "stream",
     "text": [
      "NN Epoch 71         : 100%|██████████| 1/1 [00:00<00:00, 12.27it/s, loss=0.42]\n"
     ]
    },
    {
     "name": "stdout",
     "output_type": "stream",
     "text": [
      "Loss: 0.4209\n"
     ]
    },
    {
     "name": "stderr",
     "output_type": "stream",
     "text": [
      "NN Epoch 72         : 100%|██████████| 1/1 [00:00<00:00, 12.19it/s, loss=0.42]\n"
     ]
    },
    {
     "name": "stdout",
     "output_type": "stream",
     "text": [
      "Loss: 0.4204\n"
     ]
    },
    {
     "name": "stderr",
     "output_type": "stream",
     "text": [
      "NN Epoch 73         : 100%|██████████| 1/1 [00:00<00:00, 12.42it/s, loss=0.42]\n"
     ]
    },
    {
     "name": "stdout",
     "output_type": "stream",
     "text": [
      "Loss: 0.4170\n"
     ]
    },
    {
     "name": "stderr",
     "output_type": "stream",
     "text": [
      "NN Epoch 74         : 100%|██████████| 1/1 [00:00<00:00, 12.67it/s, loss=0.41]\n"
     ]
    },
    {
     "name": "stdout",
     "output_type": "stream",
     "text": [
      "Loss: 0.4103\n"
     ]
    },
    {
     "name": "stderr",
     "output_type": "stream",
     "text": [
      "NN Epoch 75         : 100%|██████████| 1/1 [00:00<00:00, 12.26it/s, loss=0.42]\n"
     ]
    },
    {
     "name": "stdout",
     "output_type": "stream",
     "text": [
      "Loss: 0.4240\n"
     ]
    },
    {
     "name": "stderr",
     "output_type": "stream",
     "text": [
      "NN Epoch 76         : 100%|██████████| 1/1 [00:00<00:00, 12.16it/s, loss=0.41]\n"
     ]
    },
    {
     "name": "stdout",
     "output_type": "stream",
     "text": [
      "Loss: 0.4131\n"
     ]
    },
    {
     "name": "stderr",
     "output_type": "stream",
     "text": [
      "NN Epoch 77         : 100%|██████████| 1/1 [00:00<00:00, 12.15it/s, loss=0.41]\n"
     ]
    },
    {
     "name": "stdout",
     "output_type": "stream",
     "text": [
      "Loss: 0.4090\n"
     ]
    },
    {
     "name": "stderr",
     "output_type": "stream",
     "text": [
      "NN Epoch 78         : 100%|██████████| 1/1 [00:00<00:00, 12.32it/s, loss=0.42]\n"
     ]
    },
    {
     "name": "stdout",
     "output_type": "stream",
     "text": [
      "Loss: 0.4195\n"
     ]
    },
    {
     "name": "stderr",
     "output_type": "stream",
     "text": [
      "NN Epoch 79         : 100%|██████████| 1/1 [00:00<00:00, 12.69it/s, loss=0.42]\n"
     ]
    },
    {
     "name": "stdout",
     "output_type": "stream",
     "text": [
      "Loss: 0.4163\n"
     ]
    },
    {
     "name": "stderr",
     "output_type": "stream",
     "text": [
      "NN Epoch 80         : 100%|██████████| 1/1 [00:00<00:00, 12.29it/s, loss=0.42]\n"
     ]
    },
    {
     "name": "stdout",
     "output_type": "stream",
     "text": [
      "Loss: 0.4235\n"
     ]
    },
    {
     "name": "stderr",
     "output_type": "stream",
     "text": [
      "NN Epoch 81         : 100%|██████████| 1/1 [00:00<00:00, 12.44it/s, loss=0.42]\n"
     ]
    },
    {
     "name": "stdout",
     "output_type": "stream",
     "text": [
      "Loss: 0.4225\n"
     ]
    },
    {
     "name": "stderr",
     "output_type": "stream",
     "text": [
      "NN Epoch 82         : 100%|██████████| 1/1 [00:00<00:00, 11.66it/s, loss=0.42]\n"
     ]
    },
    {
     "name": "stdout",
     "output_type": "stream",
     "text": [
      "Loss: 0.4162\n"
     ]
    },
    {
     "name": "stderr",
     "output_type": "stream",
     "text": [
      "NN Epoch 83         : 100%|██████████| 1/1 [00:00<00:00, 12.38it/s, loss=0.41]\n"
     ]
    },
    {
     "name": "stdout",
     "output_type": "stream",
     "text": [
      "Loss: 0.4075\n"
     ]
    },
    {
     "name": "stderr",
     "output_type": "stream",
     "text": [
      "NN Epoch 84         : 100%|██████████| 1/1 [00:00<00:00, 12.45it/s, loss=0.43]\n"
     ]
    },
    {
     "name": "stdout",
     "output_type": "stream",
     "text": [
      "Loss: 0.4299\n"
     ]
    },
    {
     "name": "stderr",
     "output_type": "stream",
     "text": [
      "NN Epoch 85         : 100%|██████████| 1/1 [00:00<00:00, 12.19it/s, loss=0.42]\n"
     ]
    },
    {
     "name": "stdout",
     "output_type": "stream",
     "text": [
      "Loss: 0.4205\n"
     ]
    },
    {
     "name": "stderr",
     "output_type": "stream",
     "text": [
      "NN Epoch 86         : 100%|██████████| 1/1 [00:00<00:00, 11.85it/s, loss=0.42]\n"
     ]
    },
    {
     "name": "stdout",
     "output_type": "stream",
     "text": [
      "Loss: 0.4160\n"
     ]
    },
    {
     "name": "stderr",
     "output_type": "stream",
     "text": [
      "NN Epoch 87         : 100%|██████████| 1/1 [00:00<00:00, 11.30it/s, loss=0.41]\n"
     ]
    },
    {
     "name": "stdout",
     "output_type": "stream",
     "text": [
      "Loss: 0.4127\n"
     ]
    },
    {
     "name": "stderr",
     "output_type": "stream",
     "text": [
      "NN Epoch 88         : 100%|██████████| 1/1 [00:00<00:00, 12.02it/s, loss=0.42]\n"
     ]
    },
    {
     "name": "stdout",
     "output_type": "stream",
     "text": [
      "Loss: 0.4171\n"
     ]
    },
    {
     "name": "stderr",
     "output_type": "stream",
     "text": [
      "NN Epoch 89         : 100%|██████████| 1/1 [00:00<00:00, 12.10it/s, loss=0.42]\n"
     ]
    },
    {
     "name": "stdout",
     "output_type": "stream",
     "text": [
      "Loss: 0.4233\n"
     ]
    },
    {
     "name": "stderr",
     "output_type": "stream",
     "text": [
      "NN Epoch 90         : 100%|██████████| 1/1 [00:00<00:00, 12.62it/s, loss=0.41]\n"
     ]
    },
    {
     "name": "stdout",
     "output_type": "stream",
     "text": [
      "Loss: 0.4096\n"
     ]
    },
    {
     "name": "stderr",
     "output_type": "stream",
     "text": [
      "NN Epoch 91         : 100%|██████████| 1/1 [00:00<00:00, 12.29it/s, loss=0.42]\n"
     ]
    },
    {
     "name": "stdout",
     "output_type": "stream",
     "text": [
      "Loss: 0.4163\n"
     ]
    },
    {
     "name": "stderr",
     "output_type": "stream",
     "text": [
      "NN Epoch 92         : 100%|██████████| 1/1 [00:00<00:00, 12.19it/s, loss=0.42]\n"
     ]
    },
    {
     "name": "stdout",
     "output_type": "stream",
     "text": [
      "Loss: 0.4168\n"
     ]
    },
    {
     "name": "stderr",
     "output_type": "stream",
     "text": [
      "NN Epoch 93         : 100%|██████████| 1/1 [00:00<00:00, 12.06it/s, loss=0.42]\n"
     ]
    },
    {
     "name": "stdout",
     "output_type": "stream",
     "text": [
      "Loss: 0.4213\n"
     ]
    },
    {
     "name": "stderr",
     "output_type": "stream",
     "text": [
      "NN Epoch 94         : 100%|██████████| 1/1 [00:00<00:00, 11.75it/s, loss=0.42]\n"
     ]
    },
    {
     "name": "stdout",
     "output_type": "stream",
     "text": [
      "Loss: 0.4191\n"
     ]
    },
    {
     "name": "stderr",
     "output_type": "stream",
     "text": [
      "NN Epoch 95         : 100%|██████████| 1/1 [00:00<00:00, 12.13it/s, loss=0.41]\n"
     ]
    },
    {
     "name": "stdout",
     "output_type": "stream",
     "text": [
      "Loss: 0.4150\n"
     ]
    },
    {
     "name": "stderr",
     "output_type": "stream",
     "text": [
      "NN Epoch 96         : 100%|██████████| 1/1 [00:00<00:00, 12.18it/s, loss=0.41]\n"
     ]
    },
    {
     "name": "stdout",
     "output_type": "stream",
     "text": [
      "Loss: 0.4124\n"
     ]
    },
    {
     "name": "stderr",
     "output_type": "stream",
     "text": [
      "NN Epoch 97         : 100%|██████████| 1/1 [00:00<00:00, 12.21it/s, loss=0.41]\n"
     ]
    },
    {
     "name": "stdout",
     "output_type": "stream",
     "text": [
      "Loss: 0.4056\n"
     ]
    },
    {
     "name": "stderr",
     "output_type": "stream",
     "text": [
      "NN Epoch 98         : 100%|██████████| 1/1 [00:00<00:00, 11.92it/s, loss=0.41]\n"
     ]
    },
    {
     "name": "stdout",
     "output_type": "stream",
     "text": [
      "Loss: 0.4148\n"
     ]
    },
    {
     "name": "stderr",
     "output_type": "stream",
     "text": [
      "NN Epoch 99         : 100%|██████████| 1/1 [00:00<00:00, 12.49it/s, loss=0.42]"
     ]
    },
    {
     "name": "stdout",
     "output_type": "stream",
     "text": [
      "Loss: 0.4152\n"
     ]
    },
    {
     "name": "stderr",
     "output_type": "stream",
     "text": [
      "\n"
     ]
    }
   ],
   "source": [
    "baseline_net = baseline.train(\n",
    "    device='cpu',\n",
    "    dataloader=dataloader,\n",
    "    num_node_features=1433,\n",
    "    learning_rate=0.01,\n",
    "    num_epochs=100,\n",
    "    model_path='baseline_net.pth'\n",
    ")"
   ],
   "metadata": {
    "collapsed": false,
    "ExecuteTime": {
     "end_time": "2024-02-14T05:45:30.394243Z",
     "start_time": "2024-02-14T05:45:21.971806Z"
    }
   },
   "id": "a9bab32dee646d5f"
  },
  {
   "cell_type": "code",
   "execution_count": 23,
   "outputs": [
    {
     "name": "stderr",
     "output_type": "stream",
     "text": [
      "CVAE Epoch 0        : 100%|██████████| 1/1 [00:00<00:00,  1.01it/s, loss=2.94]\n",
      "CVAE Epoch 1        : 100%|██████████| 1/1 [00:00<00:00,  1.37it/s, loss=2.90]\n",
      "CVAE Epoch 2        : 100%|██████████| 1/1 [00:00<00:00,  1.40it/s, loss=2.80]\n",
      "CVAE Epoch 3        : 100%|██████████| 1/1 [00:00<00:00,  1.33it/s, loss=2.76]\n",
      "CVAE Epoch 4        : 100%|██████████| 1/1 [00:00<00:00,  1.37it/s, loss=2.76]\n",
      "CVAE Epoch 5        : 100%|██████████| 1/1 [00:00<00:00,  1.43it/s, loss=2.67]\n",
      "CVAE Epoch 6        : 100%|██████████| 1/1 [00:00<00:00,  1.35it/s, loss=2.64]\n",
      "CVAE Epoch 7        : 100%|██████████| 1/1 [00:00<00:00,  1.36it/s, loss=2.66]\n",
      "CVAE Epoch 8        : 100%|██████████| 1/1 [00:00<00:00,  1.29it/s, loss=2.43]\n",
      "CVAE Epoch 9        : 100%|██████████| 1/1 [00:00<00:00,  1.33it/s, loss=2.49]\n",
      "CVAE Epoch 10       : 100%|██████████| 1/1 [00:00<00:00,  1.39it/s, loss=2.45]\n",
      "CVAE Epoch 11       : 100%|██████████| 1/1 [00:00<00:00,  1.37it/s, loss=2.37]\n",
      "CVAE Epoch 12       : 100%|██████████| 1/1 [00:00<00:00,  1.36it/s, loss=2.39]\n",
      "CVAE Epoch 13       : 100%|██████████| 1/1 [00:00<00:00,  1.35it/s, loss=2.36]\n",
      "CVAE Epoch 14       : 100%|██████████| 1/1 [00:00<00:00,  1.34it/s, loss=2.22]\n",
      "CVAE Epoch 15       : 100%|██████████| 1/1 [00:00<00:00,  1.21it/s, loss=2.19]\n",
      "CVAE Epoch 16       : 100%|██████████| 1/1 [00:00<00:00,  1.34it/s, loss=2.10]\n",
      "CVAE Epoch 17       : 100%|██████████| 1/1 [00:00<00:00,  1.39it/s, loss=2.15]\n",
      "CVAE Epoch 18       : 100%|██████████| 1/1 [00:00<00:00,  1.37it/s, loss=2.09]\n",
      "CVAE Epoch 19       : 100%|██████████| 1/1 [00:00<00:00,  1.40it/s, loss=2.08]\n",
      "CVAE Epoch 20       : 100%|██████████| 1/1 [00:00<00:00,  1.34it/s, loss=1.98]\n",
      "CVAE Epoch 21       : 100%|██████████| 1/1 [00:00<00:00,  1.35it/s, loss=1.96]\n",
      "CVAE Epoch 22       : 100%|██████████| 1/1 [00:00<00:00,  1.39it/s, loss=1.89]\n",
      "CVAE Epoch 23       : 100%|██████████| 1/1 [00:00<00:00,  1.34it/s, loss=1.82]\n",
      "CVAE Epoch 24       : 100%|██████████| 1/1 [00:00<00:00,  1.37it/s, loss=1.77]\n",
      "CVAE Epoch 25       : 100%|██████████| 1/1 [00:00<00:00,  1.38it/s, loss=1.70]\n",
      "CVAE Epoch 26       : 100%|██████████| 1/1 [00:00<00:00,  1.37it/s, loss=1.70]\n",
      "CVAE Epoch 27       : 100%|██████████| 1/1 [00:00<00:00,  1.39it/s, loss=1.68]\n",
      "CVAE Epoch 28       : 100%|██████████| 1/1 [00:00<00:00,  1.38it/s, loss=1.53]\n",
      "CVAE Epoch 29       : 100%|██████████| 1/1 [00:00<00:00,  1.35it/s, loss=1.47]\n",
      "CVAE Epoch 30       : 100%|██████████| 1/1 [00:00<00:00,  1.31it/s, loss=1.42]\n",
      "CVAE Epoch 31       : 100%|██████████| 1/1 [00:00<00:00,  1.35it/s, loss=1.43]\n",
      "CVAE Epoch 32       : 100%|██████████| 1/1 [00:00<00:00,  1.41it/s, loss=1.40]\n",
      "CVAE Epoch 33       : 100%|██████████| 1/1 [00:00<00:00,  1.37it/s, loss=1.28]\n",
      "CVAE Epoch 34       : 100%|██████████| 1/1 [00:00<00:00,  1.35it/s, loss=1.29]\n",
      "CVAE Epoch 35       : 100%|██████████| 1/1 [00:00<00:00,  1.39it/s, loss=1.18]\n",
      "CVAE Epoch 36       : 100%|██████████| 1/1 [00:00<00:00,  1.36it/s, loss=1.17]\n",
      "CVAE Epoch 37       : 100%|██████████| 1/1 [00:00<00:00,  1.33it/s, loss=1.09]\n",
      "CVAE Epoch 38       : 100%|██████████| 1/1 [00:00<00:00,  1.40it/s, loss=1.03]\n",
      "CVAE Epoch 39       : 100%|██████████| 1/1 [00:00<00:00,  1.25it/s, loss=1.01]\n",
      "CVAE Epoch 40       : 100%|██████████| 1/1 [00:00<00:00,  1.32it/s, loss=0.98]\n",
      "CVAE Epoch 41       : 100%|██████████| 1/1 [00:00<00:00,  1.37it/s, loss=0.98]\n",
      "CVAE Epoch 42       : 100%|██████████| 1/1 [00:00<00:00,  1.36it/s, loss=0.94]\n",
      "CVAE Epoch 43       : 100%|██████████| 1/1 [00:00<00:00,  1.34it/s, loss=0.90]\n",
      "CVAE Epoch 44       : 100%|██████████| 1/1 [00:00<00:00,  1.37it/s, loss=0.87]\n",
      "CVAE Epoch 45       : 100%|██████████| 1/1 [00:00<00:00,  1.36it/s, loss=0.87]\n",
      "CVAE Epoch 46       : 100%|██████████| 1/1 [00:00<00:00,  1.40it/s, loss=0.83]\n",
      "CVAE Epoch 47       : 100%|██████████| 1/1 [00:00<00:00,  1.37it/s, loss=0.80]\n",
      "CVAE Epoch 48       : 100%|██████████| 1/1 [00:00<00:00,  1.33it/s, loss=0.80]\n",
      "CVAE Epoch 49       : 100%|██████████| 1/1 [00:00<00:00,  1.32it/s, loss=0.78]\n",
      "CVAE Epoch 50       : 100%|██████████| 1/1 [00:00<00:00,  1.32it/s, loss=0.76]\n",
      "CVAE Epoch 51       : 100%|██████████| 1/1 [00:00<00:00,  1.40it/s, loss=0.73]\n",
      "CVAE Epoch 52       : 100%|██████████| 1/1 [00:00<00:00,  1.38it/s, loss=0.72]\n",
      "CVAE Epoch 53       : 100%|██████████| 1/1 [00:00<00:00,  1.35it/s, loss=0.72]\n",
      "CVAE Epoch 54       : 100%|██████████| 1/1 [00:00<00:00,  1.38it/s, loss=0.69]\n",
      "CVAE Epoch 55       : 100%|██████████| 1/1 [00:00<00:00,  1.38it/s, loss=0.68]\n",
      "CVAE Epoch 56       : 100%|██████████| 1/1 [00:00<00:00,  1.37it/s, loss=0.68]\n",
      "CVAE Epoch 57       : 100%|██████████| 1/1 [00:00<00:00,  1.36it/s, loss=0.67]\n",
      "CVAE Epoch 58       : 100%|██████████| 1/1 [00:00<00:00,  1.39it/s, loss=0.67]\n",
      "CVAE Epoch 59       : 100%|██████████| 1/1 [00:00<00:00,  1.37it/s, loss=0.65]\n",
      "CVAE Epoch 60       : 100%|██████████| 1/1 [00:00<00:00,  1.36it/s, loss=0.63]\n",
      "CVAE Epoch 61       : 100%|██████████| 1/1 [00:00<00:00,  1.38it/s, loss=0.62]\n",
      "CVAE Epoch 62       : 100%|██████████| 1/1 [00:00<00:00,  1.38it/s, loss=0.63]\n",
      "CVAE Epoch 63       : 100%|██████████| 1/1 [00:00<00:00,  1.37it/s, loss=0.61]\n",
      "CVAE Epoch 64       : 100%|██████████| 1/1 [00:00<00:00,  1.42it/s, loss=0.62]\n",
      "CVAE Epoch 65       : 100%|██████████| 1/1 [00:00<00:00,  1.31it/s, loss=0.60]\n",
      "CVAE Epoch 66       : 100%|██████████| 1/1 [00:01<00:00,  1.09s/it, loss=0.59]\n",
      "CVAE Epoch 67       : 100%|██████████| 1/1 [00:00<00:00,  1.34it/s, loss=0.58]\n",
      "CVAE Epoch 68       : 100%|██████████| 1/1 [00:00<00:00,  1.37it/s, loss=0.58]\n",
      "CVAE Epoch 69       : 100%|██████████| 1/1 [00:00<00:00,  1.38it/s, loss=0.57]\n",
      "CVAE Epoch 70       : 100%|██████████| 1/1 [00:00<00:00,  1.38it/s, loss=0.58]\n",
      "CVAE Epoch 71       : 100%|██████████| 1/1 [00:00<00:00,  1.11it/s, loss=0.57]\n",
      "CVAE Epoch 72       : 100%|██████████| 1/1 [00:00<00:00,  1.21it/s, loss=0.56]\n",
      "CVAE Epoch 73       : 100%|██████████| 1/1 [00:00<00:00,  1.17it/s, loss=0.56]\n",
      "CVAE Epoch 74       : 100%|██████████| 1/1 [00:00<00:00,  1.37it/s, loss=0.55]\n",
      "CVAE Epoch 75       : 100%|██████████| 1/1 [00:00<00:00,  1.41it/s, loss=0.55]\n",
      "CVAE Epoch 76       : 100%|██████████| 1/1 [00:00<00:00,  1.40it/s, loss=0.55]\n",
      "CVAE Epoch 77       : 100%|██████████| 1/1 [00:00<00:00,  1.29it/s, loss=0.54]\n",
      "CVAE Epoch 78       : 100%|██████████| 1/1 [00:00<00:00,  1.29it/s, loss=0.55]\n",
      "CVAE Epoch 79       : 100%|██████████| 1/1 [00:00<00:00,  1.37it/s, loss=0.53]\n",
      "CVAE Epoch 80       : 100%|██████████| 1/1 [00:00<00:00,  1.34it/s, loss=0.54]\n",
      "CVAE Epoch 81       : 100%|██████████| 1/1 [00:00<00:00,  1.40it/s, loss=0.53]\n",
      "CVAE Epoch 82       : 100%|██████████| 1/1 [00:00<00:00,  1.36it/s, loss=0.53]\n",
      "CVAE Epoch 83       : 100%|██████████| 1/1 [00:00<00:00,  1.37it/s, loss=0.53]\n",
      "CVAE Epoch 84       : 100%|██████████| 1/1 [00:00<00:00,  1.42it/s, loss=0.53]\n",
      "CVAE Epoch 85       : 100%|██████████| 1/1 [00:00<00:00,  1.41it/s, loss=0.53]\n",
      "CVAE Epoch 86       : 100%|██████████| 1/1 [00:00<00:00,  1.34it/s, loss=0.52]\n",
      "CVAE Epoch 87       : 100%|██████████| 1/1 [00:00<00:00,  1.34it/s, loss=0.51]\n",
      "CVAE Epoch 88       : 100%|██████████| 1/1 [00:00<00:00,  1.34it/s, loss=0.52]\n",
      "CVAE Epoch 89       : 100%|██████████| 1/1 [00:00<00:00,  1.31it/s, loss=0.51]\n",
      "CVAE Epoch 90       : 100%|██████████| 1/1 [00:00<00:00,  1.32it/s, loss=0.51]\n",
      "CVAE Epoch 91       : 100%|██████████| 1/1 [00:00<00:00,  1.18it/s, loss=0.51]\n",
      "CVAE Epoch 92       : 100%|██████████| 1/1 [00:01<00:00,  1.15s/it, loss=0.51]\n",
      "CVAE Epoch 93       : 100%|██████████| 1/1 [00:01<00:00,  1.10s/it, loss=0.50]\n",
      "CVAE Epoch 94       : 100%|██████████| 1/1 [00:00<00:00,  1.33it/s, loss=0.51]\n",
      "CVAE Epoch 95       : 100%|██████████| 1/1 [00:00<00:00,  1.33it/s, loss=0.50]\n",
      "CVAE Epoch 96       : 100%|██████████| 1/1 [00:00<00:00,  1.40it/s, loss=0.50]\n",
      "CVAE Epoch 97       : 100%|██████████| 1/1 [00:00<00:00,  1.34it/s, loss=0.48]\n",
      "CVAE Epoch 98       : 100%|██████████| 1/1 [00:00<00:00,  1.36it/s, loss=0.49]\n",
      "CVAE Epoch 99       : 100%|██████████| 1/1 [00:00<00:00,  1.35it/s, loss=0.49]\n",
      "CVAE Epoch 100      : 100%|██████████| 1/1 [00:00<00:00,  1.36it/s, loss=0.49]\n",
      "CVAE Epoch 101      : 100%|██████████| 1/1 [00:00<00:00,  1.37it/s, loss=0.49]\n",
      "CVAE Epoch 102      : 100%|██████████| 1/1 [00:00<00:00,  1.35it/s, loss=0.48]\n",
      "CVAE Epoch 103      : 100%|██████████| 1/1 [00:00<00:00,  1.36it/s, loss=0.48]\n",
      "CVAE Epoch 104      : 100%|██████████| 1/1 [00:00<00:00,  1.35it/s, loss=0.48]\n",
      "CVAE Epoch 105      : 100%|██████████| 1/1 [00:00<00:00,  1.33it/s, loss=0.48]\n",
      "CVAE Epoch 106      : 100%|██████████| 1/1 [00:00<00:00,  1.40it/s, loss=0.47]\n",
      "CVAE Epoch 107      : 100%|██████████| 1/1 [00:00<00:00,  1.42it/s, loss=0.48]\n",
      "CVAE Epoch 108      : 100%|██████████| 1/1 [00:00<00:00,  1.43it/s, loss=0.47]\n",
      "CVAE Epoch 109      : 100%|██████████| 1/1 [00:00<00:00,  1.37it/s, loss=0.48]\n",
      "CVAE Epoch 110      : 100%|██████████| 1/1 [00:00<00:00,  1.37it/s, loss=0.47]\n",
      "CVAE Epoch 111      : 100%|██████████| 1/1 [00:00<00:00,  1.39it/s, loss=0.48]\n",
      "CVAE Epoch 112      : 100%|██████████| 1/1 [00:00<00:00,  1.41it/s, loss=0.48]\n",
      "CVAE Epoch 113      : 100%|██████████| 1/1 [00:00<00:00,  1.37it/s, loss=0.48]\n",
      "CVAE Epoch 114      : 100%|██████████| 1/1 [00:00<00:00,  1.40it/s, loss=0.47]\n",
      "CVAE Epoch 115      : 100%|██████████| 1/1 [00:00<00:00,  1.37it/s, loss=0.48]\n",
      "CVAE Epoch 116      : 100%|██████████| 1/1 [00:00<00:00,  1.35it/s, loss=0.48]\n",
      "CVAE Epoch 117      : 100%|██████████| 1/1 [00:00<00:00,  1.37it/s, loss=0.47]\n",
      "CVAE Epoch 118      : 100%|██████████| 1/1 [00:00<00:00,  1.37it/s, loss=0.47]\n",
      "CVAE Epoch 119      : 100%|██████████| 1/1 [00:00<00:00,  1.37it/s, loss=0.47]\n",
      "CVAE Epoch 120      : 100%|██████████| 1/1 [00:00<00:00,  1.36it/s, loss=0.47]\n",
      "CVAE Epoch 121      : 100%|██████████| 1/1 [00:00<00:00,  1.35it/s, loss=0.47]\n",
      "CVAE Epoch 122      : 100%|██████████| 1/1 [00:00<00:00,  1.33it/s, loss=0.47]\n",
      "CVAE Epoch 123      : 100%|██████████| 1/1 [00:00<00:00,  1.40it/s, loss=0.46]\n",
      "CVAE Epoch 124      : 100%|██████████| 1/1 [00:00<00:00,  1.42it/s, loss=0.47]\n",
      "CVAE Epoch 125      : 100%|██████████| 1/1 [00:00<00:00,  1.37it/s, loss=0.46]\n",
      "CVAE Epoch 126      : 100%|██████████| 1/1 [00:00<00:00,  1.36it/s, loss=0.47]\n",
      "CVAE Epoch 127      : 100%|██████████| 1/1 [00:00<00:00,  1.39it/s, loss=0.46]\n",
      "CVAE Epoch 128      : 100%|██████████| 1/1 [00:00<00:00,  1.36it/s, loss=0.47]\n",
      "CVAE Epoch 129      : 100%|██████████| 1/1 [00:00<00:00,  1.36it/s, loss=0.46]\n",
      "CVAE Epoch 130      : 100%|██████████| 1/1 [00:00<00:00,  1.38it/s, loss=0.46]\n",
      "CVAE Epoch 131      : 100%|██████████| 1/1 [00:00<00:00,  1.36it/s, loss=0.46]\n",
      "CVAE Epoch 132      : 100%|██████████| 1/1 [00:00<00:00,  1.39it/s, loss=0.46]\n",
      "CVAE Epoch 133      : 100%|██████████| 1/1 [00:00<00:00,  1.39it/s, loss=0.47]\n",
      "CVAE Epoch 134      : 100%|██████████| 1/1 [00:00<00:00,  1.36it/s, loss=0.45]\n",
      "CVAE Epoch 135      : 100%|██████████| 1/1 [00:00<00:00,  1.39it/s, loss=0.46]\n",
      "CVAE Epoch 136      : 100%|██████████| 1/1 [00:00<00:00,  1.35it/s, loss=0.45]\n",
      "CVAE Epoch 137      : 100%|██████████| 1/1 [00:00<00:00,  1.41it/s, loss=0.46]\n",
      "CVAE Epoch 138      : 100%|██████████| 1/1 [00:00<00:00,  1.39it/s, loss=0.45]\n",
      "CVAE Epoch 139      : 100%|██████████| 1/1 [00:00<00:00,  1.39it/s, loss=0.45]\n",
      "CVAE Epoch 140      : 100%|██████████| 1/1 [00:00<00:00,  1.37it/s, loss=0.46]\n",
      "CVAE Epoch 141      : 100%|██████████| 1/1 [00:00<00:00,  1.38it/s, loss=0.46]\n",
      "CVAE Epoch 142      : 100%|██████████| 1/1 [00:00<00:00,  1.34it/s, loss=0.46]\n",
      "CVAE Epoch 143      : 100%|██████████| 1/1 [00:00<00:00,  1.38it/s, loss=0.47]\n",
      "CVAE Epoch 144      : 100%|██████████| 1/1 [00:00<00:00,  1.34it/s, loss=0.45]\n",
      "CVAE Epoch 145      : 100%|██████████| 1/1 [00:00<00:00,  1.37it/s, loss=0.46]\n",
      "CVAE Epoch 146      : 100%|██████████| 1/1 [00:00<00:00,  1.36it/s, loss=0.46]\n",
      "CVAE Epoch 147      : 100%|██████████| 1/1 [00:00<00:00,  1.37it/s, loss=0.46]\n",
      "CVAE Epoch 148      : 100%|██████████| 1/1 [00:00<00:00,  1.36it/s, loss=0.45]\n",
      "CVAE Epoch 149      : 100%|██████████| 1/1 [00:00<00:00,  1.39it/s, loss=0.45]\n",
      "CVAE Epoch 150      : 100%|██████████| 1/1 [00:00<00:00,  1.36it/s, loss=0.46]\n",
      "CVAE Epoch 151      : 100%|██████████| 1/1 [00:00<00:00,  1.36it/s, loss=0.46]\n",
      "CVAE Epoch 152      : 100%|██████████| 1/1 [00:00<00:00,  1.39it/s, loss=0.45]\n",
      "CVAE Epoch 153      : 100%|██████████| 1/1 [00:00<00:00,  1.24it/s, loss=0.46]\n",
      "CVAE Epoch 154      : 100%|██████████| 1/1 [00:00<00:00,  1.26it/s, loss=0.45]\n",
      "CVAE Epoch 155      : 100%|██████████| 1/1 [00:00<00:00,  1.36it/s, loss=0.45]\n",
      "CVAE Epoch 156      : 100%|██████████| 1/1 [00:00<00:00,  1.35it/s, loss=0.45]\n",
      "CVAE Epoch 157      : 100%|██████████| 1/1 [00:00<00:00,  1.38it/s, loss=0.46]\n",
      "CVAE Epoch 158      : 100%|██████████| 1/1 [00:00<00:00,  1.38it/s, loss=0.45]\n",
      "CVAE Epoch 159      : 100%|██████████| 1/1 [00:00<00:00,  1.36it/s, loss=0.45]\n",
      "CVAE Epoch 160      : 100%|██████████| 1/1 [00:00<00:00,  1.38it/s, loss=0.45]\n",
      "CVAE Epoch 161      : 100%|██████████| 1/1 [00:00<00:00,  1.34it/s, loss=0.45]\n",
      "CVAE Epoch 162      : 100%|██████████| 1/1 [00:00<00:00,  1.36it/s, loss=0.45]\n",
      "CVAE Epoch 163      : 100%|██████████| 1/1 [00:00<00:00,  1.36it/s, loss=0.45]\n",
      "CVAE Epoch 164      : 100%|██████████| 1/1 [00:00<00:00,  1.38it/s, loss=0.44]\n",
      "CVAE Epoch 165      : 100%|██████████| 1/1 [00:00<00:00,  1.34it/s, loss=0.44]\n",
      "CVAE Epoch 166      : 100%|██████████| 1/1 [00:00<00:00,  1.39it/s, loss=0.45]\n",
      "CVAE Epoch 167      : 100%|██████████| 1/1 [00:00<00:00,  1.38it/s, loss=0.45]\n",
      "CVAE Epoch 168      : 100%|██████████| 1/1 [00:00<00:00,  1.41it/s, loss=0.45]\n",
      "CVAE Epoch 169      : 100%|██████████| 1/1 [00:00<00:00,  1.34it/s, loss=0.45]\n",
      "CVAE Epoch 170      : 100%|██████████| 1/1 [00:00<00:00,  1.34it/s, loss=0.45]\n",
      "CVAE Epoch 171      : 100%|██████████| 1/1 [00:00<00:00,  1.30it/s, loss=0.44]\n",
      "CVAE Epoch 172      : 100%|██████████| 1/1 [00:00<00:00,  1.35it/s, loss=0.44]\n",
      "CVAE Epoch 173      : 100%|██████████| 1/1 [00:00<00:00,  1.36it/s, loss=0.45]\n",
      "CVAE Epoch 174      : 100%|██████████| 1/1 [00:00<00:00,  1.42it/s, loss=0.44]\n",
      "CVAE Epoch 175      : 100%|██████████| 1/1 [00:00<00:00,  1.37it/s, loss=0.44]\n",
      "CVAE Epoch 176      : 100%|██████████| 1/1 [00:00<00:00,  1.36it/s, loss=0.45]\n",
      "CVAE Epoch 177      : 100%|██████████| 1/1 [00:00<00:00,  1.37it/s, loss=0.44]\n",
      "CVAE Epoch 178      : 100%|██████████| 1/1 [00:00<00:00,  1.40it/s, loss=0.43]\n",
      "CVAE Epoch 179      : 100%|██████████| 1/1 [00:00<00:00,  1.33it/s, loss=0.44]\n",
      "CVAE Epoch 180      : 100%|██████████| 1/1 [00:00<00:00,  1.36it/s, loss=0.44]\n",
      "CVAE Epoch 181      : 100%|██████████| 1/1 [00:00<00:00,  1.35it/s, loss=0.45]\n",
      "CVAE Epoch 182      : 100%|██████████| 1/1 [00:00<00:00,  1.35it/s, loss=0.44]\n",
      "CVAE Epoch 183      : 100%|██████████| 1/1 [00:00<00:00,  1.34it/s, loss=0.45]\n",
      "CVAE Epoch 184      : 100%|██████████| 1/1 [00:00<00:00,  1.35it/s, loss=0.44]\n",
      "CVAE Epoch 185      : 100%|██████████| 1/1 [00:00<00:00,  1.37it/s, loss=0.44]\n",
      "CVAE Epoch 186      : 100%|██████████| 1/1 [00:00<00:00,  1.37it/s, loss=0.44]\n",
      "CVAE Epoch 187      : 100%|██████████| 1/1 [00:00<00:00,  1.37it/s, loss=0.44]\n",
      "CVAE Epoch 188      : 100%|██████████| 1/1 [00:00<00:00,  1.34it/s, loss=0.45]\n",
      "CVAE Epoch 189      : 100%|██████████| 1/1 [00:00<00:00,  1.41it/s, loss=0.45]\n",
      "CVAE Epoch 190      : 100%|██████████| 1/1 [00:00<00:00,  1.35it/s, loss=0.44]\n",
      "CVAE Epoch 191      : 100%|██████████| 1/1 [00:00<00:00,  1.36it/s, loss=0.45]\n",
      "CVAE Epoch 192      : 100%|██████████| 1/1 [00:00<00:00,  1.35it/s, loss=0.45]\n",
      "CVAE Epoch 193      : 100%|██████████| 1/1 [00:00<00:00,  1.36it/s, loss=0.43]\n",
      "CVAE Epoch 194      : 100%|██████████| 1/1 [00:00<00:00,  1.36it/s, loss=0.45]\n",
      "CVAE Epoch 195      : 100%|██████████| 1/1 [00:00<00:00,  1.39it/s, loss=0.43]\n",
      "CVAE Epoch 196      : 100%|██████████| 1/1 [00:00<00:00,  1.37it/s, loss=0.44]\n",
      "CVAE Epoch 197      : 100%|██████████| 1/1 [00:00<00:00,  1.41it/s, loss=0.44]\n",
      "CVAE Epoch 198      : 100%|██████████| 1/1 [00:00<00:00,  1.41it/s, loss=0.44]\n",
      "CVAE Epoch 199      : 100%|██████████| 1/1 [00:00<00:00,  1.36it/s, loss=0.43]\n"
     ]
    }
   ],
   "source": [
    "cgvae_net = cgvae.train(\n",
    "    device='cpu',\n",
    "    dataloader=dataloader,\n",
    "    learning_rate=0.001,\n",
    "    num_epochs=200,\n",
    "    pre_trained_baseline_net=baseline_net\n",
    ")"
   ],
   "metadata": {
    "collapsed": false,
    "ExecuteTime": {
     "end_time": "2024-02-14T05:55:10.737241Z",
     "start_time": "2024-02-14T05:52:41.831573Z"
    }
   },
   "id": "e7c426069f8680ec"
  },
  {
   "cell_type": "code",
   "outputs": [],
   "source": [],
   "metadata": {
    "collapsed": false
   },
   "id": "59052f996ee8a6d6",
   "execution_count": null
  }
 ],
 "metadata": {
  "kernelspec": {
   "display_name": "Python 3",
   "language": "python",
   "name": "python3"
  },
  "language_info": {
   "codemirror_mode": {
    "name": "ipython",
    "version": 2
   },
   "file_extension": ".py",
   "mimetype": "text/x-python",
   "name": "python",
   "nbconvert_exporter": "python",
   "pygments_lexer": "ipython2",
   "version": "2.7.6"
  }
 },
 "nbformat": 4,
 "nbformat_minor": 5
}
